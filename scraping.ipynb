{
  "nbformat": 4,
  "nbformat_minor": 0,
  "metadata": {
    "colab": {
      "provenance": []
    },
    "kernelspec": {
      "name": "python3",
      "display_name": "Python 3"
    },
    "language_info": {
      "name": "python"
    }
  },
  "cells": [
    {
      "cell_type": "markdown",
      "source": [
        "## Libraries"
      ],
      "metadata": {
        "id": "ApCjHLbpvWdY"
      }
    },
    {
      "cell_type": "code",
      "execution_count": null,
      "metadata": {
        "colab": {
          "base_uri": "https://localhost:8080/"
        },
        "id": "u_Xh11Kquavr",
        "outputId": "8243e70c-d6b5-4939-934e-94d571059b45"
      },
      "outputs": [
        {
          "output_type": "stream",
          "name": "stdout",
          "text": [
            "Collecting google-play-scraper\n",
            "  Downloading google_play_scraper-1.2.7-py3-none-any.whl.metadata (50 kB)\n",
            "\u001b[?25l     \u001b[90m━━━━━━━━━━━━━━━━━━━━━━━━━━━━━━━━━━━━━━━━\u001b[0m \u001b[32m0.0/50.2 kB\u001b[0m \u001b[31m?\u001b[0m eta \u001b[36m-:--:--\u001b[0m\r\u001b[2K     \u001b[90m━━━━━━━━━━━━━━━━━━━━━━━━━━━━━━━━━━━━━━━━\u001b[0m \u001b[32m50.2/50.2 kB\u001b[0m \u001b[31m1.4 MB/s\u001b[0m eta \u001b[36m0:00:00\u001b[0m\n",
            "\u001b[?25hDownloading google_play_scraper-1.2.7-py3-none-any.whl (28 kB)\n",
            "Installing collected packages: google-play-scraper\n",
            "Successfully installed google-play-scraper-1.2.7\n"
          ]
        }
      ],
      "source": [
        "pip install google-play-scraper"
      ]
    },
    {
      "cell_type": "markdown",
      "source": [
        "## Scraping from Playstore"
      ],
      "metadata": {
        "id": "i195RLJ3vR3t"
      }
    },
    {
      "cell_type": "code",
      "source": [
        "from google_play_scraper import reviews, Sort\n",
        "import pandas as pd\n",
        "\n",
        "app_id = \"com.mobile.legends\"\n",
        "lang = 'en'\n",
        "country = 'us'\n",
        "\n",
        "def scrape_reviews(app_id, score_range, target_count):\n",
        "    all_reviews = []  # Variabel untuk menyimpan semua ulasan\n",
        "    while len(all_reviews) < target_count:\n",
        "        for score in score_range:\n",
        "            reviews_batch, _ = reviews(\n",
        "                app_id,\n",
        "                lang=lang,\n",
        "                country=country,\n",
        "                sort=Sort.MOST_RELEVANT,\n",
        "                filter_score_with=score\n",
        "            )\n",
        "            all_reviews.extend(reviews_batch)  # Tambahkan batch ulasan ke list\n",
        "            if len(all_reviews) >= target_count:\n",
        "                break\n",
        "        if len(reviews_batch) == 0:  # Berhenti jika tidak ada ulasan baru\n",
        "            break\n",
        "    return pd.DataFrame(all_reviews[:target_count])\n",
        "\n",
        "# Scrape masing-masing kelas\n",
        "negative_reviews = scrape_reviews(app_id, [1, 2], 5000)\n",
        "neutral_reviews = scrape_reviews(app_id, [3], 5000)\n",
        "positive_reviews = scrape_reviews(app_id, [4, 5], 5000)\n",
        "\n",
        "# Gabungkan semua data\n",
        "data = pd.concat([negative_reviews, neutral_reviews, positive_reviews])\n",
        "\n",
        "# Simpan ke file CSV\n",
        "data.to_csv('mobile_legends_reviews.csv', index=False)\n",
        "print('Successfully scraped and saved!')\n"
      ],
      "metadata": {
        "colab": {
          "base_uri": "https://localhost:8080/"
        },
        "id": "jFRX96KUQprF",
        "outputId": "4d60151a-442d-429f-beea-a6570d5ec13a"
      },
      "execution_count": null,
      "outputs": [
        {
          "output_type": "stream",
          "name": "stdout",
          "text": [
            "Successfully scraped and saved!\n"
          ]
        }
      ]
    }
  ]
}