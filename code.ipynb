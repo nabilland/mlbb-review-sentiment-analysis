{
  "nbformat": 4,
  "nbformat_minor": 0,
  "metadata": {
    "colab": {
      "provenance": [],
      "toc_visible": true
    },
    "kernelspec": {
      "name": "python3",
      "display_name": "Python 3"
    },
    "language_info": {
      "name": "python"
    }
  },
  "cells": [
    {
      "cell_type": "markdown",
      "source": [
        "## Libraries"
      ],
      "metadata": {
        "id": "ar-8CPbJ6Nzx"
      }
    },
    {
      "cell_type": "code",
      "execution_count": 48,
      "metadata": {
        "id": "dSJZwjE95tgs",
        "colab": {
          "base_uri": "https://localhost:8080/"
        },
        "outputId": "b1678c49-aabf-444b-b77b-ab81bfb6b1b4"
      },
      "outputs": [
        {
          "output_type": "stream",
          "name": "stderr",
          "text": [
            "[nltk_data] Downloading package punkt_tab to /root/nltk_data...\n",
            "[nltk_data]   Package punkt_tab is already up-to-date!\n",
            "[nltk_data] Downloading package stopwords to /root/nltk_data...\n",
            "[nltk_data]   Package stopwords is already up-to-date!\n",
            "[nltk_data] Downloading package wordnet to /root/nltk_data...\n",
            "[nltk_data]   Package wordnet is already up-to-date!\n",
            "[nltk_data] Downloading package omw-1.4 to /root/nltk_data...\n",
            "[nltk_data]   Package omw-1.4 is already up-to-date!\n"
          ]
        }
      ],
      "source": [
        "import pandas as pd\n",
        "import numpy as np\n",
        "import matplotlib.pyplot as plt\n",
        "import seaborn as sns\n",
        "import re\n",
        "import string\n",
        "import tensorflow as tf\n",
        "import nltk\n",
        "nltk.download('punkt_tab')\n",
        "nltk.download('stopwords')\n",
        "nltk.download('wordnet')\n",
        "nltk.download('omw-1.4')\n",
        "from nltk.tokenize import word_tokenize\n",
        "from nltk.corpus import stopwords\n",
        "from nltk.stem import WordNetLemmatizer\n",
        "from tensorflow.keras.models import Sequential\n",
        "from tensorflow.keras.layers import Embedding, LSTM, GRU, Bidirectional, Dense, Dropout\n",
        "from tensorflow.keras.preprocessing.sequence import pad_sequences\n",
        "from tensorflow.keras.preprocessing.text import Tokenizer\n",
        "from tensorflow.keras.utils import to_categorical\n",
        "from tensorflow.keras.callbacks import EarlyStopping, ReduceLROnPlateau\n",
        "from sklearn.preprocessing import LabelEncoder\n",
        "from sklearn.model_selection import train_test_split\n",
        "from sklearn.metrics import classification_report, accuracy_score, confusion_matrix, ConfusionMatrixDisplay"
      ]
    },
    {
      "cell_type": "code",
      "source": [
        "!pip install --upgrade tensorflow"
      ],
      "metadata": {
        "colab": {
          "base_uri": "https://localhost:8080/"
        },
        "id": "UByLpoEJCKHf",
        "outputId": "08ca12ee-66d1-4a60-dd05-a3d8d880edea"
      },
      "execution_count": 3,
      "outputs": [
        {
          "output_type": "stream",
          "name": "stdout",
          "text": [
            "Requirement already satisfied: tensorflow in /usr/local/lib/python3.11/dist-packages (2.18.0)\n",
            "Requirement already satisfied: absl-py>=1.0.0 in /usr/local/lib/python3.11/dist-packages (from tensorflow) (1.4.0)\n",
            "Requirement already satisfied: astunparse>=1.6.0 in /usr/local/lib/python3.11/dist-packages (from tensorflow) (1.6.3)\n",
            "Requirement already satisfied: flatbuffers>=24.3.25 in /usr/local/lib/python3.11/dist-packages (from tensorflow) (24.12.23)\n",
            "Requirement already satisfied: gast!=0.5.0,!=0.5.1,!=0.5.2,>=0.2.1 in /usr/local/lib/python3.11/dist-packages (from tensorflow) (0.6.0)\n",
            "Requirement already satisfied: google-pasta>=0.1.1 in /usr/local/lib/python3.11/dist-packages (from tensorflow) (0.2.0)\n",
            "Requirement already satisfied: libclang>=13.0.0 in /usr/local/lib/python3.11/dist-packages (from tensorflow) (18.1.1)\n",
            "Requirement already satisfied: opt-einsum>=2.3.2 in /usr/local/lib/python3.11/dist-packages (from tensorflow) (3.4.0)\n",
            "Requirement already satisfied: packaging in /usr/local/lib/python3.11/dist-packages (from tensorflow) (24.2)\n",
            "Requirement already satisfied: protobuf!=4.21.0,!=4.21.1,!=4.21.2,!=4.21.3,!=4.21.4,!=4.21.5,<6.0.0dev,>=3.20.3 in /usr/local/lib/python3.11/dist-packages (from tensorflow) (4.25.5)\n",
            "Requirement already satisfied: requests<3,>=2.21.0 in /usr/local/lib/python3.11/dist-packages (from tensorflow) (2.32.3)\n",
            "Requirement already satisfied: setuptools in /usr/local/lib/python3.11/dist-packages (from tensorflow) (75.1.0)\n",
            "Requirement already satisfied: six>=1.12.0 in /usr/local/lib/python3.11/dist-packages (from tensorflow) (1.17.0)\n",
            "Requirement already satisfied: termcolor>=1.1.0 in /usr/local/lib/python3.11/dist-packages (from tensorflow) (2.5.0)\n",
            "Requirement already satisfied: typing-extensions>=3.6.6 in /usr/local/lib/python3.11/dist-packages (from tensorflow) (4.12.2)\n",
            "Requirement already satisfied: wrapt>=1.11.0 in /usr/local/lib/python3.11/dist-packages (from tensorflow) (1.17.0)\n",
            "Requirement already satisfied: grpcio<2.0,>=1.24.3 in /usr/local/lib/python3.11/dist-packages (from tensorflow) (1.69.0)\n",
            "Requirement already satisfied: tensorboard<2.19,>=2.18 in /usr/local/lib/python3.11/dist-packages (from tensorflow) (2.18.0)\n",
            "Requirement already satisfied: keras>=3.5.0 in /usr/local/lib/python3.11/dist-packages (from tensorflow) (3.5.0)\n",
            "Requirement already satisfied: numpy<2.1.0,>=1.26.0 in /usr/local/lib/python3.11/dist-packages (from tensorflow) (1.26.4)\n",
            "Requirement already satisfied: h5py>=3.11.0 in /usr/local/lib/python3.11/dist-packages (from tensorflow) (3.12.1)\n",
            "Requirement already satisfied: ml-dtypes<0.5.0,>=0.4.0 in /usr/local/lib/python3.11/dist-packages (from tensorflow) (0.4.1)\n",
            "Requirement already satisfied: tensorflow-io-gcs-filesystem>=0.23.1 in /usr/local/lib/python3.11/dist-packages (from tensorflow) (0.37.1)\n",
            "Requirement already satisfied: wheel<1.0,>=0.23.0 in /usr/local/lib/python3.11/dist-packages (from astunparse>=1.6.0->tensorflow) (0.45.1)\n",
            "Requirement already satisfied: rich in /usr/local/lib/python3.11/dist-packages (from keras>=3.5.0->tensorflow) (13.9.4)\n",
            "Requirement already satisfied: namex in /usr/local/lib/python3.11/dist-packages (from keras>=3.5.0->tensorflow) (0.0.8)\n",
            "Requirement already satisfied: optree in /usr/local/lib/python3.11/dist-packages (from keras>=3.5.0->tensorflow) (0.13.1)\n",
            "Requirement already satisfied: charset-normalizer<4,>=2 in /usr/local/lib/python3.11/dist-packages (from requests<3,>=2.21.0->tensorflow) (3.4.1)\n",
            "Requirement already satisfied: idna<4,>=2.5 in /usr/local/lib/python3.11/dist-packages (from requests<3,>=2.21.0->tensorflow) (3.10)\n",
            "Requirement already satisfied: urllib3<3,>=1.21.1 in /usr/local/lib/python3.11/dist-packages (from requests<3,>=2.21.0->tensorflow) (2.3.0)\n",
            "Requirement already satisfied: certifi>=2017.4.17 in /usr/local/lib/python3.11/dist-packages (from requests<3,>=2.21.0->tensorflow) (2024.12.14)\n",
            "Requirement already satisfied: markdown>=2.6.8 in /usr/local/lib/python3.11/dist-packages (from tensorboard<2.19,>=2.18->tensorflow) (3.7)\n",
            "Requirement already satisfied: tensorboard-data-server<0.8.0,>=0.7.0 in /usr/local/lib/python3.11/dist-packages (from tensorboard<2.19,>=2.18->tensorflow) (0.7.2)\n",
            "Requirement already satisfied: werkzeug>=1.0.1 in /usr/local/lib/python3.11/dist-packages (from tensorboard<2.19,>=2.18->tensorflow) (3.1.3)\n",
            "Requirement already satisfied: MarkupSafe>=2.1.1 in /usr/local/lib/python3.11/dist-packages (from werkzeug>=1.0.1->tensorboard<2.19,>=2.18->tensorflow) (3.0.2)\n",
            "Requirement already satisfied: markdown-it-py>=2.2.0 in /usr/local/lib/python3.11/dist-packages (from rich->keras>=3.5.0->tensorflow) (3.0.0)\n",
            "Requirement already satisfied: pygments<3.0.0,>=2.13.0 in /usr/local/lib/python3.11/dist-packages (from rich->keras>=3.5.0->tensorflow) (2.18.0)\n",
            "Requirement already satisfied: mdurl~=0.1 in /usr/local/lib/python3.11/dist-packages (from markdown-it-py>=2.2.0->rich->keras>=3.5.0->tensorflow) (0.1.2)\n"
          ]
        }
      ]
    },
    {
      "cell_type": "code",
      "source": [
        "from google.colab import drive\n",
        "drive.mount('/content/drive')"
      ],
      "metadata": {
        "colab": {
          "base_uri": "https://localhost:8080/"
        },
        "id": "740ZyY1Nw2N8",
        "outputId": "f9a41b76-b0b4-433e-e52b-bc39a7a23afe"
      },
      "execution_count": 4,
      "outputs": [
        {
          "output_type": "stream",
          "name": "stdout",
          "text": [
            "Drive already mounted at /content/drive; to attempt to forcibly remount, call drive.mount(\"/content/drive\", force_remount=True).\n"
          ]
        }
      ]
    },
    {
      "cell_type": "markdown",
      "source": [
        "## Load Dataset"
      ],
      "metadata": {
        "id": "vKTibjII8aqv"
      }
    },
    {
      "cell_type": "code",
      "source": [
        "file_path = '/content/drive/MyDrive/Dicoding/mobile_legends_reviews.csv'\n",
        "df = pd.read_csv(file_path)"
      ],
      "metadata": {
        "id": "TiJ0-sRR7JR_"
      },
      "execution_count": 5,
      "outputs": []
    },
    {
      "cell_type": "code",
      "source": [
        "print(df.info())"
      ],
      "metadata": {
        "colab": {
          "base_uri": "https://localhost:8080/"
        },
        "id": "A9YDKOTu8HEl",
        "outputId": "e6a0e952-84a3-4feb-cb0a-f756f532f12d"
      },
      "execution_count": 6,
      "outputs": [
        {
          "output_type": "stream",
          "name": "stdout",
          "text": [
            "<class 'pandas.core.frame.DataFrame'>\n",
            "RangeIndex: 15000 entries, 0 to 14999\n",
            "Data columns (total 11 columns):\n",
            " #   Column                Non-Null Count  Dtype \n",
            "---  ------                --------------  ----- \n",
            " 0   reviewId              15000 non-null  object\n",
            " 1   userName              15000 non-null  object\n",
            " 2   userImage             15000 non-null  object\n",
            " 3   content               15000 non-null  object\n",
            " 4   score                 15000 non-null  int64 \n",
            " 5   thumbsUpCount         15000 non-null  int64 \n",
            " 6   reviewCreatedVersion  14278 non-null  object\n",
            " 7   at                    15000 non-null  object\n",
            " 8   replyContent          125 non-null    object\n",
            " 9   repliedAt             125 non-null    object\n",
            " 10  appVersion            14278 non-null  object\n",
            "dtypes: int64(2), object(9)\n",
            "memory usage: 1.3+ MB\n",
            "None\n"
          ]
        }
      ]
    },
    {
      "cell_type": "code",
      "source": [
        "df.head()"
      ],
      "metadata": {
        "colab": {
          "base_uri": "https://localhost:8080/",
          "height": 538
        },
        "id": "YEP5bk6S8Me9",
        "outputId": "d2209ca1-b02c-464d-a653-cfadb48409da"
      },
      "execution_count": 7,
      "outputs": [
        {
          "output_type": "execute_result",
          "data": {
            "text/plain": [
              "                               reviewId      userName  \\\n",
              "0  784cd375-85cf-40dc-abc3-f2927947792e  Yuqing Jiang   \n",
              "1  57de8a7a-0542-484b-b0e6-acb581e798c4   Devin Baker   \n",
              "2  7787d2f1-7577-428f-87f3-96e6308fb25f       Sarah C   \n",
              "3  0c37b7bd-1897-4891-a807-c6bb4f6f062d  Dancer Baker   \n",
              "4  27bbf8b9-8759-4fb9-bead-e7aa44d94d5a   Andy Cortes   \n",
              "\n",
              "                                           userImage  \\\n",
              "0  https://play-lh.googleusercontent.com/a/ACg8oc...   \n",
              "1  https://play-lh.googleusercontent.com/a/ACg8oc...   \n",
              "2  https://play-lh.googleusercontent.com/a-/ALV-U...   \n",
              "3  https://play-lh.googleusercontent.com/a/ACg8oc...   \n",
              "4  https://play-lh.googleusercontent.com/a-/ALV-U...   \n",
              "\n",
              "                                             content  score  thumbsUpCount  \\\n",
              "0  I always get the mvp from the lose side, no ma...      1             14   \n",
              "1  DO NOT DOWNLOAD, this game is a perfect exampl...      1           1295   \n",
              "2  I have been playing this game for years and en...      1           3434   \n",
              "3  Love the game, but it's basically impossible t...      1           2357   \n",
              "4  When it comes to the matchmaking portion of ra...      1            563   \n",
              "\n",
              "  reviewCreatedVersion                   at replyContent repliedAt  \\\n",
              "0          1.9.16.9839  2024-12-21 08:54:59          NaN       NaN   \n",
              "1           1.9.8.9833  2024-08-21 20:18:43          NaN       NaN   \n",
              "2           1.9.8.9833  2024-08-23 06:52:47          NaN       NaN   \n",
              "3          1.9.16.9839  2024-09-16 10:34:52          NaN       NaN   \n",
              "4           1.9.8.9833  2024-08-22 09:20:32          NaN       NaN   \n",
              "\n",
              "    appVersion  \n",
              "0  1.9.16.9839  \n",
              "1   1.9.8.9833  \n",
              "2   1.9.8.9833  \n",
              "3  1.9.16.9839  \n",
              "4   1.9.8.9833  "
            ],
            "text/html": [
              "\n",
              "  <div id=\"df-818582b6-522b-4f70-9ef5-5b35386961a7\" class=\"colab-df-container\">\n",
              "    <div>\n",
              "<style scoped>\n",
              "    .dataframe tbody tr th:only-of-type {\n",
              "        vertical-align: middle;\n",
              "    }\n",
              "\n",
              "    .dataframe tbody tr th {\n",
              "        vertical-align: top;\n",
              "    }\n",
              "\n",
              "    .dataframe thead th {\n",
              "        text-align: right;\n",
              "    }\n",
              "</style>\n",
              "<table border=\"1\" class=\"dataframe\">\n",
              "  <thead>\n",
              "    <tr style=\"text-align: right;\">\n",
              "      <th></th>\n",
              "      <th>reviewId</th>\n",
              "      <th>userName</th>\n",
              "      <th>userImage</th>\n",
              "      <th>content</th>\n",
              "      <th>score</th>\n",
              "      <th>thumbsUpCount</th>\n",
              "      <th>reviewCreatedVersion</th>\n",
              "      <th>at</th>\n",
              "      <th>replyContent</th>\n",
              "      <th>repliedAt</th>\n",
              "      <th>appVersion</th>\n",
              "    </tr>\n",
              "  </thead>\n",
              "  <tbody>\n",
              "    <tr>\n",
              "      <th>0</th>\n",
              "      <td>784cd375-85cf-40dc-abc3-f2927947792e</td>\n",
              "      <td>Yuqing Jiang</td>\n",
              "      <td>https://play-lh.googleusercontent.com/a/ACg8oc...</td>\n",
              "      <td>I always get the mvp from the lose side, no ma...</td>\n",
              "      <td>1</td>\n",
              "      <td>14</td>\n",
              "      <td>1.9.16.9839</td>\n",
              "      <td>2024-12-21 08:54:59</td>\n",
              "      <td>NaN</td>\n",
              "      <td>NaN</td>\n",
              "      <td>1.9.16.9839</td>\n",
              "    </tr>\n",
              "    <tr>\n",
              "      <th>1</th>\n",
              "      <td>57de8a7a-0542-484b-b0e6-acb581e798c4</td>\n",
              "      <td>Devin Baker</td>\n",
              "      <td>https://play-lh.googleusercontent.com/a/ACg8oc...</td>\n",
              "      <td>DO NOT DOWNLOAD, this game is a perfect exampl...</td>\n",
              "      <td>1</td>\n",
              "      <td>1295</td>\n",
              "      <td>1.9.8.9833</td>\n",
              "      <td>2024-08-21 20:18:43</td>\n",
              "      <td>NaN</td>\n",
              "      <td>NaN</td>\n",
              "      <td>1.9.8.9833</td>\n",
              "    </tr>\n",
              "    <tr>\n",
              "      <th>2</th>\n",
              "      <td>7787d2f1-7577-428f-87f3-96e6308fb25f</td>\n",
              "      <td>Sarah C</td>\n",
              "      <td>https://play-lh.googleusercontent.com/a-/ALV-U...</td>\n",
              "      <td>I have been playing this game for years and en...</td>\n",
              "      <td>1</td>\n",
              "      <td>3434</td>\n",
              "      <td>1.9.8.9833</td>\n",
              "      <td>2024-08-23 06:52:47</td>\n",
              "      <td>NaN</td>\n",
              "      <td>NaN</td>\n",
              "      <td>1.9.8.9833</td>\n",
              "    </tr>\n",
              "    <tr>\n",
              "      <th>3</th>\n",
              "      <td>0c37b7bd-1897-4891-a807-c6bb4f6f062d</td>\n",
              "      <td>Dancer Baker</td>\n",
              "      <td>https://play-lh.googleusercontent.com/a/ACg8oc...</td>\n",
              "      <td>Love the game, but it's basically impossible t...</td>\n",
              "      <td>1</td>\n",
              "      <td>2357</td>\n",
              "      <td>1.9.16.9839</td>\n",
              "      <td>2024-09-16 10:34:52</td>\n",
              "      <td>NaN</td>\n",
              "      <td>NaN</td>\n",
              "      <td>1.9.16.9839</td>\n",
              "    </tr>\n",
              "    <tr>\n",
              "      <th>4</th>\n",
              "      <td>27bbf8b9-8759-4fb9-bead-e7aa44d94d5a</td>\n",
              "      <td>Andy Cortes</td>\n",
              "      <td>https://play-lh.googleusercontent.com/a-/ALV-U...</td>\n",
              "      <td>When it comes to the matchmaking portion of ra...</td>\n",
              "      <td>1</td>\n",
              "      <td>563</td>\n",
              "      <td>1.9.8.9833</td>\n",
              "      <td>2024-08-22 09:20:32</td>\n",
              "      <td>NaN</td>\n",
              "      <td>NaN</td>\n",
              "      <td>1.9.8.9833</td>\n",
              "    </tr>\n",
              "  </tbody>\n",
              "</table>\n",
              "</div>\n",
              "    <div class=\"colab-df-buttons\">\n",
              "\n",
              "  <div class=\"colab-df-container\">\n",
              "    <button class=\"colab-df-convert\" onclick=\"convertToInteractive('df-818582b6-522b-4f70-9ef5-5b35386961a7')\"\n",
              "            title=\"Convert this dataframe to an interactive table.\"\n",
              "            style=\"display:none;\">\n",
              "\n",
              "  <svg xmlns=\"http://www.w3.org/2000/svg\" height=\"24px\" viewBox=\"0 -960 960 960\">\n",
              "    <path d=\"M120-120v-720h720v720H120Zm60-500h600v-160H180v160Zm220 220h160v-160H400v160Zm0 220h160v-160H400v160ZM180-400h160v-160H180v160Zm440 0h160v-160H620v160ZM180-180h160v-160H180v160Zm440 0h160v-160H620v160Z\"/>\n",
              "  </svg>\n",
              "    </button>\n",
              "\n",
              "  <style>\n",
              "    .colab-df-container {\n",
              "      display:flex;\n",
              "      gap: 12px;\n",
              "    }\n",
              "\n",
              "    .colab-df-convert {\n",
              "      background-color: #E8F0FE;\n",
              "      border: none;\n",
              "      border-radius: 50%;\n",
              "      cursor: pointer;\n",
              "      display: none;\n",
              "      fill: #1967D2;\n",
              "      height: 32px;\n",
              "      padding: 0 0 0 0;\n",
              "      width: 32px;\n",
              "    }\n",
              "\n",
              "    .colab-df-convert:hover {\n",
              "      background-color: #E2EBFA;\n",
              "      box-shadow: 0px 1px 2px rgba(60, 64, 67, 0.3), 0px 1px 3px 1px rgba(60, 64, 67, 0.15);\n",
              "      fill: #174EA6;\n",
              "    }\n",
              "\n",
              "    .colab-df-buttons div {\n",
              "      margin-bottom: 4px;\n",
              "    }\n",
              "\n",
              "    [theme=dark] .colab-df-convert {\n",
              "      background-color: #3B4455;\n",
              "      fill: #D2E3FC;\n",
              "    }\n",
              "\n",
              "    [theme=dark] .colab-df-convert:hover {\n",
              "      background-color: #434B5C;\n",
              "      box-shadow: 0px 1px 3px 1px rgba(0, 0, 0, 0.15);\n",
              "      filter: drop-shadow(0px 1px 2px rgba(0, 0, 0, 0.3));\n",
              "      fill: #FFFFFF;\n",
              "    }\n",
              "  </style>\n",
              "\n",
              "    <script>\n",
              "      const buttonEl =\n",
              "        document.querySelector('#df-818582b6-522b-4f70-9ef5-5b35386961a7 button.colab-df-convert');\n",
              "      buttonEl.style.display =\n",
              "        google.colab.kernel.accessAllowed ? 'block' : 'none';\n",
              "\n",
              "      async function convertToInteractive(key) {\n",
              "        const element = document.querySelector('#df-818582b6-522b-4f70-9ef5-5b35386961a7');\n",
              "        const dataTable =\n",
              "          await google.colab.kernel.invokeFunction('convertToInteractive',\n",
              "                                                    [key], {});\n",
              "        if (!dataTable) return;\n",
              "\n",
              "        const docLinkHtml = 'Like what you see? Visit the ' +\n",
              "          '<a target=\"_blank\" href=https://colab.research.google.com/notebooks/data_table.ipynb>data table notebook</a>'\n",
              "          + ' to learn more about interactive tables.';\n",
              "        element.innerHTML = '';\n",
              "        dataTable['output_type'] = 'display_data';\n",
              "        await google.colab.output.renderOutput(dataTable, element);\n",
              "        const docLink = document.createElement('div');\n",
              "        docLink.innerHTML = docLinkHtml;\n",
              "        element.appendChild(docLink);\n",
              "      }\n",
              "    </script>\n",
              "  </div>\n",
              "\n",
              "\n",
              "<div id=\"df-84246991-bf70-4330-a908-90a57f78f5fc\">\n",
              "  <button class=\"colab-df-quickchart\" onclick=\"quickchart('df-84246991-bf70-4330-a908-90a57f78f5fc')\"\n",
              "            title=\"Suggest charts\"\n",
              "            style=\"display:none;\">\n",
              "\n",
              "<svg xmlns=\"http://www.w3.org/2000/svg\" height=\"24px\"viewBox=\"0 0 24 24\"\n",
              "     width=\"24px\">\n",
              "    <g>\n",
              "        <path d=\"M19 3H5c-1.1 0-2 .9-2 2v14c0 1.1.9 2 2 2h14c1.1 0 2-.9 2-2V5c0-1.1-.9-2-2-2zM9 17H7v-7h2v7zm4 0h-2V7h2v10zm4 0h-2v-4h2v4z\"/>\n",
              "    </g>\n",
              "</svg>\n",
              "  </button>\n",
              "\n",
              "<style>\n",
              "  .colab-df-quickchart {\n",
              "      --bg-color: #E8F0FE;\n",
              "      --fill-color: #1967D2;\n",
              "      --hover-bg-color: #E2EBFA;\n",
              "      --hover-fill-color: #174EA6;\n",
              "      --disabled-fill-color: #AAA;\n",
              "      --disabled-bg-color: #DDD;\n",
              "  }\n",
              "\n",
              "  [theme=dark] .colab-df-quickchart {\n",
              "      --bg-color: #3B4455;\n",
              "      --fill-color: #D2E3FC;\n",
              "      --hover-bg-color: #434B5C;\n",
              "      --hover-fill-color: #FFFFFF;\n",
              "      --disabled-bg-color: #3B4455;\n",
              "      --disabled-fill-color: #666;\n",
              "  }\n",
              "\n",
              "  .colab-df-quickchart {\n",
              "    background-color: var(--bg-color);\n",
              "    border: none;\n",
              "    border-radius: 50%;\n",
              "    cursor: pointer;\n",
              "    display: none;\n",
              "    fill: var(--fill-color);\n",
              "    height: 32px;\n",
              "    padding: 0;\n",
              "    width: 32px;\n",
              "  }\n",
              "\n",
              "  .colab-df-quickchart:hover {\n",
              "    background-color: var(--hover-bg-color);\n",
              "    box-shadow: 0 1px 2px rgba(60, 64, 67, 0.3), 0 1px 3px 1px rgba(60, 64, 67, 0.15);\n",
              "    fill: var(--button-hover-fill-color);\n",
              "  }\n",
              "\n",
              "  .colab-df-quickchart-complete:disabled,\n",
              "  .colab-df-quickchart-complete:disabled:hover {\n",
              "    background-color: var(--disabled-bg-color);\n",
              "    fill: var(--disabled-fill-color);\n",
              "    box-shadow: none;\n",
              "  }\n",
              "\n",
              "  .colab-df-spinner {\n",
              "    border: 2px solid var(--fill-color);\n",
              "    border-color: transparent;\n",
              "    border-bottom-color: var(--fill-color);\n",
              "    animation:\n",
              "      spin 1s steps(1) infinite;\n",
              "  }\n",
              "\n",
              "  @keyframes spin {\n",
              "    0% {\n",
              "      border-color: transparent;\n",
              "      border-bottom-color: var(--fill-color);\n",
              "      border-left-color: var(--fill-color);\n",
              "    }\n",
              "    20% {\n",
              "      border-color: transparent;\n",
              "      border-left-color: var(--fill-color);\n",
              "      border-top-color: var(--fill-color);\n",
              "    }\n",
              "    30% {\n",
              "      border-color: transparent;\n",
              "      border-left-color: var(--fill-color);\n",
              "      border-top-color: var(--fill-color);\n",
              "      border-right-color: var(--fill-color);\n",
              "    }\n",
              "    40% {\n",
              "      border-color: transparent;\n",
              "      border-right-color: var(--fill-color);\n",
              "      border-top-color: var(--fill-color);\n",
              "    }\n",
              "    60% {\n",
              "      border-color: transparent;\n",
              "      border-right-color: var(--fill-color);\n",
              "    }\n",
              "    80% {\n",
              "      border-color: transparent;\n",
              "      border-right-color: var(--fill-color);\n",
              "      border-bottom-color: var(--fill-color);\n",
              "    }\n",
              "    90% {\n",
              "      border-color: transparent;\n",
              "      border-bottom-color: var(--fill-color);\n",
              "    }\n",
              "  }\n",
              "</style>\n",
              "\n",
              "  <script>\n",
              "    async function quickchart(key) {\n",
              "      const quickchartButtonEl =\n",
              "        document.querySelector('#' + key + ' button');\n",
              "      quickchartButtonEl.disabled = true;  // To prevent multiple clicks.\n",
              "      quickchartButtonEl.classList.add('colab-df-spinner');\n",
              "      try {\n",
              "        const charts = await google.colab.kernel.invokeFunction(\n",
              "            'suggestCharts', [key], {});\n",
              "      } catch (error) {\n",
              "        console.error('Error during call to suggestCharts:', error);\n",
              "      }\n",
              "      quickchartButtonEl.classList.remove('colab-df-spinner');\n",
              "      quickchartButtonEl.classList.add('colab-df-quickchart-complete');\n",
              "    }\n",
              "    (() => {\n",
              "      let quickchartButtonEl =\n",
              "        document.querySelector('#df-84246991-bf70-4330-a908-90a57f78f5fc button');\n",
              "      quickchartButtonEl.style.display =\n",
              "        google.colab.kernel.accessAllowed ? 'block' : 'none';\n",
              "    })();\n",
              "  </script>\n",
              "</div>\n",
              "\n",
              "    </div>\n",
              "  </div>\n"
            ],
            "application/vnd.google.colaboratory.intrinsic+json": {
              "type": "dataframe",
              "variable_name": "df",
              "summary": "{\n  \"name\": \"df\",\n  \"rows\": 15000,\n  \"fields\": [\n    {\n      \"column\": \"reviewId\",\n      \"properties\": {\n        \"dtype\": \"category\",\n        \"num_unique_values\": 518,\n        \"samples\": [\n          \"07d7afd3-dcf9-4b2e-82ea-76682a32c51c\",\n          \"b6fd553d-bfb3-4055-9225-94cbcded988b\",\n          \"3a27dc7c-a3db-42df-8b4d-4bc33df6db39\"\n        ],\n        \"semantic_type\": \"\",\n        \"description\": \"\"\n      }\n    },\n    {\n      \"column\": \"userName\",\n      \"properties\": {\n        \"dtype\": \"category\",\n        \"num_unique_values\": 452,\n        \"samples\": [\n          \"jonathan dixon\",\n          \"FURKAN T\",\n          \"Paolo Papa\"\n        ],\n        \"semantic_type\": \"\",\n        \"description\": \"\"\n      }\n    },\n    {\n      \"column\": \"userImage\",\n      \"properties\": {\n        \"dtype\": \"category\",\n        \"num_unique_values\": 452,\n        \"samples\": [\n          \"https://play-lh.googleusercontent.com/a-/ALV-UjUTZzbCNEMF9kvDGUDXV6EfjUGaCx76R7oyr5LVmBZl5qJZGVA7\",\n          \"https://play-lh.googleusercontent.com/a-/ALV-UjUW06Oirn7WM5R_UJVXnH1OUSz76Dkl9H4xH9rxHof8LlBLCnE\",\n          \"https://play-lh.googleusercontent.com/a-/ALV-UjUDBGefC71o2y9DBYjf-R8BQgk-Og0T1qg5YWHz8MTgv1Krj6n7\"\n        ],\n        \"semantic_type\": \"\",\n        \"description\": \"\"\n      }\n    },\n    {\n      \"column\": \"content\",\n      \"properties\": {\n        \"dtype\": \"category\",\n        \"num_unique_values\": 518,\n        \"samples\": [\n          \"I\\u2019ve been a long-time player and love the game, but recent changes have been frustrating. The new credit points system for playing or farming is poorly timed and disrupts the flow. Additionally, the AI used for violations is problematic and doesn\\u2019t work well. It negatively impacts gameplay. I hope these issues are sorted out soon, as the game has a lot of potential.\",\n          \"FANTASTIC GAME!! I have been playing for almost 2 and a half years and have had an overall great experience, However... The new version 2.0 update that happened a while ago. This update does not allow my phone to play unless I am on wifi. I do not have wifi in my home so I can only play at places with wifi which have a worse connection than my phone service. I am a loyal gamer and have shamelessly spent over $160. It feels bad that I am barely allowed to play. Please fix this before I lose hope!\",\n          \"Not enough starter characters. Buying new characters is locked through some kind of mastery system that isn't explained. The game gets dull and repetitive since you're locked into only a few decent characters. With all the other moba games out there, this one is just too annoying to figure out with all the useless currencies they award you with that don't amount to much and their popups, the repetitive game play due to lack of character chooses, less to most game having the same line ups.\"\n        ],\n        \"semantic_type\": \"\",\n        \"description\": \"\"\n      }\n    },\n    {\n      \"column\": \"score\",\n      \"properties\": {\n        \"dtype\": \"number\",\n        \"std\": 1,\n        \"min\": 1,\n        \"max\": 5,\n        \"num_unique_values\": 5,\n        \"samples\": [\n          2,\n          5,\n          3\n        ],\n        \"semantic_type\": \"\",\n        \"description\": \"\"\n      }\n    },\n    {\n      \"column\": \"thumbsUpCount\",\n      \"properties\": {\n        \"dtype\": \"number\",\n        \"std\": 1264,\n        \"min\": 0,\n        \"max\": 19216,\n        \"num_unique_values\": 196,\n        \"samples\": [\n          38,\n          163,\n          2077\n        ],\n        \"semantic_type\": \"\",\n        \"description\": \"\"\n      }\n    },\n    {\n      \"column\": \"reviewCreatedVersion\",\n      \"properties\": {\n        \"dtype\": \"category\",\n        \"num_unique_values\": 83,\n        \"samples\": [\n          \"1.5.24.5712\",\n          \"1.9.16.9839\",\n          \"1.6.52.7102\"\n        ],\n        \"semantic_type\": \"\",\n        \"description\": \"\"\n      }\n    },\n    {\n      \"column\": \"at\",\n      \"properties\": {\n        \"dtype\": \"object\",\n        \"num_unique_values\": 518,\n        \"samples\": [\n          \"2024-09-20 01:00:49\",\n          \"2020-02-04 21:47:05\",\n          \"2024-08-14 03:31:57\"\n        ],\n        \"semantic_type\": \"\",\n        \"description\": \"\"\n      }\n    },\n    {\n      \"column\": \"replyContent\",\n      \"properties\": {\n        \"dtype\": \"category\",\n        \"num_unique_values\": 4,\n        \"samples\": [\n          \"Hello we are sorry for the inconvenience, and we would like to invite you to contact in-game customer service, tap avatar - Customer Service - loading problem - crash & laggy, fill out the form, then submit, after that our customer service staff will contact you soon. Please wait patiently.\",\n          \"Dear hero,\\nWe sincerely apologize for your bad experience in the game. We hope that you can provide some screenshots or more specific detail through the in-game support to help us confirm the problem. We will collect your questions and feedback to continuously improve the game experience. Thank you!\\n--MLBB Muhsena\",\n          \"Dear Hero,\\nWe have recorded your valuable comment. We aim to create an ultimate gaming experience by offering players top-quality combat. We will continue to improve MLBB towards this goal. Deeply sorry for your experience. Please contact our in-game customer service for help.\\n--MLBB Muhsena\"\n        ],\n        \"semantic_type\": \"\",\n        \"description\": \"\"\n      }\n    },\n    {\n      \"column\": \"repliedAt\",\n      \"properties\": {\n        \"dtype\": \"date\",\n        \"min\": \"2017-06-07 06:51:35\",\n        \"max\": \"2021-07-01 03:03:52\",\n        \"num_unique_values\": 4,\n        \"samples\": [\n          \"2017-06-07 06:51:35\",\n          \"2021-05-17 02:59:16\",\n          \"2021-05-08 02:39:24\"\n        ],\n        \"semantic_type\": \"\",\n        \"description\": \"\"\n      }\n    },\n    {\n      \"column\": \"appVersion\",\n      \"properties\": {\n        \"dtype\": \"category\",\n        \"num_unique_values\": 83,\n        \"samples\": [\n          \"1.5.24.5712\",\n          \"1.9.16.9839\",\n          \"1.6.52.7102\"\n        ],\n        \"semantic_type\": \"\",\n        \"description\": \"\"\n      }\n    }\n  ]\n}"
            }
          },
          "metadata": {},
          "execution_count": 7
        }
      ]
    },
    {
      "cell_type": "markdown",
      "source": [
        "## Data Preprocessing"
      ],
      "metadata": {
        "id": "RI2rnEk08cYK"
      }
    },
    {
      "cell_type": "code",
      "source": [
        "df = df[['content', 'score']]"
      ],
      "metadata": {
        "id": "x2ikdqSaTjYw"
      },
      "execution_count": 8,
      "outputs": []
    },
    {
      "cell_type": "code",
      "source": [
        "df.head()"
      ],
      "metadata": {
        "colab": {
          "base_uri": "https://localhost:8080/",
          "height": 206
        },
        "id": "2rt0erUf_zbd",
        "outputId": "293c8612-8539-40d6-ab4e-051119b4a050"
      },
      "execution_count": 9,
      "outputs": [
        {
          "output_type": "execute_result",
          "data": {
            "text/plain": [
              "                                             content  score\n",
              "0  I always get the mvp from the lose side, no ma...      1\n",
              "1  DO NOT DOWNLOAD, this game is a perfect exampl...      1\n",
              "2  I have been playing this game for years and en...      1\n",
              "3  Love the game, but it's basically impossible t...      1\n",
              "4  When it comes to the matchmaking portion of ra...      1"
            ],
            "text/html": [
              "\n",
              "  <div id=\"df-b8d935a9-bfd3-40a8-8db0-5e64bc48622f\" class=\"colab-df-container\">\n",
              "    <div>\n",
              "<style scoped>\n",
              "    .dataframe tbody tr th:only-of-type {\n",
              "        vertical-align: middle;\n",
              "    }\n",
              "\n",
              "    .dataframe tbody tr th {\n",
              "        vertical-align: top;\n",
              "    }\n",
              "\n",
              "    .dataframe thead th {\n",
              "        text-align: right;\n",
              "    }\n",
              "</style>\n",
              "<table border=\"1\" class=\"dataframe\">\n",
              "  <thead>\n",
              "    <tr style=\"text-align: right;\">\n",
              "      <th></th>\n",
              "      <th>content</th>\n",
              "      <th>score</th>\n",
              "    </tr>\n",
              "  </thead>\n",
              "  <tbody>\n",
              "    <tr>\n",
              "      <th>0</th>\n",
              "      <td>I always get the mvp from the lose side, no ma...</td>\n",
              "      <td>1</td>\n",
              "    </tr>\n",
              "    <tr>\n",
              "      <th>1</th>\n",
              "      <td>DO NOT DOWNLOAD, this game is a perfect exampl...</td>\n",
              "      <td>1</td>\n",
              "    </tr>\n",
              "    <tr>\n",
              "      <th>2</th>\n",
              "      <td>I have been playing this game for years and en...</td>\n",
              "      <td>1</td>\n",
              "    </tr>\n",
              "    <tr>\n",
              "      <th>3</th>\n",
              "      <td>Love the game, but it's basically impossible t...</td>\n",
              "      <td>1</td>\n",
              "    </tr>\n",
              "    <tr>\n",
              "      <th>4</th>\n",
              "      <td>When it comes to the matchmaking portion of ra...</td>\n",
              "      <td>1</td>\n",
              "    </tr>\n",
              "  </tbody>\n",
              "</table>\n",
              "</div>\n",
              "    <div class=\"colab-df-buttons\">\n",
              "\n",
              "  <div class=\"colab-df-container\">\n",
              "    <button class=\"colab-df-convert\" onclick=\"convertToInteractive('df-b8d935a9-bfd3-40a8-8db0-5e64bc48622f')\"\n",
              "            title=\"Convert this dataframe to an interactive table.\"\n",
              "            style=\"display:none;\">\n",
              "\n",
              "  <svg xmlns=\"http://www.w3.org/2000/svg\" height=\"24px\" viewBox=\"0 -960 960 960\">\n",
              "    <path d=\"M120-120v-720h720v720H120Zm60-500h600v-160H180v160Zm220 220h160v-160H400v160Zm0 220h160v-160H400v160ZM180-400h160v-160H180v160Zm440 0h160v-160H620v160ZM180-180h160v-160H180v160Zm440 0h160v-160H620v160Z\"/>\n",
              "  </svg>\n",
              "    </button>\n",
              "\n",
              "  <style>\n",
              "    .colab-df-container {\n",
              "      display:flex;\n",
              "      gap: 12px;\n",
              "    }\n",
              "\n",
              "    .colab-df-convert {\n",
              "      background-color: #E8F0FE;\n",
              "      border: none;\n",
              "      border-radius: 50%;\n",
              "      cursor: pointer;\n",
              "      display: none;\n",
              "      fill: #1967D2;\n",
              "      height: 32px;\n",
              "      padding: 0 0 0 0;\n",
              "      width: 32px;\n",
              "    }\n",
              "\n",
              "    .colab-df-convert:hover {\n",
              "      background-color: #E2EBFA;\n",
              "      box-shadow: 0px 1px 2px rgba(60, 64, 67, 0.3), 0px 1px 3px 1px rgba(60, 64, 67, 0.15);\n",
              "      fill: #174EA6;\n",
              "    }\n",
              "\n",
              "    .colab-df-buttons div {\n",
              "      margin-bottom: 4px;\n",
              "    }\n",
              "\n",
              "    [theme=dark] .colab-df-convert {\n",
              "      background-color: #3B4455;\n",
              "      fill: #D2E3FC;\n",
              "    }\n",
              "\n",
              "    [theme=dark] .colab-df-convert:hover {\n",
              "      background-color: #434B5C;\n",
              "      box-shadow: 0px 1px 3px 1px rgba(0, 0, 0, 0.15);\n",
              "      filter: drop-shadow(0px 1px 2px rgba(0, 0, 0, 0.3));\n",
              "      fill: #FFFFFF;\n",
              "    }\n",
              "  </style>\n",
              "\n",
              "    <script>\n",
              "      const buttonEl =\n",
              "        document.querySelector('#df-b8d935a9-bfd3-40a8-8db0-5e64bc48622f button.colab-df-convert');\n",
              "      buttonEl.style.display =\n",
              "        google.colab.kernel.accessAllowed ? 'block' : 'none';\n",
              "\n",
              "      async function convertToInteractive(key) {\n",
              "        const element = document.querySelector('#df-b8d935a9-bfd3-40a8-8db0-5e64bc48622f');\n",
              "        const dataTable =\n",
              "          await google.colab.kernel.invokeFunction('convertToInteractive',\n",
              "                                                    [key], {});\n",
              "        if (!dataTable) return;\n",
              "\n",
              "        const docLinkHtml = 'Like what you see? Visit the ' +\n",
              "          '<a target=\"_blank\" href=https://colab.research.google.com/notebooks/data_table.ipynb>data table notebook</a>'\n",
              "          + ' to learn more about interactive tables.';\n",
              "        element.innerHTML = '';\n",
              "        dataTable['output_type'] = 'display_data';\n",
              "        await google.colab.output.renderOutput(dataTable, element);\n",
              "        const docLink = document.createElement('div');\n",
              "        docLink.innerHTML = docLinkHtml;\n",
              "        element.appendChild(docLink);\n",
              "      }\n",
              "    </script>\n",
              "  </div>\n",
              "\n",
              "\n",
              "<div id=\"df-4cfa867e-eb5d-4170-992b-54383933fe63\">\n",
              "  <button class=\"colab-df-quickchart\" onclick=\"quickchart('df-4cfa867e-eb5d-4170-992b-54383933fe63')\"\n",
              "            title=\"Suggest charts\"\n",
              "            style=\"display:none;\">\n",
              "\n",
              "<svg xmlns=\"http://www.w3.org/2000/svg\" height=\"24px\"viewBox=\"0 0 24 24\"\n",
              "     width=\"24px\">\n",
              "    <g>\n",
              "        <path d=\"M19 3H5c-1.1 0-2 .9-2 2v14c0 1.1.9 2 2 2h14c1.1 0 2-.9 2-2V5c0-1.1-.9-2-2-2zM9 17H7v-7h2v7zm4 0h-2V7h2v10zm4 0h-2v-4h2v4z\"/>\n",
              "    </g>\n",
              "</svg>\n",
              "  </button>\n",
              "\n",
              "<style>\n",
              "  .colab-df-quickchart {\n",
              "      --bg-color: #E8F0FE;\n",
              "      --fill-color: #1967D2;\n",
              "      --hover-bg-color: #E2EBFA;\n",
              "      --hover-fill-color: #174EA6;\n",
              "      --disabled-fill-color: #AAA;\n",
              "      --disabled-bg-color: #DDD;\n",
              "  }\n",
              "\n",
              "  [theme=dark] .colab-df-quickchart {\n",
              "      --bg-color: #3B4455;\n",
              "      --fill-color: #D2E3FC;\n",
              "      --hover-bg-color: #434B5C;\n",
              "      --hover-fill-color: #FFFFFF;\n",
              "      --disabled-bg-color: #3B4455;\n",
              "      --disabled-fill-color: #666;\n",
              "  }\n",
              "\n",
              "  .colab-df-quickchart {\n",
              "    background-color: var(--bg-color);\n",
              "    border: none;\n",
              "    border-radius: 50%;\n",
              "    cursor: pointer;\n",
              "    display: none;\n",
              "    fill: var(--fill-color);\n",
              "    height: 32px;\n",
              "    padding: 0;\n",
              "    width: 32px;\n",
              "  }\n",
              "\n",
              "  .colab-df-quickchart:hover {\n",
              "    background-color: var(--hover-bg-color);\n",
              "    box-shadow: 0 1px 2px rgba(60, 64, 67, 0.3), 0 1px 3px 1px rgba(60, 64, 67, 0.15);\n",
              "    fill: var(--button-hover-fill-color);\n",
              "  }\n",
              "\n",
              "  .colab-df-quickchart-complete:disabled,\n",
              "  .colab-df-quickchart-complete:disabled:hover {\n",
              "    background-color: var(--disabled-bg-color);\n",
              "    fill: var(--disabled-fill-color);\n",
              "    box-shadow: none;\n",
              "  }\n",
              "\n",
              "  .colab-df-spinner {\n",
              "    border: 2px solid var(--fill-color);\n",
              "    border-color: transparent;\n",
              "    border-bottom-color: var(--fill-color);\n",
              "    animation:\n",
              "      spin 1s steps(1) infinite;\n",
              "  }\n",
              "\n",
              "  @keyframes spin {\n",
              "    0% {\n",
              "      border-color: transparent;\n",
              "      border-bottom-color: var(--fill-color);\n",
              "      border-left-color: var(--fill-color);\n",
              "    }\n",
              "    20% {\n",
              "      border-color: transparent;\n",
              "      border-left-color: var(--fill-color);\n",
              "      border-top-color: var(--fill-color);\n",
              "    }\n",
              "    30% {\n",
              "      border-color: transparent;\n",
              "      border-left-color: var(--fill-color);\n",
              "      border-top-color: var(--fill-color);\n",
              "      border-right-color: var(--fill-color);\n",
              "    }\n",
              "    40% {\n",
              "      border-color: transparent;\n",
              "      border-right-color: var(--fill-color);\n",
              "      border-top-color: var(--fill-color);\n",
              "    }\n",
              "    60% {\n",
              "      border-color: transparent;\n",
              "      border-right-color: var(--fill-color);\n",
              "    }\n",
              "    80% {\n",
              "      border-color: transparent;\n",
              "      border-right-color: var(--fill-color);\n",
              "      border-bottom-color: var(--fill-color);\n",
              "    }\n",
              "    90% {\n",
              "      border-color: transparent;\n",
              "      border-bottom-color: var(--fill-color);\n",
              "    }\n",
              "  }\n",
              "</style>\n",
              "\n",
              "  <script>\n",
              "    async function quickchart(key) {\n",
              "      const quickchartButtonEl =\n",
              "        document.querySelector('#' + key + ' button');\n",
              "      quickchartButtonEl.disabled = true;  // To prevent multiple clicks.\n",
              "      quickchartButtonEl.classList.add('colab-df-spinner');\n",
              "      try {\n",
              "        const charts = await google.colab.kernel.invokeFunction(\n",
              "            'suggestCharts', [key], {});\n",
              "      } catch (error) {\n",
              "        console.error('Error during call to suggestCharts:', error);\n",
              "      }\n",
              "      quickchartButtonEl.classList.remove('colab-df-spinner');\n",
              "      quickchartButtonEl.classList.add('colab-df-quickchart-complete');\n",
              "    }\n",
              "    (() => {\n",
              "      let quickchartButtonEl =\n",
              "        document.querySelector('#df-4cfa867e-eb5d-4170-992b-54383933fe63 button');\n",
              "      quickchartButtonEl.style.display =\n",
              "        google.colab.kernel.accessAllowed ? 'block' : 'none';\n",
              "    })();\n",
              "  </script>\n",
              "</div>\n",
              "\n",
              "    </div>\n",
              "  </div>\n"
            ],
            "application/vnd.google.colaboratory.intrinsic+json": {
              "type": "dataframe",
              "variable_name": "df",
              "summary": "{\n  \"name\": \"df\",\n  \"rows\": 15000,\n  \"fields\": [\n    {\n      \"column\": \"content\",\n      \"properties\": {\n        \"dtype\": \"category\",\n        \"num_unique_values\": 518,\n        \"samples\": [\n          \"I\\u2019ve been a long-time player and love the game, but recent changes have been frustrating. The new credit points system for playing or farming is poorly timed and disrupts the flow. Additionally, the AI used for violations is problematic and doesn\\u2019t work well. It negatively impacts gameplay. I hope these issues are sorted out soon, as the game has a lot of potential.\",\n          \"FANTASTIC GAME!! I have been playing for almost 2 and a half years and have had an overall great experience, However... The new version 2.0 update that happened a while ago. This update does not allow my phone to play unless I am on wifi. I do not have wifi in my home so I can only play at places with wifi which have a worse connection than my phone service. I am a loyal gamer and have shamelessly spent over $160. It feels bad that I am barely allowed to play. Please fix this before I lose hope!\",\n          \"Not enough starter characters. Buying new characters is locked through some kind of mastery system that isn't explained. The game gets dull and repetitive since you're locked into only a few decent characters. With all the other moba games out there, this one is just too annoying to figure out with all the useless currencies they award you with that don't amount to much and their popups, the repetitive game play due to lack of character chooses, less to most game having the same line ups.\"\n        ],\n        \"semantic_type\": \"\",\n        \"description\": \"\"\n      }\n    },\n    {\n      \"column\": \"score\",\n      \"properties\": {\n        \"dtype\": \"number\",\n        \"std\": 1,\n        \"min\": 1,\n        \"max\": 5,\n        \"num_unique_values\": 5,\n        \"samples\": [\n          2,\n          5,\n          3\n        ],\n        \"semantic_type\": \"\",\n        \"description\": \"\"\n      }\n    }\n  ]\n}"
            }
          },
          "metadata": {},
          "execution_count": 9
        }
      ]
    },
    {
      "cell_type": "code",
      "source": [
        "lemmatizer = WordNetLemmatizer()\n",
        "stop_words = set(stopwords.words('english'))\n",
        "\n",
        "\n",
        "def to_lowercase(text):\n",
        "    return text.lower()\n",
        "\n",
        "def clean_text(text):\n",
        "    text = re.sub(r\"https\\S+\", \"\", text)\n",
        "    text = re.sub(r'[^\\x00-\\x7F]+', '', text)\n",
        "    text = re.sub(r\"\\d+\", \"\", text)\n",
        "    text = text.translate(str.maketrans(\"\", \"\", string.punctuation))\n",
        "    return text\n",
        "\n",
        "def lemma_text(text):\n",
        "    words = word_tokenize(text)\n",
        "    lemmatized_words = [lemmatizer.lemmatize(word) for word in words if word not in stop_words]\n",
        "    return \" \".join(lemmatized_words)\n",
        "\n",
        "def preprocess_text(text):\n",
        "    text = to_lowercase(text)\n",
        "    text = clean_text(text)\n",
        "    text = lemma_text(text)\n",
        "    return text\n",
        "\n",
        "df['content'] = df['content'].apply(preprocess_text)"
      ],
      "metadata": {
        "id": "aS2a229x897L"
      },
      "execution_count": 10,
      "outputs": []
    },
    {
      "cell_type": "code",
      "source": [
        "df['label'] = df['score'].apply(lambda x: 'positive' if x >= 4 else 'neutral' if x == 3 else 'negative')\n"
      ],
      "metadata": {
        "id": "zmz2-FVWxPaR"
      },
      "execution_count": 11,
      "outputs": []
    },
    {
      "cell_type": "code",
      "source": [
        "df.head()"
      ],
      "metadata": {
        "colab": {
          "base_uri": "https://localhost:8080/",
          "height": 206
        },
        "id": "YKVIQ3GF-RqL",
        "outputId": "e421751a-207e-4380-d0ed-ae64fde7a036"
      },
      "execution_count": 12,
      "outputs": [
        {
          "output_type": "execute_result",
          "data": {
            "text/plain": [
              "                                             content  score     label\n",
              "0  always get mvp lose side matter status skill b...      1  negative\n",
              "1  download game perfect example broke dont fix p...      1  negative\n",
              "2  playing game year enjoyed play game pas time h...      1  negative\n",
              "3  love game basically impossible retrieve accoun...      1  negative\n",
              "4  come matchmaking portion rank modeit disgustin...      1  negative"
            ],
            "text/html": [
              "\n",
              "  <div id=\"df-9a06f50a-b5e0-494a-a450-6e72e1df6c43\" class=\"colab-df-container\">\n",
              "    <div>\n",
              "<style scoped>\n",
              "    .dataframe tbody tr th:only-of-type {\n",
              "        vertical-align: middle;\n",
              "    }\n",
              "\n",
              "    .dataframe tbody tr th {\n",
              "        vertical-align: top;\n",
              "    }\n",
              "\n",
              "    .dataframe thead th {\n",
              "        text-align: right;\n",
              "    }\n",
              "</style>\n",
              "<table border=\"1\" class=\"dataframe\">\n",
              "  <thead>\n",
              "    <tr style=\"text-align: right;\">\n",
              "      <th></th>\n",
              "      <th>content</th>\n",
              "      <th>score</th>\n",
              "      <th>label</th>\n",
              "    </tr>\n",
              "  </thead>\n",
              "  <tbody>\n",
              "    <tr>\n",
              "      <th>0</th>\n",
              "      <td>always get mvp lose side matter status skill b...</td>\n",
              "      <td>1</td>\n",
              "      <td>negative</td>\n",
              "    </tr>\n",
              "    <tr>\n",
              "      <th>1</th>\n",
              "      <td>download game perfect example broke dont fix p...</td>\n",
              "      <td>1</td>\n",
              "      <td>negative</td>\n",
              "    </tr>\n",
              "    <tr>\n",
              "      <th>2</th>\n",
              "      <td>playing game year enjoyed play game pas time h...</td>\n",
              "      <td>1</td>\n",
              "      <td>negative</td>\n",
              "    </tr>\n",
              "    <tr>\n",
              "      <th>3</th>\n",
              "      <td>love game basically impossible retrieve accoun...</td>\n",
              "      <td>1</td>\n",
              "      <td>negative</td>\n",
              "    </tr>\n",
              "    <tr>\n",
              "      <th>4</th>\n",
              "      <td>come matchmaking portion rank modeit disgustin...</td>\n",
              "      <td>1</td>\n",
              "      <td>negative</td>\n",
              "    </tr>\n",
              "  </tbody>\n",
              "</table>\n",
              "</div>\n",
              "    <div class=\"colab-df-buttons\">\n",
              "\n",
              "  <div class=\"colab-df-container\">\n",
              "    <button class=\"colab-df-convert\" onclick=\"convertToInteractive('df-9a06f50a-b5e0-494a-a450-6e72e1df6c43')\"\n",
              "            title=\"Convert this dataframe to an interactive table.\"\n",
              "            style=\"display:none;\">\n",
              "\n",
              "  <svg xmlns=\"http://www.w3.org/2000/svg\" height=\"24px\" viewBox=\"0 -960 960 960\">\n",
              "    <path d=\"M120-120v-720h720v720H120Zm60-500h600v-160H180v160Zm220 220h160v-160H400v160Zm0 220h160v-160H400v160ZM180-400h160v-160H180v160Zm440 0h160v-160H620v160ZM180-180h160v-160H180v160Zm440 0h160v-160H620v160Z\"/>\n",
              "  </svg>\n",
              "    </button>\n",
              "\n",
              "  <style>\n",
              "    .colab-df-container {\n",
              "      display:flex;\n",
              "      gap: 12px;\n",
              "    }\n",
              "\n",
              "    .colab-df-convert {\n",
              "      background-color: #E8F0FE;\n",
              "      border: none;\n",
              "      border-radius: 50%;\n",
              "      cursor: pointer;\n",
              "      display: none;\n",
              "      fill: #1967D2;\n",
              "      height: 32px;\n",
              "      padding: 0 0 0 0;\n",
              "      width: 32px;\n",
              "    }\n",
              "\n",
              "    .colab-df-convert:hover {\n",
              "      background-color: #E2EBFA;\n",
              "      box-shadow: 0px 1px 2px rgba(60, 64, 67, 0.3), 0px 1px 3px 1px rgba(60, 64, 67, 0.15);\n",
              "      fill: #174EA6;\n",
              "    }\n",
              "\n",
              "    .colab-df-buttons div {\n",
              "      margin-bottom: 4px;\n",
              "    }\n",
              "\n",
              "    [theme=dark] .colab-df-convert {\n",
              "      background-color: #3B4455;\n",
              "      fill: #D2E3FC;\n",
              "    }\n",
              "\n",
              "    [theme=dark] .colab-df-convert:hover {\n",
              "      background-color: #434B5C;\n",
              "      box-shadow: 0px 1px 3px 1px rgba(0, 0, 0, 0.15);\n",
              "      filter: drop-shadow(0px 1px 2px rgba(0, 0, 0, 0.3));\n",
              "      fill: #FFFFFF;\n",
              "    }\n",
              "  </style>\n",
              "\n",
              "    <script>\n",
              "      const buttonEl =\n",
              "        document.querySelector('#df-9a06f50a-b5e0-494a-a450-6e72e1df6c43 button.colab-df-convert');\n",
              "      buttonEl.style.display =\n",
              "        google.colab.kernel.accessAllowed ? 'block' : 'none';\n",
              "\n",
              "      async function convertToInteractive(key) {\n",
              "        const element = document.querySelector('#df-9a06f50a-b5e0-494a-a450-6e72e1df6c43');\n",
              "        const dataTable =\n",
              "          await google.colab.kernel.invokeFunction('convertToInteractive',\n",
              "                                                    [key], {});\n",
              "        if (!dataTable) return;\n",
              "\n",
              "        const docLinkHtml = 'Like what you see? Visit the ' +\n",
              "          '<a target=\"_blank\" href=https://colab.research.google.com/notebooks/data_table.ipynb>data table notebook</a>'\n",
              "          + ' to learn more about interactive tables.';\n",
              "        element.innerHTML = '';\n",
              "        dataTable['output_type'] = 'display_data';\n",
              "        await google.colab.output.renderOutput(dataTable, element);\n",
              "        const docLink = document.createElement('div');\n",
              "        docLink.innerHTML = docLinkHtml;\n",
              "        element.appendChild(docLink);\n",
              "      }\n",
              "    </script>\n",
              "  </div>\n",
              "\n",
              "\n",
              "<div id=\"df-9e1db1fd-212d-4d70-a7a6-507e6ff0f99f\">\n",
              "  <button class=\"colab-df-quickchart\" onclick=\"quickchart('df-9e1db1fd-212d-4d70-a7a6-507e6ff0f99f')\"\n",
              "            title=\"Suggest charts\"\n",
              "            style=\"display:none;\">\n",
              "\n",
              "<svg xmlns=\"http://www.w3.org/2000/svg\" height=\"24px\"viewBox=\"0 0 24 24\"\n",
              "     width=\"24px\">\n",
              "    <g>\n",
              "        <path d=\"M19 3H5c-1.1 0-2 .9-2 2v14c0 1.1.9 2 2 2h14c1.1 0 2-.9 2-2V5c0-1.1-.9-2-2-2zM9 17H7v-7h2v7zm4 0h-2V7h2v10zm4 0h-2v-4h2v4z\"/>\n",
              "    </g>\n",
              "</svg>\n",
              "  </button>\n",
              "\n",
              "<style>\n",
              "  .colab-df-quickchart {\n",
              "      --bg-color: #E8F0FE;\n",
              "      --fill-color: #1967D2;\n",
              "      --hover-bg-color: #E2EBFA;\n",
              "      --hover-fill-color: #174EA6;\n",
              "      --disabled-fill-color: #AAA;\n",
              "      --disabled-bg-color: #DDD;\n",
              "  }\n",
              "\n",
              "  [theme=dark] .colab-df-quickchart {\n",
              "      --bg-color: #3B4455;\n",
              "      --fill-color: #D2E3FC;\n",
              "      --hover-bg-color: #434B5C;\n",
              "      --hover-fill-color: #FFFFFF;\n",
              "      --disabled-bg-color: #3B4455;\n",
              "      --disabled-fill-color: #666;\n",
              "  }\n",
              "\n",
              "  .colab-df-quickchart {\n",
              "    background-color: var(--bg-color);\n",
              "    border: none;\n",
              "    border-radius: 50%;\n",
              "    cursor: pointer;\n",
              "    display: none;\n",
              "    fill: var(--fill-color);\n",
              "    height: 32px;\n",
              "    padding: 0;\n",
              "    width: 32px;\n",
              "  }\n",
              "\n",
              "  .colab-df-quickchart:hover {\n",
              "    background-color: var(--hover-bg-color);\n",
              "    box-shadow: 0 1px 2px rgba(60, 64, 67, 0.3), 0 1px 3px 1px rgba(60, 64, 67, 0.15);\n",
              "    fill: var(--button-hover-fill-color);\n",
              "  }\n",
              "\n",
              "  .colab-df-quickchart-complete:disabled,\n",
              "  .colab-df-quickchart-complete:disabled:hover {\n",
              "    background-color: var(--disabled-bg-color);\n",
              "    fill: var(--disabled-fill-color);\n",
              "    box-shadow: none;\n",
              "  }\n",
              "\n",
              "  .colab-df-spinner {\n",
              "    border: 2px solid var(--fill-color);\n",
              "    border-color: transparent;\n",
              "    border-bottom-color: var(--fill-color);\n",
              "    animation:\n",
              "      spin 1s steps(1) infinite;\n",
              "  }\n",
              "\n",
              "  @keyframes spin {\n",
              "    0% {\n",
              "      border-color: transparent;\n",
              "      border-bottom-color: var(--fill-color);\n",
              "      border-left-color: var(--fill-color);\n",
              "    }\n",
              "    20% {\n",
              "      border-color: transparent;\n",
              "      border-left-color: var(--fill-color);\n",
              "      border-top-color: var(--fill-color);\n",
              "    }\n",
              "    30% {\n",
              "      border-color: transparent;\n",
              "      border-left-color: var(--fill-color);\n",
              "      border-top-color: var(--fill-color);\n",
              "      border-right-color: var(--fill-color);\n",
              "    }\n",
              "    40% {\n",
              "      border-color: transparent;\n",
              "      border-right-color: var(--fill-color);\n",
              "      border-top-color: var(--fill-color);\n",
              "    }\n",
              "    60% {\n",
              "      border-color: transparent;\n",
              "      border-right-color: var(--fill-color);\n",
              "    }\n",
              "    80% {\n",
              "      border-color: transparent;\n",
              "      border-right-color: var(--fill-color);\n",
              "      border-bottom-color: var(--fill-color);\n",
              "    }\n",
              "    90% {\n",
              "      border-color: transparent;\n",
              "      border-bottom-color: var(--fill-color);\n",
              "    }\n",
              "  }\n",
              "</style>\n",
              "\n",
              "  <script>\n",
              "    async function quickchart(key) {\n",
              "      const quickchartButtonEl =\n",
              "        document.querySelector('#' + key + ' button');\n",
              "      quickchartButtonEl.disabled = true;  // To prevent multiple clicks.\n",
              "      quickchartButtonEl.classList.add('colab-df-spinner');\n",
              "      try {\n",
              "        const charts = await google.colab.kernel.invokeFunction(\n",
              "            'suggestCharts', [key], {});\n",
              "      } catch (error) {\n",
              "        console.error('Error during call to suggestCharts:', error);\n",
              "      }\n",
              "      quickchartButtonEl.classList.remove('colab-df-spinner');\n",
              "      quickchartButtonEl.classList.add('colab-df-quickchart-complete');\n",
              "    }\n",
              "    (() => {\n",
              "      let quickchartButtonEl =\n",
              "        document.querySelector('#df-9e1db1fd-212d-4d70-a7a6-507e6ff0f99f button');\n",
              "      quickchartButtonEl.style.display =\n",
              "        google.colab.kernel.accessAllowed ? 'block' : 'none';\n",
              "    })();\n",
              "  </script>\n",
              "</div>\n",
              "\n",
              "    </div>\n",
              "  </div>\n"
            ],
            "application/vnd.google.colaboratory.intrinsic+json": {
              "type": "dataframe",
              "variable_name": "df",
              "summary": "{\n  \"name\": \"df\",\n  \"rows\": 15000,\n  \"fields\": [\n    {\n      \"column\": \"content\",\n      \"properties\": {\n        \"dtype\": \"category\",\n        \"num_unique_values\": 518,\n        \"samples\": [\n          \"ive longtime player love game recent change frustrating new credit point system playing farming poorly timed disrupts flow additionally ai used violation problematic doesnt work well negatively impact gameplay hope issue sorted soon game lot potential\",\n          \"fantastic game playing almost half year overall great experience however new version update happened ago update allow phone play unless wifi wifi home play place wifi worse connection phone service loyal gamer shamelessly spent feel bad barely allowed play please fix lose hope\",\n          \"enough starter character buying new character locked kind mastery system isnt explained game get dull repetitive since youre locked decent character moba game one annoying figure useless currency award dont amount much popups repetitive game play due lack character chooses less game line ups\"\n        ],\n        \"semantic_type\": \"\",\n        \"description\": \"\"\n      }\n    },\n    {\n      \"column\": \"score\",\n      \"properties\": {\n        \"dtype\": \"number\",\n        \"std\": 1,\n        \"min\": 1,\n        \"max\": 5,\n        \"num_unique_values\": 5,\n        \"samples\": [\n          2,\n          5,\n          3\n        ],\n        \"semantic_type\": \"\",\n        \"description\": \"\"\n      }\n    },\n    {\n      \"column\": \"label\",\n      \"properties\": {\n        \"dtype\": \"category\",\n        \"num_unique_values\": 3,\n        \"samples\": [\n          \"negative\",\n          \"neutral\",\n          \"positive\"\n        ],\n        \"semantic_type\": \"\",\n        \"description\": \"\"\n      }\n    }\n  ]\n}"
            }
          },
          "metadata": {},
          "execution_count": 12
        }
      ]
    },
    {
      "cell_type": "markdown",
      "source": [
        "## Label Distribution"
      ],
      "metadata": {
        "id": "7Noyt8WIxXYe"
      }
    },
    {
      "cell_type": "code",
      "source": [
        "sns.countplot(df['label'])\n",
        "plt.title('Label Distribution')\n",
        "plt.show()"
      ],
      "metadata": {
        "colab": {
          "base_uri": "https://localhost:8080/",
          "height": 472
        },
        "id": "-5mwkUROxU6A",
        "outputId": "3dd2cb36-45c0-4a9a-d219-7414a156ee63"
      },
      "execution_count": 13,
      "outputs": [
        {
          "output_type": "display_data",
          "data": {
            "text/plain": [
              "<Figure size 640x480 with 1 Axes>"
            ],
            "image/png": "[encoded data removed]"
          },
          "metadata": {}
        }
      ]
    },
    {
      "cell_type": "markdown",
      "source": [
        "## Tokenization & Pad Sequences"
      ],
      "metadata": {
        "id": "5tpbV9v_EdtJ"
      }
    },
    {
      "cell_type": "code",
      "source": [
        "max_words = 10000\n",
        "max_len = 100\n",
        "\n",
        "tokenizer = Tokenizer(num_words=max_words)\n",
        "tokenizer.fit_on_texts(df['content'])\n",
        "X = tokenizer.texts_to_sequences(df['content'])\n",
        "X = pad_sequences(X, maxlen=max_len, padding='post')"
      ],
      "metadata": {
        "id": "7vXhQLSjdF47"
      },
      "execution_count": 14,
      "outputs": []
    },
    {
      "cell_type": "code",
      "source": [
        "print(tokenizer.word_index)"
      ],
      "metadata": {
        "colab": {
          "base_uri": "https://localhost:8080/"
        },
        "id": "-TPOS_iGAUY-",
        "outputId": "8553beed-231c-45a2-be22-c5e735722583"
      },
      "execution_count": 15,
      "outputs": [
        {
          "output_type": "stream",
          "name": "stdout",
          "text": [
            "{'game': 1, 'player': 2, 'play': 3, 'get': 4, 'match': 5, 'like': 6, 'good': 7, 'matchmaking': 8, 'hero': 9, 'system': 10, 'time': 11, 'team': 12, 'really': 13, 'playing': 14, 'fix': 15, 'even': 16, 'fun': 17, 'im': 18, 'rank': 19, 'one': 20, 'dont': 21, 'teammate': 22, 'issue': 23, 'star': 24, 'problem': 25, 'make': 26, 'still': 27, 'also': 28, 'always': 29, 'great': 30, 'please': 31, 'love': 32, 'ive': 33, 'new': 34, 'character': 35, 'keep': 36, 'thing': 37, 'skin': 38, 'would': 39, 'bad': 40, 'year': 41, 'lot': 42, 'cant': 43, 'lose': 44, 'much': 45, 'update': 46, 'people': 47, 'lag': 48, 'skill': 49, 'many': 50, 'mobile': 51, 'legend': 52, 'mode': 53, 'give': 54, 'sometimes': 55, 'gameplay': 56, 'back': 57, 'making': 58, 'experience': 59, 'every': 60, 'moonton': 61, 'ranked': 62, 'need': 63, 'there': 64, 'doesnt': 65, 'enemy': 66, 'phone': 67, 'played': 68, 'since': 69, 'way': 70, 'want': 71, 'win': 72, 'better': 73, 'u': 74, 'getting': 75, 'solo': 76, 'know': 77, 'graphic': 78, 'hope': 79, 'take': 80, 'best': 81, 'work': 82, 'moba': 83, 'overall': 84, 'afk': 85, 'thats': 86, 'high': 87, 'say': 88, 'though': 89, 'connection': 90, 'event': 91, 'could': 92, 'unfair': 93, 'dark': 94, 'bug': 95, 'youre': 96, 'go': 97, 'feel': 98, 'friend': 99, 'classic': 100, 'first': 101, 'never': 102, 'fixed': 103, 'mlbb': 104, 'level': 105, 'got': 106, 'well': 107, 'start': 108, 'control': 109, 'screen': 110, 'cause': 111, 'credit': 112, 'hard': 113, 'point': 114, 'ping': 115, 'low': 116, 'score': 117, 'frustrating': 118, 'almost': 119, 'lane': 120, 'annoying': 121, 'something': 122, 'going': 123, 'little': 124, 'end': 125, 'ill': 126, 'worst': 127, 'account': 128, 'however': 129, 'help': 130, 'see': 131, 'use': 132, 'wifi': 133, 'unbalanced': 134, 'bit': 135, 'long': 136, 'change': 137, 'already': 138, 'money': 139, 'competitive': 140, 'everything': 141, 'battle': 142, 'think': 143, 'come': 144, 'put': 145, 'device': 146, 'diamond': 147, 'minute': 148, 'often': 149, 'losing': 150, 'nothing': 151, 'either': 152, 'toxic': 153, 'try': 154, 'especially': 155, 'streak': 156, 'crash': 157, 'network': 158, 'pretty': 159, 'next': 160, 'app': 161, 'enjoy': 162, 'fair': 163, 'terrible': 164, 'anything': 165, 'lost': 166, 'rate': 167, 'anymore': 168, 'someone': 169, 'free': 170, 'isnt': 171, 'second': 172, 'balance': 173, 'didnt': 174, 'let': 175, 'internet': 176, 'happens': 177, 'na': 178, 'mythic': 179, 'move': 180, 'look': 181, 'lagging': 182, 'effect': 183, 'used': 184, 'server': 185, 'wont': 186, 'day': 187, 'item': 188, 'reported': 189, 'actually': 190, 'ever': 191, 'everytime': 192, 'without': 193, 'role': 194, 'reason': 195, 'made': 196, 'old': 197, 'another': 198, 'easy': 199, 'fine': 200, 'higher': 201, 'guy': 202, 'expensive': 203, 'trash': 204, 'trying': 205, 'find': 206, 'choose': 207, 'loading': 208, 'whenever': 209, 'worse': 210, 'honestly': 211, 'matching': 212, 'freeze': 213, 'real': 214, 'nice': 215, 'full': 216, 'pick': 217, 'started': 218, 'damage': 219, 'hate': 220, 'past': 221, 'season': 222, 'download': 223, 'bot': 224, 'part': 225, 'become': 226, 'constantly': 227, 'report': 228, 'instead': 229, 'experienced': 230, 'rating': 231, 'stuck': 232, 'main': 233, 'yet': 234, 'load': 235, 'ai': 236, 'completely': 237, 'v': 238, 'literally': 239, 'turn': 240, 'mean': 241, 'week': 242, 'pay': 243, 'least': 244, 'smooth': 245, 'developer': 246, 'suddenly': 247, 'due': 248, 'matched': 249, 'hour': 250, 'opponent': 251, 'giving': 252, 'lack': 253, 'cool': 254, 'bang': 255, 'quite': 256, 'recharge': 257, 'map': 258, 'last': 259, 'amazing': 260, 'around': 261, 'build': 262, 'offline': 263, 'review': 264, 'using': 265, 'crashing': 266, 'slow': 267, 'recommend': 268, 'month': 269, 'right': 270, 'quit': 271, 'away': 272, 'able': 273, 'feature': 274, 'thank': 275, 'pls': 276, 'enough': 277, 'violation': 278, 'early': 279, 'spend': 280, 'kind': 281, 'wait': 282, 'suck': 283, 'option': 284, 'stop': 285, 'kill': 286, 'super': 287, 'top': 288, 'enjoyable': 289, 'delete': 290, 'tried': 291, 'gon': 292, 'probably': 293, 'starlight': 294, 'fact': 295, 'awesome': 296, 'sure': 297, 'winning': 298, 'customer': 299, 'wrong': 300, 'league': 301, 'gaming': 302, 'lower': 303, 'gold': 304, 'adjust': 305, 'buy': 306, 'set': 307, 'add': 308, 'although': 309, 'might': 310, 'seriously': 311, 'whole': 312, 'marksman': 313, 'ruin': 314, 'improve': 315, 'horrible': 316, 'random': 317, 'unless': 318, 'understand': 319, 'soon': 320, 'epic': 321, 'different': 322, 'said': 323, 'id': 324, 'improvement': 325, 'poor': 326, 'several': 327, 'absolutely': 328, 'easily': 329, 'practice': 330, 'kinda': 331, 'normal': 332, 'consider': 333, 'edit': 334, 'based': 335, 'big': 336, 'maybe': 337, 'learn': 338, 'group': 339, 'useless': 340, 'else': 341, 'design': 342, 'ml': 343, 'noticed': 344, 'service': 345, 'seems': 346, 'recently': 347, 'others': 348, 'potential': 349, 'came': 350, 'access': 351, 'theyre': 352, 'believe': 353, 'lol': 354, 'arent': 355, 'okay': 356, 'multiple': 357, 'couldnt': 358, 'place': 359, 'laggy': 360, 'recharged': 361, 'frustrated': 362, 'worth': 363, 'seem': 364, 'went': 365, 'etc': 366, 'cost': 367, 'huge': 368, 'amount': 369, 'far': 370, 'fighting': 371, 'perfect': 372, 'less': 373, 'reward': 374, 'op': 375, 'ability': 376, 'two': 377, 'feed': 378, 'chance': 379, 'boring': 380, 'remove': 381, 'forever': 382, 'force': 383, 'allow': 384, 'youll': 385, 'offer': 386, 'space': 387, 'solid': 388, 'ended': 389, 'resource': 390, 'signal': 391, 'usually': 392, 'support': 393, 'late': 394, 'moontoon': 395, 'fault': 396, 'shouldnt': 397, 'row': 398, 'happen': 399, 'progress': 400, 'wish': 401, 'unable': 402, 'decent': 403, 'show': 404, 'ago': 405, 'buff': 406, 'passive': 407, 'sound': 408, 'experiencing': 409, 'mechanic': 410, 'data': 411, 'brawl': 412, 'highly': 413, 'major': 414, 'otherwise': 415, 'half': 416, 'certain': 417, 'tutorial': 418, 'troll': 419, 'grandmaster': 420, 'base': 421, 'restart': 422, 'stable': 423, 'drop': 424, 'release': 425, 'matter': 426, 'fight': 427, 'impossible': 428, 'pas': 429, 'difficult': 430, 'teamates': 431, 'waste': 432, 'reach': 433, 'immortal': 434, 'man': 435, 'complaint': 436, 'havent': 437, 'strong': 438, 'clash': 439, 'hit': 440, 'storage': 441, 'spending': 442, 'round': 443, 'done': 444, 'glitch': 445, 'queue': 446, 'mid': 447, 'exciting': 448, 'taking': 449, 'pro': 450, 'seen': 451, 'devs': 452, 'paired': 453, 'stay': 454, 'balanced': 455, 'favorite': 456, 'speed': 457, 'penalty': 458, 'delay': 459, 'extremely': 460, 'must': 461, 'spent': 462, 'updated': 463, 'happened': 464, 'wouldnt': 465, 'joystick': 466, 'till': 467, 'thanks': 468, 'locked': 469, 'stuff': 470, 'sense': 471, 'quick': 472, 'casual': 473, 'addictive': 474, 'deducted': 475, 'care': 476, 'protection': 477, 'strategy': 478, 'longer': 479, 'argus': 480, 'finally': 481, 'process': 482, 'starting': 483, 'teamed': 484, 'entire': 485, 'error': 486, 'squad': 487, 'open': 488, 'run': 489, 'ton': 490, 'choice': 491, 'type': 492, 'everyone': 493, 'anyone': 494, 'limited': 495, 'wan': 496, 'focus': 497, 'wasnt': 498, 'tell': 499, 'attack': 500, 'causing': 501, 'mvp': 502, 'awful': 503, 'encountered': 504, 'leave': 505, 'suggest': 506, 'definitely': 507, 'unlock': 508, 'close': 509, 'example': 510, 'anyway': 511, 'coming': 512, 'alot': 513, 'plus': 514, 'country': 515, 'min': 516, 'loss': 517, 'unnecessary': 518, 'ingame': 519, 'afks': 520, 'leading': 521, 'basic': 522, 'teamwork': 523, 'changed': 524, 'left': 525, 'course': 526, 'exp': 527, 'save': 528, 'chat': 529, 'diverse': 530, 'happy': 531, 'red': 532, 'draw': 533, 'die': 534, 'called': 535, 'reporting': 536, 'within': 537, 'm': 538, 'mind': 539, 'latest': 540, 'looking': 541, 'price': 542, 'idk': 543, 'yes': 544, 'bought': 545, 'ur': 546, 'mention': 547, 'ranking': 548, 'tho': 549, 'ridiculous': 550, 'magic': 551, 'chess': 552, 'compensation': 553, 'requires': 554, 'ticket': 555, 'quality': 556, 'actual': 557, 'taken': 558, 'fixing': 559, 'single': 560, 'challenging': 561, 'stress': 562, 'stronger': 563, 'thought': 564, 'task': 565, 'middle': 566, 'appeal': 567, 'selection': 568, 'black': 569, 'button': 570, 'weird': 571, 'moving': 572, 'gap': 573, 'recent': 574, 'enter': 575, 'ups': 576, 'working': 577, 'battery': 578, 'strategic': 579, 'skilled': 580, 'difficulty': 581, 'took': 582, 'challenge': 583, 'fast': 584, 'despite': 585, 'rest': 586, 'mostly': 587, 'opposing': 588, 'master': 589, 'consistently': 590, 'minion': 591, 'creep': 592, 'movement': 593, 'pushing': 594, 'hoping': 595, 'kick': 596, 'possible': 597, 'phase': 598, 'rift': 599, 'noob': 600, 'found': 601, 'hopefully': 602, 'address': 603, 'cuz': 604, 'fragment': 605, 'variety': 606, 'powerful': 607, 'order': 608, 'leaving': 609, 'cellular': 610, 'gain': 611, 'enjoying': 612, 'glory': 613, 'world': 614, 'bored': 615, 'power': 616, 'feeding': 617, 'whats': 618, 'balancing': 619, 'setting': 620, 'greatly': 621, 'thinking': 622, 'rather': 623, 'sadly': 624, 'simple': 625, 'expect': 626, 'read': 627, 'perfectly': 628, 'stupid': 629, 'may': 630, 'today': 631, 'adding': 632, 'saying': 633, 'ok': 634, 'punishment': 635, 'stressful': 636, 'person': 637, 'basically': 638, 'kept': 639, 'term': 640, 'notification': 641, 'wanted': 642, 'happening': 643, 'whatever': 644, 'drag': 645, 'properly': 646, 'alone': 647, 'enjoyed': 648, 'currency': 649, 'line': 650, 'connect': 651, 'job': 652, 'newbie': 653, 'tap': 654, 'wasted': 655, 'btw': 656, 'algorithm': 657, 'punished': 658, 'compared': 659, 'loosing': 660, 'defeat': 661, 'meta': 662, 'community': 663, 'animation': 664, 'reduced': 665, 'effort': 666, 'bro': 667, 'previous': 668, 'mess': 669, 'dumb': 670, 'yeah': 671, 'clean': 672, 'performance': 673, 'specially': 674, 'theyll': 675, 'file': 676, 'talk': 677, 'arcade': 678, 'broken': 679, 'reduce': 680, 'gotten': 681, 'action': 682, 'turret': 683, 'spike': 684, 'grind': 685, 'reinstall': 686, 'ruined': 687, 'claim': 688, 'buggy': 689, 'lead': 690, 'mate': 691, 'continue': 692, 'improving': 693, 'recommended': 694, 'gem': 695, 'grinding': 696, 'behind': 697, 'stealing': 698, 'equipment': 699, 'reset': 700, 'special': 701, 'survival': 702, 'listen': 703, 'g': 704, 'pc': 705, 'emblem': 706, 'difference': 707, 'online': 708, 'dia': 709, 'short': 710, 'fastpaced': 711, 'launch': 712, 'sad': 713, 'arena': 714, 'computer': 715, 'mainly': 716, 'disappointed': 717, 'premium': 718, 'supply': 719, 'token': 720, 'deleted': 721, 'three': 722, 'worked': 723, 'couple': 724, 'killed': 725, 'simply': 726, 'gave': 727, 'side': 728, 'freezing': 729, 'decided': 730, 'number': 731, 'touch': 732, 'serious': 733, 'constant': 734, 'five': 735, 'running': 736, 'style': 737, 'rare': 738, 'wasting': 739, 'retrieve': 740, 'unlocked': 741, 'helpful': 742, 'currently': 743, 'bar': 744, 'respond': 745, 'k': 746, 'feeder': 747, 'stand': 748, 'acc': 749, 'disappointing': 750, 'bother': 751, 'case': 752, 'reconnect': 753, 'useful': 754, 'obviously': 755, 'unstable': 756, 'turned': 757, 'expected': 758, 'adjustment': 759, 'refresh': 760, 'bring': 761, 'pair': 762, 'goddamn': 763, 'garbage': 764, 'optional': 765, 'wild': 766, 'significantly': 767, 'original': 768, 'cycle': 769, 'promo': 770, 'dy': 771, 'weak': 772, 'duo': 773, 'struggle': 774, 'truly': 775, 'facing': 776, 'near': 777, 'luck': 778, 'lately': 779, 'stat': 780, 'stats': 781, 'whether': 782, 'hok': 783, 'straight': 784, 'ultimate': 785, 'wasd': 786, 'joke': 787, 'warning': 788, 'later': 789, 'searching': 790, 'loyal': 791, 'objective': 792, 'join': 793, 'becomes': 794, 'card': 795, 'learning': 796, 'fail': 797, 'yr': 798, 'climb': 799, 'atleast': 800, 'thus': 801, 'forced': 802, 'winrate': 803, 'supposed': 804, 'model': 805, 'honest': 806, 'expert': 807, 'hey': 808, 'smoothly': 809, 'coin': 810, 'boost': 811, 'tired': 812, 'blame': 813, 'popular': 814, 'stun': 815, 'received': 816, 'surrender': 817, 'receive': 818, 'location': 819, 'wonderful': 820, 'regular': 821, 'added': 822, 'unique': 823, 'engaging': 824, 'suggestion': 825, 'appreciated': 826, 'daily': 827, 'except': 828, 'handle': 829, 'dead': 830, 'upgrade': 831, 'tank': 832, 'crashed': 833, 'sudden': 834, 'improved': 835, 'bully': 836, 'version': 837, 'lobby': 838, 'pop': 839, 'form': 840, 'drain': 841, 'revamped': 842, 'inappropriate': 843, 'somehow': 844, 'broke': 845, 'memory': 846, 'loses': 847, 'infuriating': 848, 'uninstall': 849, 'figure': 850, 'ensure': 851, 'similar': 852, 'faster': 853, 'appreciate': 854, 'pity': 855, 'downloaded': 856, 'quitting': 857, 'rarely': 858, 'click': 859, 'reconnecting': 860, 'downloading': 861, 'along': 862, 'released': 863, 'green': 864, 'extra': 865, 'current': 866, 'upcoming': 867, 'nowadays': 868, 'werent': 869, 'meaning': 870, 'ultra': 871, 'clear': 872, 'switching': 873, 'honor': 874, 'king': 875, 'youve': 876, 'benefit': 877, 'participate': 878, 'becoming': 879, 'size': 880, 'insane': 881, 'nerf': 882, 'visuals': 883, 'total': 884, 'war': 885, 'ally': 886, 'hear': 887, 'wr': 888, 'yall': 889, 'angry': 890, 'hacked': 891, 'playable': 892, 'scam': 893, 'recall': 894, 'mad': 895, 'unlike': 896, 'absolute': 897, 'progression': 898, 'died': 899, 'history': 900, 'here': 901, 'watch': 902, 'respect': 903, 'hundred': 904, 'result': 905, 'haha': 906, 'onesided': 907, 'hello': 908, 'unfortunately': 909, 'randomly': 910, 'absurd': 911, 'kicked': 912, 'placed': 913, 'content': 914, 'training': 915, 'custom': 916, 'gone': 917, 'needed': 918, 'plenty': 919, 'resulting': 920, 'message': 921, 'including': 922, 'deep': 923, 'bugged': 924, 'champion': 925, 'darksystem': 926, 'removed': 927, 'opinion': 928, 'given': 929, 'fps': 930, 'intentional': 931, 'beautiful': 932, 'ask': 933, 'tier': 934, 'cooperation': 935, 'snowballing': 936, 'jungle': 937, 'eventually': 938, 'trouble': 939, 'attention': 940, 'rule': 941, 'combat': 942, 'lord': 943, 'antiquated': 944, 'log': 945, 'confused': 946, 'carry': 947, 'adjusted': 948, 'keeping': 949, 'chart': 950, 'itbut': 951, 'chipset': 952, 'hz': 953, 'smoother': 954, 'occasional': 955, 'invite': 956, 'count': 957, 'hence': 958, 'rewarding': 959, 'minimal': 960, 'heshe': 961, 'unbelievable': 962, 'hang': 963, 'navigator': 964, 'roulette': 965, 'patch': 966, 'exactly': 967, 'veteran': 968, 'east': 969, 'communicate': 970, 'lifesteal': 971, 'fallen': 972, 'angel': 973, 'he': 974, 'intense': 975, 'curve': 976, 'older': 977, 'ad': 978, 'ban': 979, 'mcl': 980, 'thrilling': 981, 'stunning': 982, 'fresh': 983, 'stopped': 984, 'idea': 985, 'head': 986, 'interface': 987, 'hell': 988, 'harder': 989, 'matchup': 990, 'home': 991, 'dude': 992, 'bronze': 993, 'apps': 994, 'chatting': 995, 'vpn': 996, 'fighter': 997, 'overpowered': 998, 'assassin': 999, 'increase': 1000, 'mine': 1001, 'appropriate': 1002, 'word': 1003, 'crazy': 1004, 'ignorant': 1005, 'addicting': 1006, 'complete': 1007, 'nearly': 1008, 'mobas': 1009, 'irritating': 1010, 'specifically': 1011, 'lock': 1012, 'guess': 1013, 'uninstalled': 1014, 'automatically': 1015, 'live': 1016, 'easier': 1017, 'menu': 1018, 'liked': 1019, 'letting': 1020, 'loved': 1021, 'status': 1022, 'fully': 1023, 'deleting': 1024, 'cheating': 1025, 'disgusting': 1026, 'cut': 1027, 'function': 1028, 'justice': 1029, 'buying': 1030, 'repetitive': 1031, 'installed': 1032, 'repeat': 1033, 'invalid': 1034, 'energy': 1035, 'inexperienced': 1036, 'shall': 1037, 'sending': 1038, 'changing': 1039, 'deserves': 1040, 'opened': 1041, 'damn': 1042, 'pairing': 1043, 'premade': 1044, 'dropped': 1045, 'revamps': 1046, 'rated': 1047, 'yesterday': 1048, 'disappointment': 1049, 'technical': 1050, 'restarts': 1051, 'incredibly': 1052, 'confirmed': 1053, 'hasnt': 1054, 'observed': 1055, 'lvl': 1056, 'adapt': 1057, 'notice': 1058, 'throughout': 1059, 'medium': 1060, 'switch': 1061, 'thou': 1062, 'shouldve': 1063, 'bonus': 1064, 'split': 1065, 'zero': 1066, 'recovery': 1067, 'anywhere': 1068, 'nah': 1069, 'limit': 1070, 'sky': 1071, 'piercer': 1072, 'gb': 1073, 'required': 1074, 'visible': 1075, 'demand': 1076, 'nerfs': 1077, 'opportunity': 1078, 'compatible': 1079, 'helping': 1080, 'walk': 1081, 'gamer': 1082, 'winstreak': 1083, 'controlling': 1084, 'detail': 1085, 'impact': 1086, 'th': 1087, 'brain': 1088, 'lagged': 1089, 'def': 1090, 'feedback': 1091, 'deduction': 1092, 'permanently': 1093, 'night': 1094, 'dev': 1095, 'considering': 1096, 'handful': 1097, 'cosmetic': 1098, 'normally': 1099, 'plan': 1100, 'send': 1101, 'became': 1102, 'teaming': 1103, 'addressing': 1104, 'rly': 1105, 'severe': 1106, 'user': 1107, 'obvious': 1108, 'company': 1109, 'prioritize': 1110, 'performed': 1111, 'frequently': 1112, 'recharging': 1113, 'class': 1114, 'check': 1115, 'picking': 1116, 'defense': 1117, 'loose': 1118, 'per': 1119, 'hitting': 1120, 'inside': 1121, 'thousand': 1122, 'restarted': 1123, 'magically': 1124, 'watching': 1125, 'samsung': 1126, 'god': 1127, 'shot': 1128, 'period': 1129, 'disadvantage': 1130, 'paid': 1131, 'grab': 1132, 'penalizes': 1133, 'text': 1134, 'badly': 1135, 'flawed': 1136, 'prize': 1137, 'rip': 1138, 'willing': 1139, 'language': 1140, 'contact': 1141, 'accessible': 1142, 'hand': 1143, 'typical': 1144, 'paying': 1145, 'scream': 1146, 'fantastic': 1147, 'refuse': 1148, 'position': 1149, 'crucial': 1150, 'turtle': 1151, 'revamping': 1152, 'complex': 1153, 'asap': 1154, 'gig': 1155, 'behavior': 1156, 'brought': 1157, 'shop': 1158, 'advanced': 1159, 'wth': 1160, 'montoon': 1161, 'enjoyment': 1162, 'yellow': 1163, 'finished': 1164, 'harass': 1165, 'satisfied': 1166, 'cooperating': 1167, 'begin': 1168, 'call': 1169, 'consistent': 1170, 'ppl': 1171, 'talking': 1172, 'miss': 1173, 'box': 1174, 'idiot': 1175, 'turning': 1176, 'depend': 1177, 'none': 1178, 'somebody': 1179, 'solve': 1180, 'numerous': 1181, 'chosen': 1182, 'forget': 1183, 'relatively': 1184, 'fall': 1185, 'odds': 1186, 'us': 1187, 'cheaper': 1188, 'favor': 1189, 'overcompetitive': 1190, 'depending': 1191, 'non': 1192, 'moment': 1193, 'typically': 1194, 'lacking': 1195, 'necessary': 1196, 'forcing': 1197, 'tends': 1198, 'deal': 1199, 'outcome': 1200, 'frequent': 1201, 'beginner': 1202, 'understanding': 1203, 'dislike': 1204, 'therefore': 1205, 'pure': 1206, 'capable': 1207, 'favourite': 1208, 'slightest': 1209, 'itd': 1210, 'girlfriend': 1211, 'child': 1212, 'cancer': 1213, 'reached': 1214, 'reducing': 1215, 'affecting': 1216, 'affected': 1217, 'gained': 1218, 'teacher': 1219, 'yin': 1220, 'name': 1221, 'store': 1222, 'road': 1223, 'brings': 1224, 'champ': 1225, 'accurate': 1226, 'purpose': 1227, 'claimed': 1228, 'involved': 1229, 'entertaining': 1230, 'kda': 1231, 'purchase': 1232, 'page': 1233, 'detailed': 1234, 'plz': 1235, 'sale': 1236, 'likely': 1237, 'common': 1238, 'dota': 1239, 'login': 1240, 'annoyed': 1241, 'blast': 1242, 'test': 1243, 'competition': 1244, 'professional': 1245, 'alpha': 1246, 'anyways': 1247, 'profile': 1248, 'comment': 1249, 'hooked': 1250, 'create': 1251, 'ling': 1252, 'surprised': 1253, 'quickly': 1254, 'addressed': 1255, 'interest': 1256, 'galaxy': 1257, 'looked': 1258, 'throw': 1259, 'aspect': 1260, 'toxicity': 1261, 'true': 1262, 'slowly': 1263, 'connected': 1264, 'sometime': 1265, 'november': 1266, 'immunity': 1267, 'commit': 1268, 'tough': 1269, 'skip': 1270, 'gear': 1271, 'defend': 1272, 'forward': 1273, 'regarding': 1274, 'bc': 1275, 'cursing': 1276, 'immediately': 1277, 'unplayable': 1278, 'selected': 1279, 'avatar': 1280, 'requirement': 1281, 'note': 1282, 'specific': 1283, 'redownload': 1284, 'prompt': 1285, 'opposite': 1286, 'kagura': 1287, 'funny': 1288, 'targeting': 1289, 'restarting': 1290, 'continuously': 1291, 'pitch': 1292, 'provided': 1293, 'afkers': 1294, 'art': 1295, 'together': 1296, 'functional': 1297, 'gather': 1298, 'cleared': 1299, 'redownloaded': 1300, 'goodbye': 1301, 'hahaha': 1302, 'obtain': 1303, 'dull': 1304, 'atrocious': 1305, 'ala': 1306, 'uninstalling': 1307, 'addition': 1308, 'series': 1309, 'platform': 1310, 'cheap': 1311, 'return': 1312, 'returned': 1313, 'diversity': 1314, 'investment': 1315, 'frustration': 1316, 'consuming': 1317, 'encounter': 1318, 'totally': 1319, 'literal': 1320, 'dealt': 1321, 'exact': 1322, 'interference': 1323, 'whose': 1324, 'counter': 1325, 'affect': 1326, 'environment': 1327, 'killing': 1328, 'sustain': 1329, 'mod': 1330, 'email': 1331, 'slightly': 1332, 'occasionally': 1333, 'carried': 1334, 'nowhere': 1335, 'par': 1336, 'management': 1337, 'appear': 1338, 'finger': 1339, 'revamp': 1340, 'orginal': 1341, 'hair': 1342, 'vexanna': 1343, 'vale': 1344, 'pre': 1345, 'theyve': 1346, 'controller': 1347, 'redesign': 1348, 'splash': 1349, 'aesthetic': 1350, 'problematic': 1351, 'response': 1352, 'imagine': 1353, 'tbh': 1354, 'sick': 1355, 'burden': 1356, 'face': 1357, 'felt': 1358, 'ignore': 1359, 'ugly': 1360, 'trio': 1361, 'complained': 1362, 'friendly': 1363, 'information': 1364, 'frame': 1365, 'dropping': 1366, 'zombie': 1367, 'bullying': 1368, 'resolution': 1369, 'q': 1370, 'met': 1371, 'intentionally': 1372, 'introduced': 1373, 'knew': 1374, 'pattern': 1375, 'miserable': 1376, 'earned': 1377, 'suitable': 1378, 'ran': 1379, 'jungler': 1380, 'picked': 1381, 'ik': 1382, 'rng': 1383, 'creating': 1384, 'deserve': 1385, 'wow': 1386, 'x': 1387, 'ruining': 1388, 'rigged': 1389, 'f': 1390, 'cache': 1391, 'hated': 1392, 'endless': 1393, 'exit': 1394, 'solution': 1395, 'outside': 1396, 'direction': 1397, 'dot': 1398, 'dollar': 1399, 'banned': 1400, 'ultimately': 1401, 'decide': 1402, 'listed': 1403, 'deliberately': 1404, 'admit': 1405, 'glaring': 1406, 'aware': 1407, 'teamfight': 1408, 'micro': 1409, 'transaction': 1410, 'plagued': 1411, 'barely': 1412, 'encourage': 1413, 'unbearable': 1414, 'aswell': 1415, 'bluetooth': 1416, 'draft': 1417, 'n': 1418, 'inconvenience': 1419, 'pw': 1420, 'penalized': 1421, 'horrendous': 1422, 'clue': 1423, 'finish': 1424, 'enhance': 1425, 'clearly': 1426, 'optimization': 1427, 'stack': 1428, 'smurfs': 1429, 'who': 1430, 'install': 1431, 'intro': 1432, 'impressed': 1433, 'caused': 1434, 'definately': 1435, 'leak': 1436, 'loop': 1437, 'aside': 1438, 'leaderboard': 1439, 'optimized': 1440, 'tend': 1441, 'coordination': 1442, 'light': 1443, 'entertainment': 1444, 'leveled': 1445, 'beacuse': 1446, 'roster': 1447, 'ready': 1448, 'screenshot': 1449, 'request': 1450, 'disconnected': 1451, 'yk': 1452, 'defeated': 1453, 'sorry': 1454, 'competing': 1455, 'farming': 1456, 'contribute': 1457, 'patience': 1458, 'max': 1459, 'anytime': 1460, 'uphill': 1461, 'prob': 1462, 'regret': 1463, 'category': 1464, 'bunch': 1465, 'correctly': 1466, 'nana': 1467, 'checked': 1468, 'complains': 1469, 'catch': 1470, 'tiktok': 1471, 'whatsoever': 1472, 'moderator': 1473, 'harassment': 1474, 'lowered': 1475, 'tab': 1476, 'bed': 1477, 'communication': 1478, 'bummer': 1479, 'matchmakingetc': 1480, 'membership': 1481, 'ranksfix': 1482, 'midgame': 1483, 'firstly': 1484, 'fricking': 1485, 'connecting': 1486, 'sec': 1487, 'devive': 1488, 'downlod': 1489, 'showed': 1490, 'logo': 1491, 'blank': 1492, 'heating': 1493, 'entail': 1494, 'hog': 1495, 'multiplayer': 1496, 'instance': 1497, 'loos': 1498, 'appears': 1499, 'saving': 1500, 'matchesand': 1501, 'showcase': 1502, 'awareness': 1503, 'enoughif': 1504, 'tag': 1505, 'careful': 1506, 'therong': 1507, 'happily': 1508, 'hardcore': 1509, 'perform': 1510, 'heavy': 1511, 'penalize': 1512, 'sanction': 1513, 'occurred': 1514, 'painstaking': 1515, 'shotted': 1516, 'sensible': 1517, 'composition': 1518, 'existent': 1519, 'hefty': 1520, 'penny': 1521, 'proved': 1522, 'comp': 1523, 'sole': 1524, 'combination': 1525, 'mages': 1526, 'clock': 1527, 'conjunction': 1528, 'trident': 1529, 'tedious': 1530, 'leaf': 1531, 'ending': 1532, 'consequence': 1533, 'rubber': 1534, 'band': 1535, 'mutual': 1536, 'estimated': 1537, 'calculation': 1538, 'eta': 1539, 'guarding': 1540, 'destroyed': 1541, 'texting': 1542, 'b': 1543, 'oh': 1544, 'layout': 1545, 'wallpaper': 1546, 'factory': 1547, 'reseted': 1548, 'changer': 1549, 'dissatisfaction': 1550, 'satisfactory': 1551, 'meh': 1552, 'concerned': 1553, 'wellreceived': 1554, 'focusing': 1555, 'lesspopular': 1556, 'priority': 1557, 'underlying': 1558, 'measure': 1559, 'witb': 1560, 'mockery': 1561, 'modified': 1562, 'defensive': 1563, 'exceeded': 1564, 'twilight': 1565, 'armor': 1566, 'sock': 1567, 'consulted': 1568, 'cute': 1569, 'suppose': 1570, 'therapy': 1571, 'overly': 1572, 'blowing': 1573, 'meantime': 1574, 'justpainful': 1575, 'proper': 1576, 'rotation': 1577, 'alright': 1578, 'average': 1579, 'frustrate': 1580, 'goad': 1581, 'dominated': 1582, 'crushed': 1583, 'roamingroaming': 1584, 'tankingsupporting': 1585, 'speaking': 1586, 'argument': 1587, 'endure': 1588, 'circumstance': 1589, 'fellow': 1590, 'reader': 1591, 'gaining': 1592, 'howeveri': 1593, 'timeson': 1594, 'minutesi': 1595, 'fq': 1596, 'ha': 1597, 'moneytoon': 1598, 'dang': 1599, 'powered': 1600, 'helio': 1601, 'standard': 1602, 'enhancement': 1603, 'attract': 1604, 'retain': 1605, 'optimizing': 1606, 'spammer': 1607, 'originally': 1608, 'starsbut': 1609, 'lowering': 1610, 'ityou': 1611, 'stablein': 1612, 'particular': 1613, 'hardi': 1614, 'movei': 1615, 'thisnow': 1616, 'pressure': 1617, 'headache': 1618, 'blaming': 1619, 'stalk': 1620, 'ignored': 1621, 'equip': 1622, 'among': 1623, 'countless': 1624, 'elag': 1625, 'wash': 1626, 'arrange': 1627, 'arrangement': 1628, 'incident': 1629, 'worried': 1630, 'genshin': 1631, 'boyfriend': 1632, 'minor': 1633, 'grown': 1634, 'offering': 1635, 'accept': 1636, 'minimize': 1637, 'focused': 1638, 'meanwhile': 1639, 'gank': 1640, 'soloing': 1641, 'playerthey': 1642, 'noone': 1643, 'duotrio': 1644, 'fd': 1645, 'gathering': 1646, 'practise': 1647, 'busy': 1648, 'increasingly': 1649, 'requies': 1650, 'relentless': 1651, 'incremental': 1652, 'progresswhile': 1653, 'monetary': 1654, 'understandable': 1655, 'skews': 1656, 'towards': 1657, 'monetization': 1658, 'dangle': 1659, 'rotate': 1660, 'moontons': 1661, 'silvanna': 1662, 'immediate': 1663, 'stunned': 1664, 'unconscious': 1665, 'introduce': 1666, 'anti': 1667, 'af': 1668, 'builder': 1669, 'scammer': 1670, 'bet': 1671, 'agree': 1672, 'afkying': 1673, 'lesson': 1674, 'cred': 1675, 'cominganend': 1676, 'teleport': 1677, 'assist': 1678, 'whoever': 1679, 'aldeous': 1680, 'advice': 1681, 'tested': 1682, 'exam': 1683, 'eventjust': 1684, 'gamble': 1685, 'activaion': 1686, 'upgradeif': 1687, 'mmr': 1688, 'sucki': 1689, 'tryna': 1690, 'heal': 1691, 'provider': 1692, 'rejoin': 1693, 'violationof': 1694, 'frank': 1695, 'ilnot': 1696, 'lie': 1697, 'gbps': 1698, 'answer': 1699, 'valor': 1700, 'onmiyoji': 1701, 'noice': 1702, 'asset': 1703, 'warrior': 1704, 'divisiontier': 1705, 'swearing': 1706, 'sake': 1707, 'relevance': 1708, 'uniqueness': 1709, 'que': 1710, 'finding': 1711, 'annoyingly': 1712, 'gamplay': 1713, 'defended': 1714, 'curse': 1715, 'plsss': 1716, 'rewritten': 1717, 'skil': 1718, 'mg': 1719, 'gacha': 1720, 'joki': 1721, 'elses': 1722, 'generous': 1723, 'chose': 1724, 'acquiring': 1725, 'vanilla': 1726, 'table': 1727, 'swear': 1728, 'dissatisfied': 1729, 'gmail': 1730, 'journey': 1731, 'recoveryretrieval': 1732, 'method': 1733, 'clam': 1734, 'idc': 1735, 'peacefully': 1736, 'hobby': 1737, 'daybut': 1738, 'concerning': 1739, 'losein': 1740, 'winand': 1741, 'uppls': 1742, 'thisthank': 1743, 'european': 1744, 'africa': 1745, 'europe': 1746, 'trashtalked': 1747, 'huh': 1748, 'whyy': 1749, 'practicing': 1750, 'ived': 1751, 'ten': 1752, 'self': 1753, 'fell': 1754, 'lung': 1755, 'beside': 1756, 'exist': 1757, 'fanny': 1758, 'life': 1759, 'addicted': 1760, 'gift': 1761, 'icon': 1762, 'party': 1763, 'key': 1764, 'flawless': 1765, 'personally': 1766, 'field': 1767, 'negative': 1768, 'translation': 1769, 'story': 1770, 'patient': 1771, 'crystal': 1772, 'fairly': 1773, 'usage': 1774, 'interested': 1775, 'fan': 1776, 'seemed': 1777, 'hectic': 1778, 'waiting': 1779, 'maniac': 1780, 'savage': 1781, 'dedicated': 1782, 'iv': 1783, 'customize': 1784, 'swap': 1785, 'reopen': 1786, 'surprisingly': 1787, 'possibly': 1788, 'casually': 1789, 'require': 1790, 'interesting': 1791, 'gripe': 1792, 'minus': 1793, 'glad': 1794, 'checking': 1795, 'besides': 1796, 'four': 1797, 'breaking': 1798, 'strict': 1799, 'following': 1800, 'lucky': 1801, 'trust': 1802, 'health': 1803, 'uniquely': 1804, 'preferred': 1805, 'gallery': 1806, 'seeing': 1807, 'implement': 1808, 'across': 1809, 'gamers': 1810, 'admin': 1811, 'freaking': 1812, 'timer': 1813, 'allows': 1814, 'sweet': 1815, 'completed': 1816, 'coa': 1817, 'bf': 1818, 'dear': 1819, 'rafaelas': 1820, 'mute': 1821, 'joy': 1822, 'cousin': 1823, 'cooldown': 1824, 'delivers': 1825, 'saw': 1826, 'yo': 1827, 'gamebut': 1828, 'impressive': 1829, 'occurs': 1830, 'feeling': 1831, 'intuitive': 1832, 'vibrant': 1833, 'repeatedly': 1834, 'knowing': 1835, 'rethink': 1836, 'manage': 1837, 'newest': 1838, 'genre': 1839, 'smart': 1840, 'introduction': 1841, 'adored': 1842, 'youtube': 1843, 'synergy': 1844, 'explore': 1845, 'meet': 1846, 'steel': 1847, 'fire': 1848, 'powerfull': 1849, 'lazy': 1850, 'asking': 1851, 'kid': 1852, 'confusing': 1853, 'available': 1854, 'nolan': 1855, 'theme': 1856, 'list': 1857, 'uncooperative': 1858, 'unclear': 1859, 'teleported': 1860, 'resurrected': 1861, 'dying': 1862, 'complain': 1863, 'bringing': 1864, 'purposely': 1865, 'filled': 1866, 'chooses': 1867, 'anger': 1868, 'stressed': 1869, 'hanging': 1870, 'clicking': 1871, 'personal': 1872, 'generally': 1873, 'passed': 1874, 'anime': 1875, 'picture': 1876, 'explanation': 1877, 'irritated': 1878, 'excellent': 1879, 'cash': 1880, 'itll': 1881, 'victory': 1882, 'hardly': 1883, 'newer': 1884, 'press': 1885, 'acting': 1886, 'upset': 1887, 'lasted': 1888, 'unpleasant': 1889, 'profit': 1890, 'portion': 1891, 'modeit': 1892, 'winwin': 1893, 'moreim': 1894, 'referring': 1895, 'wether': 1896, 'unhappy': 1897, 'depleting': 1898, 'electricity': 1899, 'depletes': 1900, 'rapidly': 1901, 'edge': 1902, 'starter': 1903, 'mastery': 1904, 'explained': 1905, 'award': 1906, 'popups': 1907, 'large': 1908, 'blinking': 1909, 'shant': 1910, 'skillbased': 1911, 'wouldve': 1912, 'brutal': 1913, 'dodged': 1914, 'freetime': 1915, 'unskilled': 1916, 'lowend': 1917, 'endlessly': 1918, 'pubg': 1919, 'accidentally': 1920, 'backed': 1921, 'reopened': 1922, 'finishing': 1923, 'okayish': 1924, 'contacted': 1925, 'crushing': 1926, 'significant': 1927, 'eagerly': 1928, 'anticipating': 1929, 'coveting': 1930, 'shocking': 1931, 'failed': 1932, 'excitement': 1933, 'robbed': 1934, 'deserved': 1935, 'anticipation': 1936, 'hype': 1937, 'sting': 1938, 'andor': 1939, 'write': 1940, 'break': 1941, 'nightmare': 1942, 'fustrated': 1943, 'dual': 1944, 'enjoyably': 1945, 'solved': 1946, 'boast': 1947, 'nonmeta': 1948, 'maphack': 1949, 'increasing': 1950, 'alarming': 1951, 'afwul': 1952, 'dopamine': 1953, 'gmgamer': 1954, 'skilful': 1955, 'seasonsupdates': 1956, 'attempt': 1957, 'awfully': 1958, 'record': 1959, 'remain': 1960, 'imbalanced': 1961, 'refer': 1962, 'consistency': 1963, 'spawning': 1964, 'haved': 1965, 'gamei': 1966, 'itpls': 1967, 'rid': 1968, 'activating': 1969, 'nonhero': 1970, 'unitseg': 1971, 'turretstowers': 1972, 'nd': 1973, 'wave': 1974, 'beforeexcept': 1975, 'crit': 1976, 'boi': 1977, 'teamseither': 1978, 'representative': 1979, 'inbox': 1980, 'yard': 1981, 'coordinated': 1982, 'highskilled': 1983, 'compare': 1984, 'lifting': 1985, 'trashcan': 1986, 'malefic': 1987, 'limiting': 1988, 'bandaid': 1989, 'prevents': 1990, 'pointespecially': 1991, 'impossiblei': 1992, 'lowest': 1993, 'tower': 1994, 'alonebecause': 1995, 'fightsaccording': 1996, 'adc': 1997, 'gameok': 1998, 'nicely': 1999, 'liking': 2000, 'mistake': 2001, 'falling': 2002, 'pause': 2003, 'junkie': 2004, 'display': 2005, 'nail': 2006, 'stil': 2007, 'lreport': 2008, 'occasion': 2009, 'carrying': 2010, 'infuriates': 2011, 'hi': 2012, 'reviewed': 2013, 'helpor': 2014, 'tip': 2015, 'missed': 2016, 'marketing': 2017, 'bothering': 2018, 'downfall': 2019, 'kaguras': 2020, 'umbrella': 2021, 'granger': 2022, 'bland': 2023, 'hilda': 2024, 'franco': 2025, 'whiter': 2026, 'draftban': 2027, 'drafting': 2028, 'drafted': 2029, 'choosing': 2030, 'assign': 2031, 'empty': 2032, 'intends': 2033, 'effecient': 2034, 'marvel': 2035, 'pokmon': 2036, 'unite': 2037, 'toy': 2038, 'c': 2039, 'disturb': 2040, 'decision': 2041, 'diminishes': 2042, 'visual': 2043, 'loginonly': 2044, 'rd': 2045, 'fart': 2046, 'yearsand': 2047, 'playersbut': 2048, 'allthe': 2049, 'sh': 2050, 'playersso': 2051, 'jealousy': 2052, 'reaching': 2053, 'happend': 2054, 'smurf': 2055, 'wrongdoing': 2056, 'exposed': 2057, 'mo': 2058, 'warned': 2059, 'pleasure': 2060, 'dissapointed': 2061, 'prove': 2062, 'worthy': 2063, 'tool': 2064, 'apart': 2065, 'express': 2066, 'ensuring': 2067, 'delaying': 2068, 'losedefeat': 2069, 'unbalance': 2070, 'sided': 2071, 'z': 2072, 'flip': 2073, 'adopted': 2074, 'artwork': 2075, 'remember': 2076, 'stabilize': 2077, 'pleasing': 2078, 'isof': 2079, 'toxics': 2080, 'rightyoull': 2081, 'gang': 2082, 'flew': 2083, 'china': 2084, 'department': 2085, 'higherups': 2086, 'jail': 2087, 'ghost': 2088, 'impacted': 2089, 'satisfaction': 2090, 'trashtalker': 2091, 'romance': 2092, 'jealous': 2093, 'december': 2094, 'correctplease': 2095, 'accountthere': 2096, 'engage': 2097, 'gosh': 2098, 'bingo': 2099, 'lotto': 2100, 'depends': 2101, 'td': 2102, 'trashtalkers': 2103, 'skinner': 2104, 'remains': 2105, 'repeated': 2106, 'persists': 2107, 'urgently': 2108, 'emote': 2109, 'realise': 2110, 'realised': 2111, 'drunk': 2112, 'monkey': 2113, 'vice': 2114, 'versa': 2115, 'winlose': 2116, 'frustating': 2117, 'optimize': 2118, 'maintain': 2119, 'creator': 2120, 'demonic': 2121, 'devastated': 2122, 'alternating': 2123, 'crossranking': 2124, 'eyeing': 2125, 'luckybox': 2126, 'greedy': 2127, 'ei': 2128, 'playassist': 2129, 'individual': 2130, 'reviewing': 2131, 'denied': 2132, 'marked': 2133, 'continued': 2134, 'putting': 2135, 'playersthey': 2136, 'gameplayyou': 2137, 'hiding': 2138, 'bush': 2139, 'begginer': 2140, 'hodge': 2141, 'podge': 2142, 'mage': 2143, 'frustrates': 2144, 'nerfed': 2145, 'squishy': 2146, 'lethal': 2147, 'restriction': 2148, 'prefered': 2149, 'unreasonable': 2150, 'lineup': 2151, 'solving': 2152, 'development': 2153, 'thik': 2154, 'standing': 2155, 'belericks': 2156, 'cc': 2157, 'dash': 2158, 'belerick': 2159, 'crowd': 2160, 'taunt': 2161, 'casting': 2162, 'canceled': 2163, 'nonexistent': 2164, 'cooperate': 2165, 'culture': 2166, 'preference': 2167, 'trollclueless': 2168, 'kicking': 2169, 'stick': 2170, 'prior': 2171, 'manipulate': 2172, 'randos': 2173, 'dominates': 2174, 'wiped': 2175, 'promotion': 2176, 'burn': 2177, 'avoid': 2178, 'debut': 2179, 'paint': 2180, 'dry': 2181, 'horrid': 2182, 'hardware': 2183, 'wherein': 2184, 'advance': 2185, 'erases': 2186, 'dataresources': 2187, 'desktop': 2188, 'patched': 2189, 'con': 2190, 'matchmaker': 2191, 'nonfreehardtogrind': 2192, 'console': 2193, 'overlay': 2194, 'riddled': 2195, 'labyrinth': 2196, 'hunt': 2197, 'income': 2198, 'unbelievably': 2199, 'everyday': 2200, 'fifteen': 2201, 'recolors': 2202, 'inactivity': 2203, 'johnson': 2204, 'car': 2205, 'served': 2206, 'image': 2207, 'glitching': 2208, 'somewhere': 2209, 'homescreen': 2210, 'contacting': 2211, 'nonteam': 2212, 'pit': 2213, 'trial': 2214, 'aquire': 2215, 'meaningless': 2216, 'cover': 2217, 'lockon': 2218, 'casuals': 2219, 'legendsdota': 2220, 'bombard': 2221, 'leauge': 2222, 'gimmick': 2223, 'oriented': 2224, 'drawing': 2225, 'tiring': 2226, 'queued': 2227, 'asian': 2228, 'south': 2229, 'american': 2230, 'barrier': 2231, 'rough': 2232, 'omg': 2233, 'sooooooo': 2234, 'mach': 2235, 'sooooooooo': 2236, 'atlwast': 2237, 'unknown': 2238, 'auto': 2239, 'reloads': 2240, 'downgraded': 2241, 'copy': 2242, 'paste': 2243, 'gamelite': 2244, 'mixture': 2245, 'storm': 2246, 'package': 2247, 'impression': 2248, 'eudora': 2249, 'shown': 2250, 'buck': 2251, 'messed': 2252, 'continues': 2253, 'various': 2254, 'apology': 2255, 'letter': 2256, 'strongly': 2257, 'updating': 2258, 'compatibility': 2259, 'furthermore': 2260, 'grant': 2261, 'tree': 2262, 'pwanyways': 2263, 'americalooks': 2264, 'experianced': 2265, 'controlls': 2266, 'tine': 2267, 'behaivior': 2268, 'background': 2269, 'shamelessly': 2270, 'allowed': 2271, 'conflict': 2272, 'fend': 2273, 'caught': 2274, 'encountering': 2275, 'push': 2276, 'torent': 2277, 'area': 2278, 'blancing': 2279, 'sooooo': 2280, 'ign': 2281, 'simpler': 2282, 'speciality': 2283, 'compemode': 2284, 'stomp': 2285, 'annonying': 2286, 'incompetence': 2287, 'concept': 2288, 'purchasable': 2289, 'quantity': 2290, 'ridden': 2291, 'cheater': 2292, 'faced': 2293, 'sight': 2294, 'scratch': 2295, 'intensive': 2296, 'machine': 2297, 'hot': 2298, 'software': 2299, 'maany': 2300, 'fyi': 2301, 'cleaned': 2302, 'teamfights': 2303, 'occur': 2304, 'allied': 2305, 'reinstalling': 2306, 'step': 2307, 'album': 2308, 'enable': 2309, 'locationbut': 2310, 'held': 2311, 'value': 2312, 'hold': 2313, 'screwed': 2314, 'rolled': 2315, 'dominating': 2316, 'matchkmmaking': 2317, 'voiceline': 2318, 'offered': 2319, 'forcely': 2320, 'someday': 2321, 'r': 2322, 'tanker': 2323, 'camp': 2324, 'bash': 2325, 'seal': 2326, 'clubbing': 2327, 'thers': 2328, 'noobies': 2329, 'quiting': 2330, 'compelling': 2331, 'detracts': 2332, 'mismatch': 2333, 'creates': 2334, 'updatesnot': 2335, 'gameand': 2336, 'patern': 2337, 'phrase': 2338, 'million': 2339, 'wholl': 2340, 'faulty': 2341, 'rude': 2342, 'butlike': 2343, 'asapbecause': 2344, 'problemexample': 2345, 'matchbecause': 2346, 'minutesthe': 2347, 'recover': 2348, 'linking': 2349, 'gmailhe': 2350, 'proof': 2351, 'gmailold': 2352, 'topup': 2353, 'receiptbut': 2354, 'requested': 2355, 'replying': 2356, 'reject': 2357, 'realize': 2358, 'cooldowns': 2359, 'respawn': 2360, 'becuase': 2361, 'flex': 2362, 'comepletly': 2363, 'loadingi': 2364, 'flag': 2365, 'kindly': 2366, 'deranked': 2367, 'sharing': 2368, 'collision': 2369, 'ram': 2370, 'inconsistent': 2371, 'nutshell': 2372, 'longtime': 2373, 'poorly': 2374, 'timed': 2375, 'disrupts': 2376, 'flow': 2377, 'additionally': 2378, 'negatively': 2379, 'sorted': 2380, 'lovely': 2381, 'fill': 2382, 'farm': 2383, 'section': 2384, 'purchased': 2385, 'exoerience': 2386, 'mathcmaking': 2387, 'sooner': 2388, 'destroying': 2389, 'scripted': 2390, 'predict': 2391, 'lore': 2392, 'somewhat': 2393, 'yuzhong': 2394, 'unbeatable': 2395, 'instant': 2396, 'buyin': 2397, 'opening': 2398, 'mobabut': 2399, 'simly': 2400, 'optimisation': 2401, 'spikesnot': 2402, 'laging': 2403, 'horendus': 2404, 'ranging': 2405, 'relay': 2406, 'core': 2407, 'shes': 2408, 'goodnews': 2409, 'badnews': 2410, 'fear': 2411, 'microtransaction': 2412, 'sleepy': 2413, 'battlefeild': 2414, 'switched': 2415, 'everygameplays': 2416, 'teamatealso': 2417, 'myour': 2418, 'garantee': 2419, 'unintentionally': 2420, 'dependent': 2421, 'mechanism': 2422, 'lenient': 2423, 'exists': 2424, 'checkmate': 2425, 'arranged': 2426, 'eat': 2427, 'contain': 2428, 'palying': 2429, 'jist': 2430, 'created': 2431, 'diamondswhat': 2432, 'rebate': 2433, 'precious': 2434, 'drawsto': 2435, 'nonstop': 2436, 'oftens': 2437, 'subpar': 2438, 'intended': 2439, 'mediocre': 2440, 'tapping': 2441, 'onlymoving': 2442, 'sweat': 2443, 'touched': 2444, 'grass': 2445, 'mecahnics': 2446, 'disigns': 2447, 'gamepyat': 2448, 'doxxed': 2449, 'wondering': 2450, 'activate': 2451, 'activated': 2452, 'acquire': 2453, 'obsolete': 2454, 'trade': 2455, 'gemick': 2456, 'specialist': 2457, 'weight': 2458, 'swell': 2459, 'intensely': 2460, 'known': 2461, 'wipe': 2462, 'pointing': 2463, 'arrow': 2464, 'cheer': 2465, 'sign': 2466, 'link': 2467, 'existing': 2468, 'loaded': 2469, 'ruff': 2470, 'peak': 2471, 'beeing': 2472, 'deducts': 2473, 'certant': 2474, 'annoyance': 2475, 'overcome': 2476, 'shortest': 2477, 'hiring': 2478, 'effectivly': 2479, 'dialogue': 2480, 'constructive': 2481, 'crits': 2482, 'overlook': 2483, 'hidden': 2484, 'curtain': 2485, 'straying': 2486, 'persist': 2487, 'widespread': 2488, 'comfortable': 2489, 'downsizing': 2490, 'consumables': 2491, 'track': 2492, 'confuses': 2493, 'seek': 2494, 'automatic': 2495, 'matchmakingsometimes': 2496, 'reenter': 2497, 'condition': 2498, 'aways': 2499, 'invest': 2500, 'exaggerated': 2501, 'underline': 2502, 'lightmoderate': 2503, 'bcuz': 2504, 'rampaging': 2505, 'competitively': 2506, 'refined': 2507, 'bridge': 2508, 'chaos': 2509, 'screw': 2510, 'gameloft': 2511, 'cheif': 2512, 'beginning': 2513, 'target': 2514, 'largest': 2515, 'fox': 2516, 'anyones': 2517, 'shame': 2518, 'hacker': 2519, 'prevent': 2520, 'lackluster': 2521, 'ripoff': 2522, 'npc': 2523, 'dowload': 2524, 'onky': 2525, 'demoted': 2526, 'winloss': 2527, 'doable': 2528, 'exception': 2529, 'placement': 2530, 'hud': 2531, 'drift': 2532, 'biggest': 2533, 'verge': 2534, 'pentakill': 2535, 'nope': 2536, 'palm': 2537, 'apologized': 2538, 'member': 2539, 'frankly': 2540, 'agitating': 2541, 'necessarily': 2542, 'headphone': 2543, 'glitchy': 2544, 'audio': 2545, 'underestimated': 2546, 'figured': 2547, 'em': 2548, 'matchmake': 2549, 'roughly': 2550, 'death': 2551, 'overtime': 2552, 'sent': 2553, 'title': 2554, 'fp': 2555, 'mistaken': 2556, 'tricking': 2557, 'alucard': 2558, 'paywall': 2559, 'chipping': 2560, 'adjusting': 2561, 'oldie': 2562, 'responsive': 2563, 'eye': 2564, 'additional': 2565, 'restricts': 2566, 'ie': 2567, 'chest': 2568, 'unintentional': 2569, 'behaviour': 2570, 'mistakenly': 2571, 'upon': 2572, 'bottom': 2573, 'radar': 2574, 'third': 2575, 'troubleshooting': 2576, 'uo': 2577, 'contunies': 2578, 'fabulaous': 2579, 'bomb': 2580, 'logging': 2581, 'storyline': 2582, 'possibility': 2583, 'tactic': 2584, 'inevitably': 2585, 'collaboration': 2586, 'kof': 2587, 'issuesold': 2588, 'overpriced': 2589, 'sheer': 2590, 'pace': 2591, 'bloody': 2592, 'buuut': 2593, 'duplicate': 2594, 'rl': 2595, 'lame': 2596, 'guild': 2597, 'raid': 2598, 'schedule': 2599, 'incidentally': 2600, 'avid': 2601, 'expansive': 2602, 'tremendously': 2603, 'dust': 2604, 'toobad': 2605, 'onlineoffline': 2606, 'cheat': 2607, 'rightlearn': 2608, 'unused': 2609, 'filling': 2610, 'knockoff': 2611, 'passer': 2612, 'invincible': 2613, 'young': 2614, 'carrie': 2615, 'killer': 2616, 'fixmess': 2617, 'color': 2618, 'permanent': 2619, 'glowing': 2620, 'wand': 2621, 'tick': 2622, 'scaling': 2623, 'processing': 2624, 'zhask': 2625, 'reworked': 2626, 'blue': 2627, 'wear': 2628, 'mixed': 2629, 'immensely': 2630, 'ministar': 2631, 'alice': 2632, 'built': 2633, 'absurdly': 2634, 'jujutsu': 2635, 'kaisen': 2636, 'drew': 2637, 'sice': 2638, 'october': 2639, 'phenomenal': 2640, 'serverwide': 2641, 'related': 2642, 'bcoz': 2643, 'frends': 2644, 'disturbs': 2645, 'onto': 2646, 'inactive': 2647, 'sometimesfeels': 2648, 'studying': 2649, 'sejarah': 2650, 'tingkatan': 2651, 'textbook': 2652, 'worry': 2653, 'importantly': 2654, 'trait': 2655, 'dealing': 2656, 'mouse': 2657, 'rely': 2658, 'builtin': 2659, 'autoaim': 2660, 'hassle': 2661, 'aimdependent': 2662, 'gladly': 2663, 'functionality': 2664, 'aiming': 2665, 'aftar': 2666, 'preparation': 2667, 'playerratsnest': 2668, 'easyish': 2669, 'instated': 2670, 'convince': 2671, 'prefers': 2672, 'synced': 2673, 'cruicial': 2674, 'destroy': 2675, 'spawn': 2676, 'erase': 2677, 'survive': 2678, 'ambush': 2679, 'raise': 2680, 'revive': 2681, 'separate': 2682, 'mathmaking': 2683, 'sabotaging': 2684, 'p': 2685, 'chromebook': 2686, 'benedetta': 2687, 'precise': 2688, 'nowbut': 2689, 'furtherevery': 2690, 'downother': 2691, 'rival': 2692, 'inconaprison': 2693, 'market': 2694, 'dive': 2695, 'fulfilling': 2696, 'promise': 2697, 'date': 2698, 'goal': 2699, 'dreamed': 2700, 'hangout': 2701, 'lunar': 2702, 'fest': 2703, 'majestic': 2704, 'firework': 2705, 'purple': 2706, 'entrance': 2707, 'persistent': 2708, 'drawback': 2709, 'muted': 2710, 'sarawak': 2711, 'correct': 2712, 'suggested': 2713, 'pabigat': 2714, 'accusing': 2715, 'noticing': 2716, 'hisher': 2717, 'flamshot': 2718, 'tp': 2719, 'hearing': 2720, 'small': 2721, 'cd': 2722, 'toggle': 2723, 'recreational': 2724, 'teamworkfocused': 2725, 'tempted': 2726, 'inapp': 2727, 'discus': 2728, 'shift': 2729, 'adaptability': 2730, 'flexible': 2731, 'revisiting': 2732, 'rebalance': 2733, 'align': 2734, 'restore': 2735, 'regard': 2736, 'nightdevc': 2737, 'isthe': 2738, 'solosometimes': 2739, 'literary': 2740, 'assome': 2741, 'playingin': 2742, 'machesmy': 2743, 'cellphone': 2744, 'shut': 2745, 'quikly': 2746, 'penilized': 2747, 'quiz': 2748, 'sup': 2749, 'slight': 2750, 'navigation': 2751, 'compass': 2752, 'enlighten': 2753, 'heart': 2754, 'soul': 2755, 'coz': 2756, 'counted': 2757, 'closed': 2758, 'everywhere': 2759, 'strength': 2760, 'weakness': 2761, 'customization': 2762, 'playstyles': 2763, 'downside': 2764, 'rewind': 2765, 'replay': 2766, 'sri': 2767, 'lanka': 2768, 'goodbut': 2769, 'complicated': 2770, 'entering': 2771, 'spotty': 2772, 'config': 2773, 'abandoned': 2774, 'idle': 2775, 'simplified': 2776, 'vein': 2777, 'wide': 2778, 'insurmountable': 2779, 'refocus': 2780, 'exceptional': 2781, 'emphasis': 2782, 'newcomer': 2783, 'unbalancedlesley': 2784, 'plzand': 2785, 'arise': 2786, 'shuts': 2787, 'boom': 2788, 'gameing': 2789, 'rpg': 2790, 'chesstd': 2791, 'application': 2792, 'insight': 2793, 'absorbed': 2794, 'telling': 2795, 'enables': 2796, 'prebuilt': 2797, 'setup': 2798, 'generational': 2799, 'ahead': 2800, 'cry': 2801, 'overheating': 2802, 'idol': 2803, 'screenpixeles': 2804, 'regularly': 2805, 'monoritoring': 2806, 'serf': 2807, 'implemented': 2808, 'pinging': 2809, 'signaling': 2810, 'retreatattack': 2811, 'prop': 2812, 'temper': 2813, 'metas': 2814, 'familiar': 2815, 'completion': 2816, 'notch': 2817, 'outline': 2818, 'inferior': 2819, 'franchise': 2820, 'fleshed': 2821, 'music': 2822, 'soft': 2823, 'audiosyy': 2824, 'laptop': 2825, 'ipad': 2826, 'tv': 2827, 'household': 2828, 'volume': 2829, 'un': 2830, 'locking': 2831, 'android': 2832, 'punish': 2833, 'offense': 2834, 'grip': 2835, 'punishing': 2836, 'apparently': 2837, 'considered': 2838, 'playi': 2839, 'heroscharacters': 2840, 'advace': 2841, 'filtertrophys': 2842, 'project': 2843, 'mlb': 2844, 'commenting': 2845, 'cutting': 2846, 'directional': 2847, 'cursor': 2848, 'reload': 2849, 'shutout': 2850, 'hiccup': 2851, 'unforgiving': 2852, 'beat': 2853, 'attacking': 2854, 'hamper': 2855, 'tense': 2856, 'engagement': 2857, 'st': 2858, 'fixedi': 2859, 'steady': 2860, 'floating': 2861, 'shiny': 2862, 'ball': 2863, 'reinstalled': 2864, 'loveee': 2865, 'blacked': 2866, 'shadow': 2867, 'silhouette': 2868, 'addicitng': 2869, 'competitor': 2870, 'ravage': 2871, 'confident': 2872, 'worming': 2873, 'surprise': 2874, 'rebalancing': 2875, 'tweaking': 2876, 'similarity': 2877, 'uniquities': 2878, 'collab': 2879, 'picky': 2880, 'twice': 2881, 'itnonetheless': 2882, 'cent': 2883, 'occationally': 2884, 'leage': 2885, 'allowes': 2886, 'mainstream': 2887, 'unlocking': 2888, 'upgrading': 2889, 'weekly': 2890, 'advert': 2891, 'misc': 2892, 'regardless': 2893, 'mofo': 2894, 'frozen': 2895, 'explain': 2896, 'perhaps': 2897, 'lasting': 2898, 'requiring': 2899, 'commitment': 2900, 'weaker': 2901, 'steal': 2902, 'trashtalks': 2903, 'instand': 2904, 'karma': 2905, 'disapointing': 2906, 'depth': 2907, 'topnotch': 2908, 'mustplay': 2909, 'spree': 2910, 'pissing': 2911, 'guyz': 2912, 'recruitment': 2913, 'capability': 2914, 'playstyle': 2915, 'white': 2916, 'remarkable': 2917, 'legendary': 2918, 'valuable': 2919, 'somekind': 2920, 'replace': 2921, 'skillslike': 2922, 'customise': 2923, 'select': 2924, 'sticked': 2925, 'lifetime': 2926, 'immersive': 2927, 'rlly': 2928, 'madly': 2929, 'weirdly': 2930, 'occupation': 2931, 'student': 2932, 'ordinary': 2933, 'coordinating': 2934, 'enhances': 2935, 'childhood': 2936, 'introducing': 2937, 'incredible': 2938, 'pool': 2939, 'contentetc': 2940, 'majority': 2941, 'hack': 2942, 'fool': 2943, 'isp': 2944, 'perfec': 2945, 'social': 2946, 'privately': 2947, 'integrated': 2948, 'stream': 2949, 'cooleventsskinseffects': 2950, 'dyrroth': 2951, 'chatacter': 2952, 'skinsskills': 2953, 'damagelifesteal': 2954, 'advantage': 2955, 'missing': 2956, 'born': 2957, 'voiceless': 2958, 'interacting': 2959, 'hd': 2960, 'portrait': 2961, 'mythical': 2962, 'borrow': 2963, 'bros': 2964, 'cp': 2965, 'streakloss': 2966, 'sceptical': 2967, 'amazed': 2968, 'laning': 2969, 'reasonable': 2970, 'lh': 2971, 'retract': 2972, 'statement': 2973, 'resolved': 2974, 'thamuz': 2975, 'suited': 2976, 'video': 2977, 'accessibility': 2978, 'alike': 2979, 'lasty': 2980, 'backing': 2981, 'engaged': 2982, 'mastering': 2983, 'gusion': 2984, 'experimenting': 2985, 'adapting': 2986, 'dhi': 2987, 'satis': 2988, 'du': 2989, 'maray': 2990, 'flashy': 2991, 'mova': 2992, 'greatest': 2993, 'credited': 2994, 'kudos': 2995, 'nailed': 2996, 'fomo': 2997, 'miya': 2998, 'scale': 2999, 'alive': 3000, 'drug': 3001, 'blend': 3002, 'encourages': 3003, 'detract': 3004, 'peoplehave': 3005, 'teamlearnthis': 3006, 'skinsheroesits': 3007, 'earn': 3008, 'knowmobile': 3009, 'sayim': 3010, 'strategizing': 3011, 'diving': 3012, 'toe': 3013, 'redefined': 3014, 'medefinitely': 3015, 'investigating': 3016, 'newrevamp': 3017, 'revemp': 3018, 'blazing': 3019, 'passivesperksi': 3020, 'exiting': 3021, 'til': 3022, 'blackout': 3023, 'witch': 3024, 'wire': 3025, 'kyoichiro': 3026, 'spider': 3027, 'diculty': 3028, 'hayabusa': 3029, 'intensify': 3030, 'gameapps': 3031, 'peoplebut': 3032, 'gameit': 3033, 'stressbut': 3034, 'goodwhen': 3035, 'rankclassicbrawl': 3036, 'elisha': 3037, 'quitted': 3038, 'dad': 3039, 'fav': 3040, 'freestyle': 3041, 'prediction': 3042, 'zhuxin': 3043, 'suyou': 3044, 'ixia': 3045, 'novaria': 3046, 'trashtalk': 3047, 'spam': 3048, 'dared': 3049, 'propose': 3050, 'coward': 3051, 'nut': 3052, 'minimum': 3053, 'global': 3054, 'xp': 3055, 'internent': 3056, 'sbilings': 3057, 'chruch': 3058, 'crew': 3059, 'movie': 3060, 'netflix': 3061, 'legue': 3062, 'voicelines': 3063, 'justada': 3064, 'compensate': 3065, 'complicating': 3066, 'customized': 3067, 'appealing': 3068, 'voted': 3069, 'rage': 3070, 'matchespractice': 3071, 'merge': 3072, 'showing': 3073, 'reading': 3074, 'blow': 3075, 'water': 3076, 'ui': 3077, 'ux': 3078, 'share': 3079, 'grow': 3080, 'audience': 3081, 'presence': 3082, 'listening': 3083, 'quieting': 3084, 'reaction': 3085, 'carecter': 3086, 'uplode': 3087, 'reall': 3088, 'afterall': 3089, 'former': 3090, 'mythicmythical': 3091, 'prioritizes': 3092, 'collect': 3093, 'aminated': 3094, 'rusty': 3095, 'reproted': 3096, 'decently': 3097, 'rose': 3098, 'approach': 3099, 'restricting': 3100, 'path': 3101, 'aptoide': 3102, 'increased': 3103, 'harsher': 3104, 'verbally': 3105, 'abusive': 3106, 'cluttered': 3107, 'tradeoff': 3108, 'hint': 3109, 'overcomplicated': 3110, 'wifiusually': 3111, 'sore': 3112, 'topic': 3113, 'success': 3114, 'rep': 3115, 'moon': 3116, 'out': 3117, 'scamming': 3118, 'burst': 3119, 'mobility': 3120, 'viable': 3121, 'utility': 3122, 'centralized': 3123, 'stuffcarmilla': 3124, 'fiveman': 3125, 'addicttive': 3126, 'realy': 3127, 'roaming': 3128, 'wana': 3129, 'jump': 3130, 'triple': 3131, 'flagged': 3132, 'poco': 3133, 'rig': 3134, 'calm': 3135, 'includes': 3136, 'specification': 3137, 'backup': 3138, 'flaw': 3139, 'blind': 3140, 'threatening': 3141, 'highlighting': 3142, 'geting': 3143, 'harmless': 3144, 'unlucky': 3145, 'restoration': 3146, 'blood': 3147, 'boiling': 3148, 'tysm': 3149, 'act': 3150, 'skipped': 3151, 'thisll': 3152, 'surpassing': 3153, 'overheat': 3154, 'manually': 3155, 'sync': 3156, 'google': 3157, 'preserve': 3158, 'asked': 3159, 'info': 3160, 'dissapointing': 3161, 'framerate': 3162, 'exponentially': 3163, 'apologize': 3164, 'boat': 3165, 'parent': 3166, 'clan': 3167, 'defined': 3168, 'clueless': 3169, 'prefer': 3170, 'combo': 3171}\n"
          ]
        }
      ]
    },
    {
      "cell_type": "code",
      "source": [
        "tokenized_data = {\n",
        "    'Original Text': df['content'].head(5),  # Contoh 5 teks asli\n",
        "    'Tokenized Text': [tokenizer.texts_to_sequences([text])[0] for text in df['content'].head(5)],  # Tokenisasi\n",
        "    'Padded Text': [list(X[i]) for i in range(5)]  # Tokenisasi dengan padding\n",
        "}\n",
        "\n",
        "tokenized_df = pd.DataFrame(tokenized_data)\n",
        "\n",
        "print(\"Tokenized and Padded Text:\")\n",
        "display(tokenized_df)"
      ],
      "metadata": {
        "colab": {
          "base_uri": "https://localhost:8080/",
          "height": 223
        },
        "id": "3yxl-vHdANS_",
        "outputId": "2ad5846f-50dd-4c0f-8976-3730ba752f66"
      },
      "execution_count": 131,
      "outputs": [
        {
          "output_type": "stream",
          "name": "stdout",
          "text": [
            "Tokenized and Padded Text:\n"
          ]
        },
        {
          "output_type": "display_data",
          "data": {
            "text/plain": [
              "                                       Original Text  \\\n",
              "0  always get mvp lose side matter status skill b...   \n",
              "1  download game perfect example broke dont fix p...   \n",
              "2  playing game year enjoyed play game pas time h...   \n",
              "3  love game basically impossible retrieve accoun...   \n",
              "4  come matchmaking portion rank modeit disgustin...   \n",
              "\n",
              "                                      Tokenized Text  \\\n",
              "0  [29, 4, 502, 44, 728, 426, 1022, 49, 73, 348, ...   \n",
              "1  [223, 1, 372, 510, 845, 21, 15, 68, 1, 41, 184...   \n",
              "2  [14, 1, 41, 648, 3, 1, 429, 11, 129, 362, 1, 8...   \n",
              "3  [32, 1, 638, 428, 740, 128, 4, 469, 299, 345, ...   \n",
              "4  [144, 8, 1891, 19, 1892, 1026, 107, 244, 52, 1...   \n",
              "\n",
              "                                         Padded Text  \n",
              "0  [29, 4, 502, 44, 728, 426, 1022, 49, 73, 348, ...  \n",
              "1  [223, 1, 372, 510, 845, 21, 15, 68, 1, 41, 184...  \n",
              "2  [14, 1, 41, 648, 3, 1, 429, 11, 129, 362, 1, 8...  \n",
              "3  [32, 1, 638, 428, 740, 128, 4, 469, 299, 345, ...  \n",
              "4  [144, 8, 1891, 19, 1892, 1026, 107, 244, 52, 1...  "
            ],
            "text/html": [
              "\n",
              "  <div id=\"df-091373e6-a802-496a-882b-196b22ad9480\" class=\"colab-df-container\">\n",
              "    <div>\n",
              "<style scoped>\n",
              "    .dataframe tbody tr th:only-of-type {\n",
              "        vertical-align: middle;\n",
              "    }\n",
              "\n",
              "    .dataframe tbody tr th {\n",
              "        vertical-align: top;\n",
              "    }\n",
              "\n",
              "    .dataframe thead th {\n",
              "        text-align: right;\n",
              "    }\n",
              "</style>\n",
              "<table border=\"1\" class=\"dataframe\">\n",
              "  <thead>\n",
              "    <tr style=\"text-align: right;\">\n",
              "      <th></th>\n",
              "      <th>Original Text</th>\n",
              "      <th>Tokenized Text</th>\n",
              "      <th>Padded Text</th>\n",
              "    </tr>\n",
              "  </thead>\n",
              "  <tbody>\n",
              "    <tr>\n",
              "      <th>0</th>\n",
              "      <td>always get mvp lose side matter status skill b...</td>\n",
              "      <td>[29, 4, 502, 44, 728, 426, 1022, 49, 73, 348, ...</td>\n",
              "      <td>[29, 4, 502, 44, 728, 426, 1022, 49, 73, 348, ...</td>\n",
              "    </tr>\n",
              "    <tr>\n",
              "      <th>1</th>\n",
              "      <td>download game perfect example broke dont fix p...</td>\n",
              "      <td>[223, 1, 372, 510, 845, 21, 15, 68, 1, 41, 184...</td>\n",
              "      <td>[223, 1, 372, 510, 845, 21, 15, 68, 1, 41, 184...</td>\n",
              "    </tr>\n",
              "    <tr>\n",
              "      <th>2</th>\n",
              "      <td>playing game year enjoyed play game pas time h...</td>\n",
              "      <td>[14, 1, 41, 648, 3, 1, 429, 11, 129, 362, 1, 8...</td>\n",
              "      <td>[14, 1, 41, 648, 3, 1, 429, 11, 129, 362, 1, 8...</td>\n",
              "    </tr>\n",
              "    <tr>\n",
              "      <th>3</th>\n",
              "      <td>love game basically impossible retrieve accoun...</td>\n",
              "      <td>[32, 1, 638, 428, 740, 128, 4, 469, 299, 345, ...</td>\n",
              "      <td>[32, 1, 638, 428, 740, 128, 4, 469, 299, 345, ...</td>\n",
              "    </tr>\n",
              "    <tr>\n",
              "      <th>4</th>\n",
              "      <td>come matchmaking portion rank modeit disgustin...</td>\n",
              "      <td>[144, 8, 1891, 19, 1892, 1026, 107, 244, 52, 1...</td>\n",
              "      <td>[144, 8, 1891, 19, 1892, 1026, 107, 244, 52, 1...</td>\n",
              "    </tr>\n",
              "  </tbody>\n",
              "</table>\n",
              "</div>\n",
              "    <div class=\"colab-df-buttons\">\n",
              "\n",
              "  <div class=\"colab-df-container\">\n",
              "    <button class=\"colab-df-convert\" onclick=\"convertToInteractive('df-091373e6-a802-496a-882b-196b22ad9480')\"\n",
              "            title=\"Convert this dataframe to an interactive table.\"\n",
              "            style=\"display:none;\">\n",
              "\n",
              "  <svg xmlns=\"http://www.w3.org/2000/svg\" height=\"24px\" viewBox=\"0 -960 960 960\">\n",
              "    <path d=\"M120-120v-720h720v720H120Zm60-500h600v-160H180v160Zm220 220h160v-160H400v160Zm0 220h160v-160H400v160ZM180-400h160v-160H180v160Zm440 0h160v-160H620v160ZM180-180h160v-160H180v160Zm440 0h160v-160H620v160Z\"/>\n",
              "  </svg>\n",
              "    </button>\n",
              "\n",
              "  <style>\n",
              "    .colab-df-container {\n",
              "      display:flex;\n",
              "      gap: 12px;\n",
              "    }\n",
              "\n",
              "    .colab-df-convert {\n",
              "      background-color: #E8F0FE;\n",
              "      border: none;\n",
              "      border-radius: 50%;\n",
              "      cursor: pointer;\n",
              "      display: none;\n",
              "      fill: #1967D2;\n",
              "      height: 32px;\n",
              "      padding: 0 0 0 0;\n",
              "      width: 32px;\n",
              "    }\n",
              "\n",
              "    .colab-df-convert:hover {\n",
              "      background-color: #E2EBFA;\n",
              "      box-shadow: 0px 1px 2px rgba(60, 64, 67, 0.3), 0px 1px 3px 1px rgba(60, 64, 67, 0.15);\n",
              "      fill: #174EA6;\n",
              "    }\n",
              "\n",
              "    .colab-df-buttons div {\n",
              "      margin-bottom: 4px;\n",
              "    }\n",
              "\n",
              "    [theme=dark] .colab-df-convert {\n",
              "      background-color: #3B4455;\n",
              "      fill: #D2E3FC;\n",
              "    }\n",
              "\n",
              "    [theme=dark] .colab-df-convert:hover {\n",
              "      background-color: #434B5C;\n",
              "      box-shadow: 0px 1px 3px 1px rgba(0, 0, 0, 0.15);\n",
              "      filter: drop-shadow(0px 1px 2px rgba(0, 0, 0, 0.3));\n",
              "      fill: #FFFFFF;\n",
              "    }\n",
              "  </style>\n",
              "\n",
              "    <script>\n",
              "      const buttonEl =\n",
              "        document.querySelector('#df-091373e6-a802-496a-882b-196b22ad9480 button.colab-df-convert');\n",
              "      buttonEl.style.display =\n",
              "        google.colab.kernel.accessAllowed ? 'block' : 'none';\n",
              "\n",
              "      async function convertToInteractive(key) {\n",
              "        const element = document.querySelector('#df-091373e6-a802-496a-882b-196b22ad9480');\n",
              "        const dataTable =\n",
              "          await google.colab.kernel.invokeFunction('convertToInteractive',\n",
              "                                                    [key], {});\n",
              "        if (!dataTable) return;\n",
              "\n",
              "        const docLinkHtml = 'Like what you see? Visit the ' +\n",
              "          '<a target=\"_blank\" href=https://colab.research.google.com/notebooks/data_table.ipynb>data table notebook</a>'\n",
              "          + ' to learn more about interactive tables.';\n",
              "        element.innerHTML = '';\n",
              "        dataTable['output_type'] = 'display_data';\n",
              "        await google.colab.output.renderOutput(dataTable, element);\n",
              "        const docLink = document.createElement('div');\n",
              "        docLink.innerHTML = docLinkHtml;\n",
              "        element.appendChild(docLink);\n",
              "      }\n",
              "    </script>\n",
              "  </div>\n",
              "\n",
              "\n",
              "<div id=\"df-b2ff2f12-c8e6-4723-97b2-f8a95a78f5dd\">\n",
              "  <button class=\"colab-df-quickchart\" onclick=\"quickchart('df-b2ff2f12-c8e6-4723-97b2-f8a95a78f5dd')\"\n",
              "            title=\"Suggest charts\"\n",
              "            style=\"display:none;\">\n",
              "\n",
              "<svg xmlns=\"http://www.w3.org/2000/svg\" height=\"24px\"viewBox=\"0 0 24 24\"\n",
              "     width=\"24px\">\n",
              "    <g>\n",
              "        <path d=\"M19 3H5c-1.1 0-2 .9-2 2v14c0 1.1.9 2 2 2h14c1.1 0 2-.9 2-2V5c0-1.1-.9-2-2-2zM9 17H7v-7h2v7zm4 0h-2V7h2v10zm4 0h-2v-4h2v4z\"/>\n",
              "    </g>\n",
              "</svg>\n",
              "  </button>\n",
              "\n",
              "<style>\n",
              "  .colab-df-quickchart {\n",
              "      --bg-color: #E8F0FE;\n",
              "      --fill-color: #1967D2;\n",
              "      --hover-bg-color: #E2EBFA;\n",
              "      --hover-fill-color: #174EA6;\n",
              "      --disabled-fill-color: #AAA;\n",
              "      --disabled-bg-color: #DDD;\n",
              "  }\n",
              "\n",
              "  [theme=dark] .colab-df-quickchart {\n",
              "      --bg-color: #3B4455;\n",
              "      --fill-color: #D2E3FC;\n",
              "      --hover-bg-color: #434B5C;\n",
              "      --hover-fill-color: #FFFFFF;\n",
              "      --disabled-bg-color: #3B4455;\n",
              "      --disabled-fill-color: #666;\n",
              "  }\n",
              "\n",
              "  .colab-df-quickchart {\n",
              "    background-color: var(--bg-color);\n",
              "    border: none;\n",
              "    border-radius: 50%;\n",
              "    cursor: pointer;\n",
              "    display: none;\n",
              "    fill: var(--fill-color);\n",
              "    height: 32px;\n",
              "    padding: 0;\n",
              "    width: 32px;\n",
              "  }\n",
              "\n",
              "  .colab-df-quickchart:hover {\n",
              "    background-color: var(--hover-bg-color);\n",
              "    box-shadow: 0 1px 2px rgba(60, 64, 67, 0.3), 0 1px 3px 1px rgba(60, 64, 67, 0.15);\n",
              "    fill: var(--button-hover-fill-color);\n",
              "  }\n",
              "\n",
              "  .colab-df-quickchart-complete:disabled,\n",
              "  .colab-df-quickchart-complete:disabled:hover {\n",
              "    background-color: var(--disabled-bg-color);\n",
              "    fill: var(--disabled-fill-color);\n",
              "    box-shadow: none;\n",
              "  }\n",
              "\n",
              "  .colab-df-spinner {\n",
              "    border: 2px solid var(--fill-color);\n",
              "    border-color: transparent;\n",
              "    border-bottom-color: var(--fill-color);\n",
              "    animation:\n",
              "      spin 1s steps(1) infinite;\n",
              "  }\n",
              "\n",
              "  @keyframes spin {\n",
              "    0% {\n",
              "      border-color: transparent;\n",
              "      border-bottom-color: var(--fill-color);\n",
              "      border-left-color: var(--fill-color);\n",
              "    }\n",
              "    20% {\n",
              "      border-color: transparent;\n",
              "      border-left-color: var(--fill-color);\n",
              "      border-top-color: var(--fill-color);\n",
              "    }\n",
              "    30% {\n",
              "      border-color: transparent;\n",
              "      border-left-color: var(--fill-color);\n",
              "      border-top-color: var(--fill-color);\n",
              "      border-right-color: var(--fill-color);\n",
              "    }\n",
              "    40% {\n",
              "      border-color: transparent;\n",
              "      border-right-color: var(--fill-color);\n",
              "      border-top-color: var(--fill-color);\n",
              "    }\n",
              "    60% {\n",
              "      border-color: transparent;\n",
              "      border-right-color: var(--fill-color);\n",
              "    }\n",
              "    80% {\n",
              "      border-color: transparent;\n",
              "      border-right-color: var(--fill-color);\n",
              "      border-bottom-color: var(--fill-color);\n",
              "    }\n",
              "    90% {\n",
              "      border-color: transparent;\n",
              "      border-bottom-color: var(--fill-color);\n",
              "    }\n",
              "  }\n",
              "</style>\n",
              "\n",
              "  <script>\n",
              "    async function quickchart(key) {\n",
              "      const quickchartButtonEl =\n",
              "        document.querySelector('#' + key + ' button');\n",
              "      quickchartButtonEl.disabled = true;  // To prevent multiple clicks.\n",
              "      quickchartButtonEl.classList.add('colab-df-spinner');\n",
              "      try {\n",
              "        const charts = await google.colab.kernel.invokeFunction(\n",
              "            'suggestCharts', [key], {});\n",
              "      } catch (error) {\n",
              "        console.error('Error during call to suggestCharts:', error);\n",
              "      }\n",
              "      quickchartButtonEl.classList.remove('colab-df-spinner');\n",
              "      quickchartButtonEl.classList.add('colab-df-quickchart-complete');\n",
              "    }\n",
              "    (() => {\n",
              "      let quickchartButtonEl =\n",
              "        document.querySelector('#df-b2ff2f12-c8e6-4723-97b2-f8a95a78f5dd button');\n",
              "      quickchartButtonEl.style.display =\n",
              "        google.colab.kernel.accessAllowed ? 'block' : 'none';\n",
              "    })();\n",
              "  </script>\n",
              "</div>\n",
              "\n",
              "  <div id=\"id_933940f9-3163-49a0-8d29-f566ac7ab619\">\n",
              "    <style>\n",
              "      .colab-df-generate {\n",
              "        background-color: #E8F0FE;\n",
              "        border: none;\n",
              "        border-radius: 50%;\n",
              "        cursor: pointer;\n",
              "        display: none;\n",
              "        fill: #1967D2;\n",
              "        height: 32px;\n",
              "        padding: 0 0 0 0;\n",
              "        width: 32px;\n",
              "      }\n",
              "\n",
              "      .colab-df-generate:hover {\n",
              "        background-color: #E2EBFA;\n",
              "        box-shadow: 0px 1px 2px rgba(60, 64, 67, 0.3), 0px 1px 3px 1px rgba(60, 64, 67, 0.15);\n",
              "        fill: #174EA6;\n",
              "      }\n",
              "\n",
              "      [theme=dark] .colab-df-generate {\n",
              "        background-color: #3B4455;\n",
              "        fill: #D2E3FC;\n",
              "      }\n",
              "\n",
              "      [theme=dark] .colab-df-generate:hover {\n",
              "        background-color: #434B5C;\n",
              "        box-shadow: 0px 1px 3px 1px rgba(0, 0, 0, 0.15);\n",
              "        filter: drop-shadow(0px 1px 2px rgba(0, 0, 0, 0.3));\n",
              "        fill: #FFFFFF;\n",
              "      }\n",
              "    </style>\n",
              "    <button class=\"colab-df-generate\" onclick=\"generateWithVariable('tokenized_df')\"\n",
              "            title=\"Generate code using this dataframe.\"\n",
              "            style=\"display:none;\">\n",
              "\n",
              "  <svg xmlns=\"http://www.w3.org/2000/svg\" height=\"24px\"viewBox=\"0 0 24 24\"\n",
              "       width=\"24px\">\n",
              "    <path d=\"M7,19H8.4L18.45,9,17,7.55,7,17.6ZM5,21V16.75L18.45,3.32a2,2,0,0,1,2.83,0l1.4,1.43a1.91,1.91,0,0,1,.58,1.4,1.91,1.91,0,0,1-.58,1.4L9.25,21ZM18.45,9,17,7.55Zm-12,3A5.31,5.31,0,0,0,4.9,8.1,5.31,5.31,0,0,0,1,6.5,5.31,5.31,0,0,0,4.9,4.9,5.31,5.31,0,0,0,6.5,1,5.31,5.31,0,0,0,8.1,4.9,5.31,5.31,0,0,0,12,6.5,5.46,5.46,0,0,0,6.5,12Z\"/>\n",
              "  </svg>\n",
              "    </button>\n",
              "    <script>\n",
              "      (() => {\n",
              "      const buttonEl =\n",
              "        document.querySelector('#id_933940f9-3163-49a0-8d29-f566ac7ab619 button.colab-df-generate');\n",
              "      buttonEl.style.display =\n",
              "        google.colab.kernel.accessAllowed ? 'block' : 'none';\n",
              "\n",
              "      buttonEl.onclick = () => {\n",
              "        google.colab.notebook.generateWithVariable('tokenized_df');\n",
              "      }\n",
              "      })();\n",
              "    </script>\n",
              "  </div>\n",
              "\n",
              "    </div>\n",
              "  </div>\n"
            ],
            "application/vnd.google.colaboratory.intrinsic+json": {
              "type": "dataframe",
              "variable_name": "tokenized_df",
              "summary": "{\n  \"name\": \"tokenized_df\",\n  \"rows\": 5,\n  \"fields\": [\n    {\n      \"column\": \"Original Text\",\n      \"properties\": {\n        \"dtype\": \"string\",\n        \"num_unique_values\": 5,\n        \"samples\": [\n          \"download game perfect example broke dont fix played game year used great competitive game play friend impossible get work ive cleared redownloaded time get game least run properly let alone actually play match constantly freeze lock till restart wasting anymore time moving thanks memory anyway great lasted\",\n          \"come matchmaking portion rank modeit disgusting well least legend rank seems like every winwin streak get game take back plus moreim referring loses wether matching bot low skilled level player guess thats moba game graphic good gameplay smooth game still infuriating im still giving game star due stress cause hahaha\",\n          \"playing game year enjoyed play game pas time however frustrated game matchmaking system point completely stop playing month top team unbalanced lot cheating penalty even say unpleasant player overall game lost appeal moonton wont anything long profit keep coming\"\n        ],\n        \"semantic_type\": \"\",\n        \"description\": \"\"\n      }\n    },\n    {\n      \"column\": \"Tokenized Text\",\n      \"properties\": {\n        \"dtype\": \"object\",\n        \"semantic_type\": \"\",\n        \"description\": \"\"\n      }\n    },\n    {\n      \"column\": \"Padded Text\",\n      \"properties\": {\n        \"dtype\": \"object\",\n        \"semantic_type\": \"\",\n        \"description\": \"\"\n      }\n    }\n  ]\n}"
            }
          },
          "metadata": {}
        }
      ]
    },
    {
      "cell_type": "markdown",
      "source": [
        "## Label Encoding"
      ],
      "metadata": {
        "id": "r9-Lksz5xiiy"
      }
    },
    {
      "cell_type": "code",
      "source": [
        "label_encoder = LabelEncoder()\n",
        "y = label_encoder.fit_transform(df['label'])\n",
        "y = to_categorical(y)"
      ],
      "metadata": {
        "id": "1dNVf5XKxlKX"
      },
      "execution_count": 16,
      "outputs": []
    },
    {
      "cell_type": "code",
      "source": [
        "encoded_data = {\n",
        "    'Original Label': df['label'].head(5),  # Contoh 5 label asli\n",
        "    'Encoded Label (Number)': [label_encoder.transform([label])[0] for label in df['label'].head(5)],  # Label encoded\n",
        "    'One-Hot Encoded Label': [list(y[i]) for i in range(5)]  # Label one-hot encoded\n",
        "}\n",
        "\n",
        "encoded_df = pd.DataFrame(encoded_data)\n",
        "\n",
        "print(\"\\nLabel Encoding:\")\n",
        "display(encoded_df)"
      ],
      "metadata": {
        "colab": {
          "base_uri": "https://localhost:8080/",
          "height": 241
        },
        "id": "dUwdy7P67-Ry",
        "outputId": "5493fdf4-0de8-406d-9834-68ca12b9abd7"
      },
      "execution_count": 132,
      "outputs": [
        {
          "output_type": "stream",
          "name": "stdout",
          "text": [
            "\n",
            "Label Encoding:\n"
          ]
        },
        {
          "output_type": "display_data",
          "data": {
            "text/plain": [
              "  Original Label  Encoded Label (Number) One-Hot Encoded Label\n",
              "0       negative                       0       [1.0, 0.0, 0.0]\n",
              "1       negative                       0       [1.0, 0.0, 0.0]\n",
              "2       negative                       0       [1.0, 0.0, 0.0]\n",
              "3       negative                       0       [1.0, 0.0, 0.0]\n",
              "4       negative                       0       [1.0, 0.0, 0.0]"
            ],
            "text/html": [
              "\n",
              "  <div id=\"df-d85b2af0-0d71-4757-9617-bd9d04ee1bef\" class=\"colab-df-container\">\n",
              "    <div>\n",
              "<style scoped>\n",
              "    .dataframe tbody tr th:only-of-type {\n",
              "        vertical-align: middle;\n",
              "    }\n",
              "\n",
              "    .dataframe tbody tr th {\n",
              "        vertical-align: top;\n",
              "    }\n",
              "\n",
              "    .dataframe thead th {\n",
              "        text-align: right;\n",
              "    }\n",
              "</style>\n",
              "<table border=\"1\" class=\"dataframe\">\n",
              "  <thead>\n",
              "    <tr style=\"text-align: right;\">\n",
              "      <th></th>\n",
              "      <th>Original Label</th>\n",
              "      <th>Encoded Label (Number)</th>\n",
              "      <th>One-Hot Encoded Label</th>\n",
              "    </tr>\n",
              "  </thead>\n",
              "  <tbody>\n",
              "    <tr>\n",
              "      <th>0</th>\n",
              "      <td>negative</td>\n",
              "      <td>0</td>\n",
              "      <td>[1.0, 0.0, 0.0]</td>\n",
              "    </tr>\n",
              "    <tr>\n",
              "      <th>1</th>\n",
              "      <td>negative</td>\n",
              "      <td>0</td>\n",
              "      <td>[1.0, 0.0, 0.0]</td>\n",
              "    </tr>\n",
              "    <tr>\n",
              "      <th>2</th>\n",
              "      <td>negative</td>\n",
              "      <td>0</td>\n",
              "      <td>[1.0, 0.0, 0.0]</td>\n",
              "    </tr>\n",
              "    <tr>\n",
              "      <th>3</th>\n",
              "      <td>negative</td>\n",
              "      <td>0</td>\n",
              "      <td>[1.0, 0.0, 0.0]</td>\n",
              "    </tr>\n",
              "    <tr>\n",
              "      <th>4</th>\n",
              "      <td>negative</td>\n",
              "      <td>0</td>\n",
              "      <td>[1.0, 0.0, 0.0]</td>\n",
              "    </tr>\n",
              "  </tbody>\n",
              "</table>\n",
              "</div>\n",
              "    <div class=\"colab-df-buttons\">\n",
              "\n",
              "  <div class=\"colab-df-container\">\n",
              "    <button class=\"colab-df-convert\" onclick=\"convertToInteractive('df-d85b2af0-0d71-4757-9617-bd9d04ee1bef')\"\n",
              "            title=\"Convert this dataframe to an interactive table.\"\n",
              "            style=\"display:none;\">\n",
              "\n",
              "  <svg xmlns=\"http://www.w3.org/2000/svg\" height=\"24px\" viewBox=\"0 -960 960 960\">\n",
              "    <path d=\"M120-120v-720h720v720H120Zm60-500h600v-160H180v160Zm220 220h160v-160H400v160Zm0 220h160v-160H400v160ZM180-400h160v-160H180v160Zm440 0h160v-160H620v160ZM180-180h160v-160H180v160Zm440 0h160v-160H620v160Z\"/>\n",
              "  </svg>\n",
              "    </button>\n",
              "\n",
              "  <style>\n",
              "    .colab-df-container {\n",
              "      display:flex;\n",
              "      gap: 12px;\n",
              "    }\n",
              "\n",
              "    .colab-df-convert {\n",
              "      background-color: #E8F0FE;\n",
              "      border: none;\n",
              "      border-radius: 50%;\n",
              "      cursor: pointer;\n",
              "      display: none;\n",
              "      fill: #1967D2;\n",
              "      height: 32px;\n",
              "      padding: 0 0 0 0;\n",
              "      width: 32px;\n",
              "    }\n",
              "\n",
              "    .colab-df-convert:hover {\n",
              "      background-color: #E2EBFA;\n",
              "      box-shadow: 0px 1px 2px rgba(60, 64, 67, 0.3), 0px 1px 3px 1px rgba(60, 64, 67, 0.15);\n",
              "      fill: #174EA6;\n",
              "    }\n",
              "\n",
              "    .colab-df-buttons div {\n",
              "      margin-bottom: 4px;\n",
              "    }\n",
              "\n",
              "    [theme=dark] .colab-df-convert {\n",
              "      background-color: #3B4455;\n",
              "      fill: #D2E3FC;\n",
              "    }\n",
              "\n",
              "    [theme=dark] .colab-df-convert:hover {\n",
              "      background-color: #434B5C;\n",
              "      box-shadow: 0px 1px 3px 1px rgba(0, 0, 0, 0.15);\n",
              "      filter: drop-shadow(0px 1px 2px rgba(0, 0, 0, 0.3));\n",
              "      fill: #FFFFFF;\n",
              "    }\n",
              "  </style>\n",
              "\n",
              "    <script>\n",
              "      const buttonEl =\n",
              "        document.querySelector('#df-d85b2af0-0d71-4757-9617-bd9d04ee1bef button.colab-df-convert');\n",
              "      buttonEl.style.display =\n",
              "        google.colab.kernel.accessAllowed ? 'block' : 'none';\n",
              "\n",
              "      async function convertToInteractive(key) {\n",
              "        const element = document.querySelector('#df-d85b2af0-0d71-4757-9617-bd9d04ee1bef');\n",
              "        const dataTable =\n",
              "          await google.colab.kernel.invokeFunction('convertToInteractive',\n",
              "                                                    [key], {});\n",
              "        if (!dataTable) return;\n",
              "\n",
              "        const docLinkHtml = 'Like what you see? Visit the ' +\n",
              "          '<a target=\"_blank\" href=https://colab.research.google.com/notebooks/data_table.ipynb>data table notebook</a>'\n",
              "          + ' to learn more about interactive tables.';\n",
              "        element.innerHTML = '';\n",
              "        dataTable['output_type'] = 'display_data';\n",
              "        await google.colab.output.renderOutput(dataTable, element);\n",
              "        const docLink = document.createElement('div');\n",
              "        docLink.innerHTML = docLinkHtml;\n",
              "        element.appendChild(docLink);\n",
              "      }\n",
              "    </script>\n",
              "  </div>\n",
              "\n",
              "\n",
              "<div id=\"df-aa0c5205-1cba-4f20-82bf-416be85f64f0\">\n",
              "  <button class=\"colab-df-quickchart\" onclick=\"quickchart('df-aa0c5205-1cba-4f20-82bf-416be85f64f0')\"\n",
              "            title=\"Suggest charts\"\n",
              "            style=\"display:none;\">\n",
              "\n",
              "<svg xmlns=\"http://www.w3.org/2000/svg\" height=\"24px\"viewBox=\"0 0 24 24\"\n",
              "     width=\"24px\">\n",
              "    <g>\n",
              "        <path d=\"M19 3H5c-1.1 0-2 .9-2 2v14c0 1.1.9 2 2 2h14c1.1 0 2-.9 2-2V5c0-1.1-.9-2-2-2zM9 17H7v-7h2v7zm4 0h-2V7h2v10zm4 0h-2v-4h2v4z\"/>\n",
              "    </g>\n",
              "</svg>\n",
              "  </button>\n",
              "\n",
              "<style>\n",
              "  .colab-df-quickchart {\n",
              "      --bg-color: #E8F0FE;\n",
              "      --fill-color: #1967D2;\n",
              "      --hover-bg-color: #E2EBFA;\n",
              "      --hover-fill-color: #174EA6;\n",
              "      --disabled-fill-color: #AAA;\n",
              "      --disabled-bg-color: #DDD;\n",
              "  }\n",
              "\n",
              "  [theme=dark] .colab-df-quickchart {\n",
              "      --bg-color: #3B4455;\n",
              "      --fill-color: #D2E3FC;\n",
              "      --hover-bg-color: #434B5C;\n",
              "      --hover-fill-color: #FFFFFF;\n",
              "      --disabled-bg-color: #3B4455;\n",
              "      --disabled-fill-color: #666;\n",
              "  }\n",
              "\n",
              "  .colab-df-quickchart {\n",
              "    background-color: var(--bg-color);\n",
              "    border: none;\n",
              "    border-radius: 50%;\n",
              "    cursor: pointer;\n",
              "    display: none;\n",
              "    fill: var(--fill-color);\n",
              "    height: 32px;\n",
              "    padding: 0;\n",
              "    width: 32px;\n",
              "  }\n",
              "\n",
              "  .colab-df-quickchart:hover {\n",
              "    background-color: var(--hover-bg-color);\n",
              "    box-shadow: 0 1px 2px rgba(60, 64, 67, 0.3), 0 1px 3px 1px rgba(60, 64, 67, 0.15);\n",
              "    fill: var(--button-hover-fill-color);\n",
              "  }\n",
              "\n",
              "  .colab-df-quickchart-complete:disabled,\n",
              "  .colab-df-quickchart-complete:disabled:hover {\n",
              "    background-color: var(--disabled-bg-color);\n",
              "    fill: var(--disabled-fill-color);\n",
              "    box-shadow: none;\n",
              "  }\n",
              "\n",
              "  .colab-df-spinner {\n",
              "    border: 2px solid var(--fill-color);\n",
              "    border-color: transparent;\n",
              "    border-bottom-color: var(--fill-color);\n",
              "    animation:\n",
              "      spin 1s steps(1) infinite;\n",
              "  }\n",
              "\n",
              "  @keyframes spin {\n",
              "    0% {\n",
              "      border-color: transparent;\n",
              "      border-bottom-color: var(--fill-color);\n",
              "      border-left-color: var(--fill-color);\n",
              "    }\n",
              "    20% {\n",
              "      border-color: transparent;\n",
              "      border-left-color: var(--fill-color);\n",
              "      border-top-color: var(--fill-color);\n",
              "    }\n",
              "    30% {\n",
              "      border-color: transparent;\n",
              "      border-left-color: var(--fill-color);\n",
              "      border-top-color: var(--fill-color);\n",
              "      border-right-color: var(--fill-color);\n",
              "    }\n",
              "    40% {\n",
              "      border-color: transparent;\n",
              "      border-right-color: var(--fill-color);\n",
              "      border-top-color: var(--fill-color);\n",
              "    }\n",
              "    60% {\n",
              "      border-color: transparent;\n",
              "      border-right-color: var(--fill-color);\n",
              "    }\n",
              "    80% {\n",
              "      border-color: transparent;\n",
              "      border-right-color: var(--fill-color);\n",
              "      border-bottom-color: var(--fill-color);\n",
              "    }\n",
              "    90% {\n",
              "      border-color: transparent;\n",
              "      border-bottom-color: var(--fill-color);\n",
              "    }\n",
              "  }\n",
              "</style>\n",
              "\n",
              "  <script>\n",
              "    async function quickchart(key) {\n",
              "      const quickchartButtonEl =\n",
              "        document.querySelector('#' + key + ' button');\n",
              "      quickchartButtonEl.disabled = true;  // To prevent multiple clicks.\n",
              "      quickchartButtonEl.classList.add('colab-df-spinner');\n",
              "      try {\n",
              "        const charts = await google.colab.kernel.invokeFunction(\n",
              "            'suggestCharts', [key], {});\n",
              "      } catch (error) {\n",
              "        console.error('Error during call to suggestCharts:', error);\n",
              "      }\n",
              "      quickchartButtonEl.classList.remove('colab-df-spinner');\n",
              "      quickchartButtonEl.classList.add('colab-df-quickchart-complete');\n",
              "    }\n",
              "    (() => {\n",
              "      let quickchartButtonEl =\n",
              "        document.querySelector('#df-aa0c5205-1cba-4f20-82bf-416be85f64f0 button');\n",
              "      quickchartButtonEl.style.display =\n",
              "        google.colab.kernel.accessAllowed ? 'block' : 'none';\n",
              "    })();\n",
              "  </script>\n",
              "</div>\n",
              "\n",
              "  <div id=\"id_25fe850b-f27f-4029-8360-352af273c0f2\">\n",
              "    <style>\n",
              "      .colab-df-generate {\n",
              "        background-color: #E8F0FE;\n",
              "        border: none;\n",
              "        border-radius: 50%;\n",
              "        cursor: pointer;\n",
              "        display: none;\n",
              "        fill: #1967D2;\n",
              "        height: 32px;\n",
              "        padding: 0 0 0 0;\n",
              "        width: 32px;\n",
              "      }\n",
              "\n",
              "      .colab-df-generate:hover {\n",
              "        background-color: #E2EBFA;\n",
              "        box-shadow: 0px 1px 2px rgba(60, 64, 67, 0.3), 0px 1px 3px 1px rgba(60, 64, 67, 0.15);\n",
              "        fill: #174EA6;\n",
              "      }\n",
              "\n",
              "      [theme=dark] .colab-df-generate {\n",
              "        background-color: #3B4455;\n",
              "        fill: #D2E3FC;\n",
              "      }\n",
              "\n",
              "      [theme=dark] .colab-df-generate:hover {\n",
              "        background-color: #434B5C;\n",
              "        box-shadow: 0px 1px 3px 1px rgba(0, 0, 0, 0.15);\n",
              "        filter: drop-shadow(0px 1px 2px rgba(0, 0, 0, 0.3));\n",
              "        fill: #FFFFFF;\n",
              "      }\n",
              "    </style>\n",
              "    <button class=\"colab-df-generate\" onclick=\"generateWithVariable('encoded_df')\"\n",
              "            title=\"Generate code using this dataframe.\"\n",
              "            style=\"display:none;\">\n",
              "\n",
              "  <svg xmlns=\"http://www.w3.org/2000/svg\" height=\"24px\"viewBox=\"0 0 24 24\"\n",
              "       width=\"24px\">\n",
              "    <path d=\"M7,19H8.4L18.45,9,17,7.55,7,17.6ZM5,21V16.75L18.45,3.32a2,2,0,0,1,2.83,0l1.4,1.43a1.91,1.91,0,0,1,.58,1.4,1.91,1.91,0,0,1-.58,1.4L9.25,21ZM18.45,9,17,7.55Zm-12,3A5.31,5.31,0,0,0,4.9,8.1,5.31,5.31,0,0,0,1,6.5,5.31,5.31,0,0,0,4.9,4.9,5.31,5.31,0,0,0,6.5,1,5.31,5.31,0,0,0,8.1,4.9,5.31,5.31,0,0,0,12,6.5,5.46,5.46,0,0,0,6.5,12Z\"/>\n",
              "  </svg>\n",
              "    </button>\n",
              "    <script>\n",
              "      (() => {\n",
              "      const buttonEl =\n",
              "        document.querySelector('#id_25fe850b-f27f-4029-8360-352af273c0f2 button.colab-df-generate');\n",
              "      buttonEl.style.display =\n",
              "        google.colab.kernel.accessAllowed ? 'block' : 'none';\n",
              "\n",
              "      buttonEl.onclick = () => {\n",
              "        google.colab.notebook.generateWithVariable('encoded_df');\n",
              "      }\n",
              "      })();\n",
              "    </script>\n",
              "  </div>\n",
              "\n",
              "    </div>\n",
              "  </div>\n"
            ],
            "application/vnd.google.colaboratory.intrinsic+json": {
              "type": "dataframe",
              "variable_name": "encoded_df",
              "summary": "{\n  \"name\": \"encoded_df\",\n  \"rows\": 5,\n  \"fields\": [\n    {\n      \"column\": \"Original Label\",\n      \"properties\": {\n        \"dtype\": \"category\",\n        \"num_unique_values\": 1,\n        \"samples\": [\n          \"negative\"\n        ],\n        \"semantic_type\": \"\",\n        \"description\": \"\"\n      }\n    },\n    {\n      \"column\": \"Encoded Label (Number)\",\n      \"properties\": {\n        \"dtype\": \"number\",\n        \"std\": 0,\n        \"min\": 0,\n        \"max\": 0,\n        \"num_unique_values\": 1,\n        \"samples\": [\n          0\n        ],\n        \"semantic_type\": \"\",\n        \"description\": \"\"\n      }\n    },\n    {\n      \"column\": \"One-Hot Encoded Label\",\n      \"properties\": {\n        \"dtype\": \"object\",\n        \"semantic_type\": \"\",\n        \"description\": \"\"\n      }\n    }\n  ]\n}"
            }
          },
          "metadata": {}
        }
      ]
    },
    {
      "cell_type": "markdown",
      "source": [
        "## Split Dataset"
      ],
      "metadata": {
        "id": "o-luj187xnFL"
      }
    },
    {
      "cell_type": "code",
      "source": [
        "X_train, X_test, y_train, y_test = train_test_split(X, y, test_size=0.2, random_state=42)\n"
      ],
      "metadata": {
        "id": "Qno4Wf5ExskY"
      },
      "execution_count": 17,
      "outputs": []
    },
    {
      "cell_type": "code",
      "source": [
        "X.shape"
      ],
      "metadata": {
        "colab": {
          "base_uri": "https://localhost:8080/"
        },
        "id": "dg4k0QNb85hV",
        "outputId": "381db2ff-3e62-4c5b-f82e-cc56f720f688"
      },
      "execution_count": 18,
      "outputs": [
        {
          "output_type": "execute_result",
          "data": {
            "text/plain": [
              "(15000, 100)"
            ]
          },
          "metadata": {},
          "execution_count": 18
        }
      ]
    },
    {
      "cell_type": "code",
      "source": [
        "y.shape"
      ],
      "metadata": {
        "colab": {
          "base_uri": "https://localhost:8080/"
        },
        "id": "vCVgt4pS9FNz",
        "outputId": "b66d4857-0685-447f-a92f-4271f367a1f3"
      },
      "execution_count": 19,
      "outputs": [
        {
          "output_type": "execute_result",
          "data": {
            "text/plain": [
              "(15000, 3)"
            ]
          },
          "metadata": {},
          "execution_count": 19
        }
      ]
    },
    {
      "cell_type": "markdown",
      "source": [
        "## Model Training"
      ],
      "metadata": {
        "id": "e993G2wYA6vQ"
      }
    },
    {
      "cell_type": "markdown",
      "source": [
        "### Callbacks"
      ],
      "metadata": {
        "id": "FrNxtTH9xxJq"
      }
    },
    {
      "cell_type": "code",
      "source": [
        "early_stopping = EarlyStopping(\n",
        "    monitor='val_loss',\n",
        "    patience=5,\n",
        "    restore_best_weights=True\n",
        ")"
      ],
      "metadata": {
        "id": "FsPGqOWYxyoA"
      },
      "execution_count": 20,
      "outputs": []
    },
    {
      "cell_type": "markdown",
      "source": [
        "### Scheme 1: LSTM"
      ],
      "metadata": {
        "id": "nUQXA_E2dnUV"
      }
    },
    {
      "cell_type": "markdown",
      "source": [
        "#### LSTM Model Setup"
      ],
      "metadata": {
        "id": "Lh99KMJizI2-"
      }
    },
    {
      "cell_type": "code",
      "source": [
        "model_1 = Sequential([\n",
        "    Embedding(input_dim=10000, output_dim=128),\n",
        "    LSTM(128, return_sequences=False),\n",
        "    Dropout(0.5),\n",
        "    Dense(64, activation='relu'),\n",
        "    Dropout(0.5),\n",
        "    Dense(3, activation='softmax')\n",
        "])"
      ],
      "metadata": {
        "id": "OqECeXsfx7Az"
      },
      "execution_count": 21,
      "outputs": []
    },
    {
      "cell_type": "code",
      "source": [
        "model_1.compile(optimizer='adam', loss='categorical_crossentropy', metrics=['accuracy'])"
      ],
      "metadata": {
        "id": "NJW3jCpFx8k7"
      },
      "execution_count": 22,
      "outputs": []
    },
    {
      "cell_type": "code",
      "source": [
        "model_1.build(input_shape=(None, max_len))\n",
        "model_1.summary()"
      ],
      "metadata": {
        "colab": {
          "base_uri": "https://localhost:8080/",
          "height": 321
        },
        "id": "OiZS2lJ2_lhC",
        "outputId": "ca5a9dc6-59ac-4897-b158-57cc478aecab"
      },
      "execution_count": 23,
      "outputs": [
        {
          "output_type": "display_data",
          "data": {
            "text/plain": [
              "\u001b[1mModel: \"sequential\"\u001b[0m\n"
            ],
            "text/html": [
              "<pre style=\"white-space:pre;overflow-x:auto;line-height:normal;font-family:Menlo,'DejaVu Sans Mono',consolas,'Courier New',monospace\"><span style=\"font-weight: bold\">Model: \"sequential\"</span>\n",
              "</pre>\n"
            ]
          },
          "metadata": {}
        },
        {
          "output_type": "display_data",
          "data": {
            "text/plain": [
              "┏━━━━━━━━━━━━━━━━━━━━━━━━━━━━━━━━━━━━━━┳━━━━━━━━━━━━━━━━━━━━━━━━━━━━━┳━━━━━━━━━━━━━━━━━┓\n",
              "┃\u001b[1m \u001b[0m\u001b[1mLayer (type)                        \u001b[0m\u001b[1m \u001b[0m┃\u001b[1m \u001b[0m\u001b[1mOutput Shape               \u001b[0m\u001b[1m \u001b[0m┃\u001b[1m \u001b[0m\u001b[1m        Param #\u001b[0m\u001b[1m \u001b[0m┃\n",
              "┡━━━━━━━━━━━━━━━━━━━━━━━━━━━━━━━━━━━━━━╇━━━━━━━━━━━━━━━━━━━━━━━━━━━━━╇━━━━━━━━━━━━━━━━━┩\n",
              "│ embedding (\u001b[38;5;33mEmbedding\u001b[0m)                │ (\u001b[38;5;45mNone\u001b[0m, \u001b[38;5;34m100\u001b[0m, \u001b[38;5;34m128\u001b[0m)            │       \u001b[38;5;34m1,280,000\u001b[0m │\n",
              "├──────────────────────────────────────┼─────────────────────────────┼─────────────────┤\n",
              "│ lstm (\u001b[38;5;33mLSTM\u001b[0m)                          │ (\u001b[38;5;45mNone\u001b[0m, \u001b[38;5;34m128\u001b[0m)                 │         \u001b[38;5;34m131,584\u001b[0m │\n",
              "├──────────────────────────────────────┼─────────────────────────────┼─────────────────┤\n",
              "│ dropout (\u001b[38;5;33mDropout\u001b[0m)                    │ (\u001b[38;5;45mNone\u001b[0m, \u001b[38;5;34m128\u001b[0m)                 │               \u001b[38;5;34m0\u001b[0m │\n",
              "├──────────────────────────────────────┼─────────────────────────────┼─────────────────┤\n",
              "│ dense (\u001b[38;5;33mDense\u001b[0m)                        │ (\u001b[38;5;45mNone\u001b[0m, \u001b[38;5;34m64\u001b[0m)                  │           \u001b[38;5;34m8,256\u001b[0m │\n",
              "├──────────────────────────────────────┼─────────────────────────────┼─────────────────┤\n",
              "│ dropout_1 (\u001b[38;5;33mDropout\u001b[0m)                  │ (\u001b[38;5;45mNone\u001b[0m, \u001b[38;5;34m64\u001b[0m)                  │               \u001b[38;5;34m0\u001b[0m │\n",
              "├──────────────────────────────────────┼─────────────────────────────┼─────────────────┤\n",
              "│ dense_1 (\u001b[38;5;33mDense\u001b[0m)                      │ (\u001b[38;5;45mNone\u001b[0m, \u001b[38;5;34m3\u001b[0m)                   │             \u001b[38;5;34m195\u001b[0m │\n",
              "└──────────────────────────────────────┴─────────────────────────────┴─────────────────┘\n"
            ],
            "text/html": [
              "<pre style=\"white-space:pre;overflow-x:auto;line-height:normal;font-family:Menlo,'DejaVu Sans Mono',consolas,'Courier New',monospace\">┏━━━━━━━━━━━━━━━━━━━━━━━━━━━━━━━━━━━━━━┳━━━━━━━━━━━━━━━━━━━━━━━━━━━━━┳━━━━━━━━━━━━━━━━━┓\n",
              "┃<span style=\"font-weight: bold\"> Layer (type)                         </span>┃<span style=\"font-weight: bold\"> Output Shape                </span>┃<span style=\"font-weight: bold\">         Param # </span>┃\n",
              "┡━━━━━━━━━━━━━━━━━━━━━━━━━━━━━━━━━━━━━━╇━━━━━━━━━━━━━━━━━━━━━━━━━━━━━╇━━━━━━━━━━━━━━━━━┩\n",
              "│ embedding (<span style=\"color: #0087ff; text-decoration-color: #0087ff\">Embedding</span>)                │ (<span style=\"color: #00d7ff; text-decoration-color: #00d7ff\">None</span>, <span style=\"color: #00af00; text-decoration-color: #00af00\">100</span>, <span style=\"color: #00af00; text-decoration-color: #00af00\">128</span>)            │       <span style=\"color: #00af00; text-decoration-color: #00af00\">1,280,000</span> │\n",
              "├──────────────────────────────────────┼─────────────────────────────┼─────────────────┤\n",
              "│ lstm (<span style=\"color: #0087ff; text-decoration-color: #0087ff\">LSTM</span>)                          │ (<span style=\"color: #00d7ff; text-decoration-color: #00d7ff\">None</span>, <span style=\"color: #00af00; text-decoration-color: #00af00\">128</span>)                 │         <span style=\"color: #00af00; text-decoration-color: #00af00\">131,584</span> │\n",
              "├──────────────────────────────────────┼─────────────────────────────┼─────────────────┤\n",
              "│ dropout (<span style=\"color: #0087ff; text-decoration-color: #0087ff\">Dropout</span>)                    │ (<span style=\"color: #00d7ff; text-decoration-color: #00d7ff\">None</span>, <span style=\"color: #00af00; text-decoration-color: #00af00\">128</span>)                 │               <span style=\"color: #00af00; text-decoration-color: #00af00\">0</span> │\n",
              "├──────────────────────────────────────┼─────────────────────────────┼─────────────────┤\n",
              "│ dense (<span style=\"color: #0087ff; text-decoration-color: #0087ff\">Dense</span>)                        │ (<span style=\"color: #00d7ff; text-decoration-color: #00d7ff\">None</span>, <span style=\"color: #00af00; text-decoration-color: #00af00\">64</span>)                  │           <span style=\"color: #00af00; text-decoration-color: #00af00\">8,256</span> │\n",
              "├──────────────────────────────────────┼─────────────────────────────┼─────────────────┤\n",
              "│ dropout_1 (<span style=\"color: #0087ff; text-decoration-color: #0087ff\">Dropout</span>)                  │ (<span style=\"color: #00d7ff; text-decoration-color: #00d7ff\">None</span>, <span style=\"color: #00af00; text-decoration-color: #00af00\">64</span>)                  │               <span style=\"color: #00af00; text-decoration-color: #00af00\">0</span> │\n",
              "├──────────────────────────────────────┼─────────────────────────────┼─────────────────┤\n",
              "│ dense_1 (<span style=\"color: #0087ff; text-decoration-color: #0087ff\">Dense</span>)                      │ (<span style=\"color: #00d7ff; text-decoration-color: #00d7ff\">None</span>, <span style=\"color: #00af00; text-decoration-color: #00af00\">3</span>)                   │             <span style=\"color: #00af00; text-decoration-color: #00af00\">195</span> │\n",
              "└──────────────────────────────────────┴─────────────────────────────┴─────────────────┘\n",
              "</pre>\n"
            ]
          },
          "metadata": {}
        },
        {
          "output_type": "display_data",
          "data": {
            "text/plain": [
              "\u001b[1m Total params: \u001b[0m\u001b[38;5;34m1,420,035\u001b[0m (5.42 MB)\n"
            ],
            "text/html": [
              "<pre style=\"white-space:pre;overflow-x:auto;line-height:normal;font-family:Menlo,'DejaVu Sans Mono',consolas,'Courier New',monospace\"><span style=\"font-weight: bold\"> Total params: </span><span style=\"color: #00af00; text-decoration-color: #00af00\">1,420,035</span> (5.42 MB)\n",
              "</pre>\n"
            ]
          },
          "metadata": {}
        },
        {
          "output_type": "display_data",
          "data": {
            "text/plain": [
              "\u001b[1m Trainable params: \u001b[0m\u001b[38;5;34m1,420,035\u001b[0m (5.42 MB)\n"
            ],
            "text/html": [
              "<pre style=\"white-space:pre;overflow-x:auto;line-height:normal;font-family:Menlo,'DejaVu Sans Mono',consolas,'Courier New',monospace\"><span style=\"font-weight: bold\"> Trainable params: </span><span style=\"color: #00af00; text-decoration-color: #00af00\">1,420,035</span> (5.42 MB)\n",
              "</pre>\n"
            ]
          },
          "metadata": {}
        },
        {
          "output_type": "display_data",
          "data": {
            "text/plain": [
              "\u001b[1m Non-trainable params: \u001b[0m\u001b[38;5;34m0\u001b[0m (0.00 B)\n"
            ],
            "text/html": [
              "<pre style=\"white-space:pre;overflow-x:auto;line-height:normal;font-family:Menlo,'DejaVu Sans Mono',consolas,'Courier New',monospace\"><span style=\"font-weight: bold\"> Non-trainable params: </span><span style=\"color: #00af00; text-decoration-color: #00af00\">0</span> (0.00 B)\n",
              "</pre>\n"
            ]
          },
          "metadata": {}
        }
      ]
    },
    {
      "cell_type": "markdown",
      "source": [
        "#### LSTM Model Training"
      ],
      "metadata": {
        "id": "YXcBf3VG2q0a"
      }
    },
    {
      "cell_type": "code",
      "source": [
        "history_1 = model_1.fit(\n",
        "    X_train, y_train,\n",
        "    epochs=100,\n",
        "    batch_size=32,\n",
        "    validation_split=0.2,\n",
        "    callbacks=[early_stopping]\n",
        ")"
      ],
      "metadata": {
        "colab": {
          "base_uri": "https://localhost:8080/"
        },
        "id": "rAaj-2hHx92Y",
        "outputId": "17b63997-eae0-4e8b-93c5-27d1dc388548"
      },
      "execution_count": 24,
      "outputs": [
        {
          "output_type": "stream",
          "name": "stdout",
          "text": [
            "Epoch 1/100\n",
            "\u001b[1m300/300\u001b[0m \u001b[32m━━━━━━━━━━━━━━━━━━━━\u001b[0m\u001b[37m\u001b[0m \u001b[1m68s\u001b[0m 216ms/step - accuracy: 0.3365 - loss: 1.1018 - val_accuracy: 0.3254 - val_loss: 1.0996\n",
            "Epoch 2/100\n",
            "\u001b[1m300/300\u001b[0m \u001b[32m━━━━━━━━━━━━━━━━━━━━\u001b[0m\u001b[37m\u001b[0m \u001b[1m85s\u001b[0m 225ms/step - accuracy: 0.3352 - loss: 1.0993 - val_accuracy: 0.3417 - val_loss: 1.0985\n",
            "Epoch 3/100\n",
            "\u001b[1m300/300\u001b[0m \u001b[32m━━━━━━━━━━━━━━━━━━━━\u001b[0m\u001b[37m\u001b[0m \u001b[1m82s\u001b[0m 226ms/step - accuracy: 0.3354 - loss: 1.0987 - val_accuracy: 0.3417 - val_loss: 1.0980\n",
            "Epoch 4/100\n",
            "\u001b[1m300/300\u001b[0m \u001b[32m━━━━━━━━━━━━━━━━━━━━\u001b[0m\u001b[37m\u001b[0m \u001b[1m64s\u001b[0m 214ms/step - accuracy: 0.3431 - loss: 1.0979 - val_accuracy: 0.3417 - val_loss: 1.0984\n",
            "Epoch 5/100\n",
            "\u001b[1m300/300\u001b[0m \u001b[32m━━━━━━━━━━━━━━━━━━━━\u001b[0m\u001b[37m\u001b[0m \u001b[1m82s\u001b[0m 214ms/step - accuracy: 0.3228 - loss: 1.0983 - val_accuracy: 0.3267 - val_loss: 1.0968\n",
            "Epoch 6/100\n",
            "\u001b[1m300/300\u001b[0m \u001b[32m━━━━━━━━━━━━━━━━━━━━\u001b[0m\u001b[37m\u001b[0m \u001b[1m84s\u001b[0m 221ms/step - accuracy: 0.4132 - loss: 1.0718 - val_accuracy: 0.3613 - val_loss: 1.0928\n",
            "Epoch 7/100\n",
            "\u001b[1m300/300\u001b[0m \u001b[32m━━━━━━━━━━━━━━━━━━━━\u001b[0m\u001b[37m\u001b[0m \u001b[1m66s\u001b[0m 221ms/step - accuracy: 0.4601 - loss: 1.0090 - val_accuracy: 0.8717 - val_loss: 0.4076\n",
            "Epoch 8/100\n",
            "\u001b[1m300/300\u001b[0m \u001b[32m━━━━━━━━━━━━━━━━━━━━\u001b[0m\u001b[37m\u001b[0m \u001b[1m65s\u001b[0m 217ms/step - accuracy: 0.8652 - loss: 0.4348 - val_accuracy: 0.9554 - val_loss: 0.1308\n",
            "Epoch 9/100\n",
            "\u001b[1m300/300\u001b[0m \u001b[32m━━━━━━━━━━━━━━━━━━━━\u001b[0m\u001b[37m\u001b[0m \u001b[1m82s\u001b[0m 218ms/step - accuracy: 0.9585 - loss: 0.1575 - val_accuracy: 0.9604 - val_loss: 0.1252\n",
            "Epoch 10/100\n",
            "\u001b[1m300/300\u001b[0m \u001b[32m━━━━━━━━━━━━━━━━━━━━\u001b[0m\u001b[37m\u001b[0m \u001b[1m92s\u001b[0m 251ms/step - accuracy: 0.9675 - loss: 0.1320 - val_accuracy: 0.9854 - val_loss: 0.0519\n",
            "Epoch 11/100\n",
            "\u001b[1m300/300\u001b[0m \u001b[32m━━━━━━━━━━━━━━━━━━━━\u001b[0m\u001b[37m\u001b[0m \u001b[1m73s\u001b[0m 243ms/step - accuracy: 0.9784 - loss: 0.0891 - val_accuracy: 0.9717 - val_loss: 0.0669\n",
            "Epoch 12/100\n",
            "\u001b[1m300/300\u001b[0m \u001b[32m━━━━━━━━━━━━━━━━━━━━\u001b[0m\u001b[37m\u001b[0m \u001b[1m79s\u001b[0m 233ms/step - accuracy: 0.9796 - loss: 0.0776 - val_accuracy: 0.9883 - val_loss: 0.0348\n",
            "Epoch 13/100\n",
            "\u001b[1m300/300\u001b[0m \u001b[32m━━━━━━━━━━━━━━━━━━━━\u001b[0m\u001b[37m\u001b[0m \u001b[1m68s\u001b[0m 226ms/step - accuracy: 0.9878 - loss: 0.0445 - val_accuracy: 0.9912 - val_loss: 0.0217\n",
            "Epoch 14/100\n",
            "\u001b[1m300/300\u001b[0m \u001b[32m━━━━━━━━━━━━━━━━━━━━\u001b[0m\u001b[37m\u001b[0m \u001b[1m85s\u001b[0m 237ms/step - accuracy: 0.9871 - loss: 0.0423 - val_accuracy: 0.9946 - val_loss: 0.0202\n",
            "Epoch 15/100\n",
            "\u001b[1m300/300\u001b[0m \u001b[32m━━━━━━━━━━━━━━━━━━━━\u001b[0m\u001b[37m\u001b[0m \u001b[1m79s\u001b[0m 227ms/step - accuracy: 0.9844 - loss: 0.0535 - val_accuracy: 0.9983 - val_loss: 0.0073\n",
            "Epoch 16/100\n",
            "\u001b[1m300/300\u001b[0m \u001b[32m━━━━━━━━━━━━━━━━━━━━\u001b[0m\u001b[37m\u001b[0m \u001b[1m82s\u001b[0m 226ms/step - accuracy: 0.9776 - loss: 0.0893 - val_accuracy: 0.9833 - val_loss: 0.0520\n",
            "Epoch 17/100\n",
            "\u001b[1m300/300\u001b[0m \u001b[32m━━━━━━━━━━━━━━━━━━━━\u001b[0m\u001b[37m\u001b[0m \u001b[1m68s\u001b[0m 225ms/step - accuracy: 0.9812 - loss: 0.0634 - val_accuracy: 0.9975 - val_loss: 0.0115\n",
            "Epoch 18/100\n",
            "\u001b[1m300/300\u001b[0m \u001b[32m━━━━━━━━━━━━━━━━━━━━\u001b[0m\u001b[37m\u001b[0m \u001b[1m85s\u001b[0m 237ms/step - accuracy: 0.9930 - loss: 0.0236 - val_accuracy: 0.9996 - val_loss: 0.0043\n",
            "Epoch 19/100\n",
            "\u001b[1m300/300\u001b[0m \u001b[32m━━━━━━━━━━━━━━━━━━━━\u001b[0m\u001b[37m\u001b[0m \u001b[1m80s\u001b[0m 231ms/step - accuracy: 0.9943 - loss: 0.0191 - val_accuracy: 0.9950 - val_loss: 0.0069\n",
            "Epoch 20/100\n",
            "\u001b[1m300/300\u001b[0m \u001b[32m━━━━━━━━━━━━━━━━━━━━\u001b[0m\u001b[37m\u001b[0m \u001b[1m67s\u001b[0m 222ms/step - accuracy: 0.9937 - loss: 0.0236 - val_accuracy: 0.9975 - val_loss: 0.0073\n",
            "Epoch 21/100\n",
            "\u001b[1m300/300\u001b[0m \u001b[32m━━━━━━━━━━━━━━━━━━━━\u001b[0m\u001b[37m\u001b[0m \u001b[1m67s\u001b[0m 222ms/step - accuracy: 0.9944 - loss: 0.0184 - val_accuracy: 0.9987 - val_loss: 0.0046\n",
            "Epoch 22/100\n",
            "\u001b[1m300/300\u001b[0m \u001b[32m━━━━━━━━━━━━━━━━━━━━\u001b[0m\u001b[37m\u001b[0m \u001b[1m81s\u001b[0m 220ms/step - accuracy: 0.9970 - loss: 0.0116 - val_accuracy: 0.9446 - val_loss: 0.1797\n",
            "Epoch 23/100\n",
            "\u001b[1m300/300\u001b[0m \u001b[32m━━━━━━━━━━━━━━━━━━━━\u001b[0m\u001b[37m\u001b[0m \u001b[1m82s\u001b[0m 220ms/step - accuracy: 0.9712 - loss: 0.0896 - val_accuracy: 0.9858 - val_loss: 0.0421\n"
          ]
        }
      ]
    },
    {
      "cell_type": "code",
      "source": [
        "plt.plot(history_1.history['accuracy'], label='Train Accuracy')\n",
        "plt.plot(history_1.history['val_accuracy'], label='Validation Accuracy')\n",
        "plt.xlabel('Epochs')\n",
        "plt.ylabel('Accuracy')\n",
        "plt.legend()\n",
        "plt.title('Training and Validation Accuracy')\n",
        "plt.show()"
      ],
      "metadata": {
        "colab": {
          "base_uri": "https://localhost:8080/",
          "height": 472
        },
        "id": "0fgCozxWyBJo",
        "outputId": "1901ffdb-2973-466b-ced0-68c4abd43ada"
      },
      "execution_count": 25,
      "outputs": [
        {
          "output_type": "display_data",
          "data": {
            "text/plain": [
              "<Figure size 640x480 with 1 Axes>"
            ],
            "image/png": "[encoded data removed]"
          },
          "metadata": {}
        }
      ]
    },
    {
      "cell_type": "markdown",
      "source": [
        "#### LSTM Model Evaluation"
      ],
      "metadata": {
        "id": "8sBnIyjRyIlQ"
      }
    },
    {
      "cell_type": "code",
      "source": [
        "y_pred_1 = model_1.predict(X_test).argmax(axis=1)\n",
        "y_test_classes = y_test.argmax(axis=1)\n",
        "print(\"LSTM Accuracy:\", accuracy_score(y_test_classes, y_pred_1))\n",
        "print(classification_report(y_test_classes, y_pred_1))"
      ],
      "metadata": {
        "colab": {
          "base_uri": "https://localhost:8080/"
        },
        "id": "icaCVYCPyQM5",
        "outputId": "da29ce0f-57d9-49f9-bad4-86747708e84b"
      },
      "execution_count": 26,
      "outputs": [
        {
          "output_type": "stream",
          "name": "stdout",
          "text": [
            "\u001b[1m94/94\u001b[0m \u001b[32m━━━━━━━━━━━━━━━━━━━━\u001b[0m\u001b[37m\u001b[0m \u001b[1m6s\u001b[0m 64ms/step\n",
            "LSTM Accuracy: 1.0\n",
            "              precision    recall  f1-score   support\n",
            "\n",
            "           0       1.00      1.00      1.00      1037\n",
            "           1       1.00      1.00      1.00       970\n",
            "           2       1.00      1.00      1.00       993\n",
            "\n",
            "    accuracy                           1.00      3000\n",
            "   macro avg       1.00      1.00      1.00      3000\n",
            "weighted avg       1.00      1.00      1.00      3000\n",
            "\n"
          ]
        }
      ]
    },
    {
      "cell_type": "code",
      "source": [
        "cm = confusion_matrix(y_test_classes, y_pred_1)\n",
        "ConfusionMatrixDisplay(cm, display_labels=label_encoder.classes_).plot(cmap='Blues')\n",
        "plt.title('Confusion Matrix for LSTM')\n",
        "plt.show()"
      ],
      "metadata": {
        "colab": {
          "base_uri": "https://localhost:8080/",
          "height": 472
        },
        "id": "FlpCImBcyRe5",
        "outputId": "908e3448-7f44-41d5-8179-4ec03ea39694"
      },
      "execution_count": 27,
      "outputs": [
        {
          "output_type": "display_data",
          "data": {
            "text/plain": [
              "<Figure size 640x480 with 2 Axes>"
            ],
            "image/png": "[encoded data removed]"
          },
          "metadata": {}
        }
      ]
    },
    {
      "cell_type": "markdown",
      "source": [
        "#### LSTM Model Inference"
      ],
      "metadata": {
        "id": "wccA-OSA3he3"
      }
    },
    {
      "cell_type": "code",
      "source": [
        "def predict_sentiment(text):\n",
        "    preprocessed_text = preprocess_text(text)\n",
        "    seq = tokenizer.texts_to_sequences([preprocessed_text])\n",
        "    padded_seq = pad_sequences(seq, maxlen=max_len, padding='post')\n",
        "    pred = model_1.predict(padded_seq).argmax(axis=1)\n",
        "    return label_encoder.inverse_transform(pred)\n",
        "\n",
        "print(predict_sentiment(\"Fix your matchmaking, always crossing servers. it's just very unfair because the game is so lag when the opponent is from another server, it's a pity that the player's effort in ranking can be defeated just because that server is crossed.\"))"
      ],
      "metadata": {
        "colab": {
          "base_uri": "https://localhost:8080/"
        },
        "id": "4F2tQFWH3qla",
        "outputId": "eeddc193-8665-4cd1-f48f-0b0d59340530"
      },
      "execution_count": 117,
      "outputs": [
        {
          "output_type": "stream",
          "name": "stdout",
          "text": [
            "\u001b[1m1/1\u001b[0m \u001b[32m━━━━━━━━━━━━━━━━━━━━\u001b[0m\u001b[37m\u001b[0m \u001b[1m0s\u001b[0m 173ms/step\n",
            "['negative']\n"
          ]
        }
      ]
    },
    {
      "cell_type": "code",
      "source": [
        "def predict_sentiment(text):\n",
        "    preprocessed_text = preprocess_text(text)\n",
        "    seq = tokenizer.texts_to_sequences([preprocessed_text])\n",
        "    padded_seq = pad_sequences(seq, maxlen=max_len, padding='post')\n",
        "    pred = model_1.predict(padded_seq).argmax(axis=1)\n",
        "    return label_encoder.inverse_transform(pred)\n",
        "\n",
        "print(predict_sentiment(\"This is a good game. But the connectivity is so bad, always have a high ping.. if i lose because of skill is ok, but lose because connectivity is so annoying..\"))"
      ],
      "metadata": {
        "id": "DvD30P7weSmO",
        "colab": {
          "base_uri": "https://localhost:8080/"
        },
        "outputId": "441fe75e-8ac5-430c-a5d9-3c406629edda"
      },
      "execution_count": 122,
      "outputs": [
        {
          "output_type": "stream",
          "name": "stdout",
          "text": [
            "\u001b[1m1/1\u001b[0m \u001b[32m━━━━━━━━━━━━━━━━━━━━\u001b[0m\u001b[37m\u001b[0m \u001b[1m0s\u001b[0m 111ms/step\n",
            "['neutral']\n"
          ]
        }
      ]
    },
    {
      "cell_type": "code",
      "source": [
        "def predict_sentiment(text):\n",
        "    preprocessed_text = preprocess_text(text)\n",
        "    seq = tokenizer.texts_to_sequences([preprocessed_text])\n",
        "    padded_seq = pad_sequences(seq, maxlen=max_len, padding='post')\n",
        "    pred = model_1.predict(padded_seq).argmax(axis=1)\n",
        "    return label_encoder.inverse_transform(pred)\n",
        "\n",
        "print(predict_sentiment(\"It is nice app I have seen,grapics here in this game is vey good.Heroes,skins and all the battlefields are really marvellous and super.\"))"
      ],
      "metadata": {
        "colab": {
          "base_uri": "https://localhost:8080/"
        },
        "id": "efA4L3cE4UUX",
        "outputId": "6d0db587-5dd8-4d45-eeb1-aa68fd3398f6"
      },
      "execution_count": 119,
      "outputs": [
        {
          "output_type": "stream",
          "name": "stdout",
          "text": [
            "\u001b[1m1/1\u001b[0m \u001b[32m━━━━━━━━━━━━━━━━━━━━\u001b[0m\u001b[37m\u001b[0m \u001b[1m0s\u001b[0m 73ms/step\n",
            "['positive']\n"
          ]
        }
      ]
    },
    {
      "cell_type": "markdown",
      "source": [
        "### Scheme 2: Bi-LSTM"
      ],
      "metadata": {
        "id": "jQhgV8g7d0Mf"
      }
    },
    {
      "cell_type": "markdown",
      "source": [
        "#### Bi-LSTM Model Setup"
      ],
      "metadata": {
        "id": "ILsb-qG4zog_"
      }
    },
    {
      "cell_type": "code",
      "source": [
        "model_2 = Sequential([\n",
        "    Embedding(input_dim=max_words, output_dim=128),\n",
        "    Bidirectional(LSTM(128, return_sequences=False)),\n",
        "    Dropout(0.5),\n",
        "    Dense(64, activation='relu'),\n",
        "    Dropout(0.5),\n",
        "    Dense(3, activation='softmax')\n",
        "])"
      ],
      "metadata": {
        "id": "8M8qdXCKz24A"
      },
      "execution_count": 28,
      "outputs": []
    },
    {
      "cell_type": "code",
      "source": [
        "model_2.compile(optimizer='adam', loss='categorical_crossentropy', metrics=['accuracy'])\n"
      ],
      "metadata": {
        "id": "txA-X2tUz57H"
      },
      "execution_count": 29,
      "outputs": []
    },
    {
      "cell_type": "code",
      "source": [
        "model_2.build(input_shape=(None, max_len))\n",
        "model_2.summary()"
      ],
      "metadata": {
        "colab": {
          "base_uri": "https://localhost:8080/",
          "height": 321
        },
        "id": "OKLaAz--Df-a",
        "outputId": "34ad74cf-fba0-4da0-f8a4-6f42d40306fd"
      },
      "execution_count": 30,
      "outputs": [
        {
          "output_type": "display_data",
          "data": {
            "text/plain": [
              "\u001b[1mModel: \"sequential_1\"\u001b[0m\n"
            ],
            "text/html": [
              "<pre style=\"white-space:pre;overflow-x:auto;line-height:normal;font-family:Menlo,'DejaVu Sans Mono',consolas,'Courier New',monospace\"><span style=\"font-weight: bold\">Model: \"sequential_1\"</span>\n",
              "</pre>\n"
            ]
          },
          "metadata": {}
        },
        {
          "output_type": "display_data",
          "data": {
            "text/plain": [
              "┏━━━━━━━━━━━━━━━━━━━━━━━━━━━━━━━━━━━━━━┳━━━━━━━━━━━━━━━━━━━━━━━━━━━━━┳━━━━━━━━━━━━━━━━━┓\n",
              "┃\u001b[1m \u001b[0m\u001b[1mLayer (type)                        \u001b[0m\u001b[1m \u001b[0m┃\u001b[1m \u001b[0m\u001b[1mOutput Shape               \u001b[0m\u001b[1m \u001b[0m┃\u001b[1m \u001b[0m\u001b[1m        Param #\u001b[0m\u001b[1m \u001b[0m┃\n",
              "┡━━━━━━━━━━━━━━━━━━━━━━━━━━━━━━━━━━━━━━╇━━━━━━━━━━━━━━━━━━━━━━━━━━━━━╇━━━━━━━━━━━━━━━━━┩\n",
              "│ embedding_1 (\u001b[38;5;33mEmbedding\u001b[0m)              │ (\u001b[38;5;45mNone\u001b[0m, \u001b[38;5;34m100\u001b[0m, \u001b[38;5;34m128\u001b[0m)            │       \u001b[38;5;34m1,280,000\u001b[0m │\n",
              "├──────────────────────────────────────┼─────────────────────────────┼─────────────────┤\n",
              "│ bidirectional (\u001b[38;5;33mBidirectional\u001b[0m)        │ (\u001b[38;5;45mNone\u001b[0m, \u001b[38;5;34m256\u001b[0m)                 │         \u001b[38;5;34m263,168\u001b[0m │\n",
              "├──────────────────────────────────────┼─────────────────────────────┼─────────────────┤\n",
              "│ dropout_2 (\u001b[38;5;33mDropout\u001b[0m)                  │ (\u001b[38;5;45mNone\u001b[0m, \u001b[38;5;34m256\u001b[0m)                 │               \u001b[38;5;34m0\u001b[0m │\n",
              "├──────────────────────────────────────┼─────────────────────────────┼─────────────────┤\n",
              "│ dense_2 (\u001b[38;5;33mDense\u001b[0m)                      │ (\u001b[38;5;45mNone\u001b[0m, \u001b[38;5;34m64\u001b[0m)                  │          \u001b[38;5;34m16,448\u001b[0m │\n",
              "├──────────────────────────────────────┼─────────────────────────────┼─────────────────┤\n",
              "│ dropout_3 (\u001b[38;5;33mDropout\u001b[0m)                  │ (\u001b[38;5;45mNone\u001b[0m, \u001b[38;5;34m64\u001b[0m)                  │               \u001b[38;5;34m0\u001b[0m │\n",
              "├──────────────────────────────────────┼─────────────────────────────┼─────────────────┤\n",
              "│ dense_3 (\u001b[38;5;33mDense\u001b[0m)                      │ (\u001b[38;5;45mNone\u001b[0m, \u001b[38;5;34m3\u001b[0m)                   │             \u001b[38;5;34m195\u001b[0m │\n",
              "└──────────────────────────────────────┴─────────────────────────────┴─────────────────┘\n"
            ],
            "text/html": [
              "<pre style=\"white-space:pre;overflow-x:auto;line-height:normal;font-family:Menlo,'DejaVu Sans Mono',consolas,'Courier New',monospace\">┏━━━━━━━━━━━━━━━━━━━━━━━━━━━━━━━━━━━━━━┳━━━━━━━━━━━━━━━━━━━━━━━━━━━━━┳━━━━━━━━━━━━━━━━━┓\n",
              "┃<span style=\"font-weight: bold\"> Layer (type)                         </span>┃<span style=\"font-weight: bold\"> Output Shape                </span>┃<span style=\"font-weight: bold\">         Param # </span>┃\n",
              "┡━━━━━━━━━━━━━━━━━━━━━━━━━━━━━━━━━━━━━━╇━━━━━━━━━━━━━━━━━━━━━━━━━━━━━╇━━━━━━━━━━━━━━━━━┩\n",
              "│ embedding_1 (<span style=\"color: #0087ff; text-decoration-color: #0087ff\">Embedding</span>)              │ (<span style=\"color: #00d7ff; text-decoration-color: #00d7ff\">None</span>, <span style=\"color: #00af00; text-decoration-color: #00af00\">100</span>, <span style=\"color: #00af00; text-decoration-color: #00af00\">128</span>)            │       <span style=\"color: #00af00; text-decoration-color: #00af00\">1,280,000</span> │\n",
              "├──────────────────────────────────────┼─────────────────────────────┼─────────────────┤\n",
              "│ bidirectional (<span style=\"color: #0087ff; text-decoration-color: #0087ff\">Bidirectional</span>)        │ (<span style=\"color: #00d7ff; text-decoration-color: #00d7ff\">None</span>, <span style=\"color: #00af00; text-decoration-color: #00af00\">256</span>)                 │         <span style=\"color: #00af00; text-decoration-color: #00af00\">263,168</span> │\n",
              "├──────────────────────────────────────┼─────────────────────────────┼─────────────────┤\n",
              "│ dropout_2 (<span style=\"color: #0087ff; text-decoration-color: #0087ff\">Dropout</span>)                  │ (<span style=\"color: #00d7ff; text-decoration-color: #00d7ff\">None</span>, <span style=\"color: #00af00; text-decoration-color: #00af00\">256</span>)                 │               <span style=\"color: #00af00; text-decoration-color: #00af00\">0</span> │\n",
              "├──────────────────────────────────────┼─────────────────────────────┼─────────────────┤\n",
              "│ dense_2 (<span style=\"color: #0087ff; text-decoration-color: #0087ff\">Dense</span>)                      │ (<span style=\"color: #00d7ff; text-decoration-color: #00d7ff\">None</span>, <span style=\"color: #00af00; text-decoration-color: #00af00\">64</span>)                  │          <span style=\"color: #00af00; text-decoration-color: #00af00\">16,448</span> │\n",
              "├──────────────────────────────────────┼─────────────────────────────┼─────────────────┤\n",
              "│ dropout_3 (<span style=\"color: #0087ff; text-decoration-color: #0087ff\">Dropout</span>)                  │ (<span style=\"color: #00d7ff; text-decoration-color: #00d7ff\">None</span>, <span style=\"color: #00af00; text-decoration-color: #00af00\">64</span>)                  │               <span style=\"color: #00af00; text-decoration-color: #00af00\">0</span> │\n",
              "├──────────────────────────────────────┼─────────────────────────────┼─────────────────┤\n",
              "│ dense_3 (<span style=\"color: #0087ff; text-decoration-color: #0087ff\">Dense</span>)                      │ (<span style=\"color: #00d7ff; text-decoration-color: #00d7ff\">None</span>, <span style=\"color: #00af00; text-decoration-color: #00af00\">3</span>)                   │             <span style=\"color: #00af00; text-decoration-color: #00af00\">195</span> │\n",
              "└──────────────────────────────────────┴─────────────────────────────┴─────────────────┘\n",
              "</pre>\n"
            ]
          },
          "metadata": {}
        },
        {
          "output_type": "display_data",
          "data": {
            "text/plain": [
              "\u001b[1m Total params: \u001b[0m\u001b[38;5;34m1,559,811\u001b[0m (5.95 MB)\n"
            ],
            "text/html": [
              "<pre style=\"white-space:pre;overflow-x:auto;line-height:normal;font-family:Menlo,'DejaVu Sans Mono',consolas,'Courier New',monospace\"><span style=\"font-weight: bold\"> Total params: </span><span style=\"color: #00af00; text-decoration-color: #00af00\">1,559,811</span> (5.95 MB)\n",
              "</pre>\n"
            ]
          },
          "metadata": {}
        },
        {
          "output_type": "display_data",
          "data": {
            "text/plain": [
              "\u001b[1m Trainable params: \u001b[0m\u001b[38;5;34m1,559,811\u001b[0m (5.95 MB)\n"
            ],
            "text/html": [
              "<pre style=\"white-space:pre;overflow-x:auto;line-height:normal;font-family:Menlo,'DejaVu Sans Mono',consolas,'Courier New',monospace\"><span style=\"font-weight: bold\"> Trainable params: </span><span style=\"color: #00af00; text-decoration-color: #00af00\">1,559,811</span> (5.95 MB)\n",
              "</pre>\n"
            ]
          },
          "metadata": {}
        },
        {
          "output_type": "display_data",
          "data": {
            "text/plain": [
              "\u001b[1m Non-trainable params: \u001b[0m\u001b[38;5;34m0\u001b[0m (0.00 B)\n"
            ],
            "text/html": [
              "<pre style=\"white-space:pre;overflow-x:auto;line-height:normal;font-family:Menlo,'DejaVu Sans Mono',consolas,'Courier New',monospace\"><span style=\"font-weight: bold\"> Non-trainable params: </span><span style=\"color: #00af00; text-decoration-color: #00af00\">0</span> (0.00 B)\n",
              "</pre>\n"
            ]
          },
          "metadata": {}
        }
      ]
    },
    {
      "cell_type": "markdown",
      "source": [
        "#### Bi-LSTM Model Training"
      ],
      "metadata": {
        "id": "xdsApCOg2ykA"
      }
    },
    {
      "cell_type": "code",
      "source": [
        "history_2 = model_2.fit(\n",
        "    X_train, y_train,\n",
        "    epochs=100,\n",
        "    batch_size=32,\n",
        "    validation_split=0.2,\n",
        "    callbacks=[early_stopping]\n",
        ")"
      ],
      "metadata": {
        "colab": {
          "base_uri": "https://localhost:8080/"
        },
        "id": "6hssWEr9z7e6",
        "outputId": "6212df44-59e0-4bb6-fa05-8d5add4abcb0"
      },
      "execution_count": 31,
      "outputs": [
        {
          "output_type": "stream",
          "name": "stdout",
          "text": [
            "Epoch 1/100\n",
            "\u001b[1m300/300\u001b[0m \u001b[32m━━━━━━━━━━━━━━━━━━━━\u001b[0m\u001b[37m\u001b[0m \u001b[1m130s\u001b[0m 411ms/step - accuracy: 0.6257 - loss: 0.7400 - val_accuracy: 0.9942 - val_loss: 0.0150\n",
            "Epoch 2/100\n",
            "\u001b[1m300/300\u001b[0m \u001b[32m━━━━━━━━━━━━━━━━━━━━\u001b[0m\u001b[37m\u001b[0m \u001b[1m135s\u001b[0m 449ms/step - accuracy: 0.9982 - loss: 0.0108 - val_accuracy: 0.9987 - val_loss: 0.0095\n",
            "Epoch 3/100\n",
            "\u001b[1m300/300\u001b[0m \u001b[32m━━━━━━━━━━━━━━━━━━━━\u001b[0m\u001b[37m\u001b[0m \u001b[1m133s\u001b[0m 418ms/step - accuracy: 0.9995 - loss: 0.0044 - val_accuracy: 0.9987 - val_loss: 0.0060\n",
            "Epoch 4/100\n",
            "\u001b[1m300/300\u001b[0m \u001b[32m━━━━━━━━━━━━━━━━━━━━\u001b[0m\u001b[37m\u001b[0m \u001b[1m127s\u001b[0m 422ms/step - accuracy: 1.0000 - loss: 5.5805e-04 - val_accuracy: 0.9987 - val_loss: 0.0028\n",
            "Epoch 5/100\n",
            "\u001b[1m300/300\u001b[0m \u001b[32m━━━━━━━━━━━━━━━━━━━━\u001b[0m\u001b[37m\u001b[0m \u001b[1m126s\u001b[0m 422ms/step - accuracy: 0.9999 - loss: 2.4489e-04 - val_accuracy: 0.9967 - val_loss: 0.0282\n",
            "Epoch 6/100\n",
            "\u001b[1m300/300\u001b[0m \u001b[32m━━━━━━━━━━━━━━━━━━━━\u001b[0m\u001b[37m\u001b[0m \u001b[1m139s\u001b[0m 412ms/step - accuracy: 0.9908 - loss: 0.0376 - val_accuracy: 0.9987 - val_loss: 0.0079\n",
            "Epoch 7/100\n",
            "\u001b[1m300/300\u001b[0m \u001b[32m━━━━━━━━━━━━━━━━━━━━\u001b[0m\u001b[37m\u001b[0m \u001b[1m142s\u001b[0m 412ms/step - accuracy: 1.0000 - loss: 3.5368e-04 - val_accuracy: 0.9987 - val_loss: 0.0086\n",
            "Epoch 8/100\n",
            "\u001b[1m300/300\u001b[0m \u001b[32m━━━━━━━━━━━━━━━━━━━━\u001b[0m\u001b[37m\u001b[0m \u001b[1m142s\u001b[0m 414ms/step - accuracy: 1.0000 - loss: 3.3247e-04 - val_accuracy: 0.9987 - val_loss: 0.0089\n",
            "Epoch 9/100\n",
            "\u001b[1m300/300\u001b[0m \u001b[32m━━━━━━━━━━━━━━━━━━━━\u001b[0m\u001b[37m\u001b[0m \u001b[1m142s\u001b[0m 415ms/step - accuracy: 1.0000 - loss: 9.8186e-05 - val_accuracy: 0.9987 - val_loss: 0.0093\n"
          ]
        }
      ]
    },
    {
      "cell_type": "code",
      "source": [
        "plt.plot(history_2.history['accuracy'], label='Train Accuracy')\n",
        "plt.plot(history_2.history['val_accuracy'], label='Validation Accuracy')\n",
        "plt.xlabel('Epochs')\n",
        "plt.ylabel('Accuracy')\n",
        "plt.legend()\n",
        "plt.title('Training and Validation Accuracy')\n",
        "plt.show()"
      ],
      "metadata": {
        "colab": {
          "base_uri": "https://localhost:8080/",
          "height": 472
        },
        "id": "Fujs5Lwx0A2M",
        "outputId": "fe0d463f-34a5-46c7-cea0-95f115dd5c16"
      },
      "execution_count": 32,
      "outputs": [
        {
          "output_type": "display_data",
          "data": {
            "text/plain": [
              "<Figure size 640x480 with 1 Axes>"
            ],
            "image/png": "[encoded data removed]"
          },
          "metadata": {}
        }
      ]
    },
    {
      "cell_type": "markdown",
      "source": [
        "#### Bi-LSTM Model Evaluation"
      ],
      "metadata": {
        "id": "RtiLeipMzu1y"
      }
    },
    {
      "cell_type": "code",
      "source": [
        "y_pred_2 = model_2.predict(X_test).argmax(axis=1)\n",
        "print(\"Bi-LSTM Accuracy:\", accuracy_score(y_test_classes, y_pred_2))\n",
        "print(classification_report(y_test_classes, y_pred_2))"
      ],
      "metadata": {
        "colab": {
          "base_uri": "https://localhost:8080/"
        },
        "id": "tQxUONIw0DBq",
        "outputId": "6c35d511-81f4-4522-8ca5-90a9793d43b8"
      },
      "execution_count": 33,
      "outputs": [
        {
          "output_type": "stream",
          "name": "stdout",
          "text": [
            "\u001b[1m94/94\u001b[0m \u001b[32m━━━━━━━━━━━━━━━━━━━━\u001b[0m\u001b[37m\u001b[0m \u001b[1m12s\u001b[0m 128ms/step\n",
            "Bi-LSTM Accuracy: 1.0\n",
            "              precision    recall  f1-score   support\n",
            "\n",
            "           0       1.00      1.00      1.00      1037\n",
            "           1       1.00      1.00      1.00       970\n",
            "           2       1.00      1.00      1.00       993\n",
            "\n",
            "    accuracy                           1.00      3000\n",
            "   macro avg       1.00      1.00      1.00      3000\n",
            "weighted avg       1.00      1.00      1.00      3000\n",
            "\n"
          ]
        }
      ]
    },
    {
      "cell_type": "code",
      "source": [
        "cm = confusion_matrix(y_test_classes, y_pred_2)\n",
        "ConfusionMatrixDisplay(cm, display_labels=label_encoder.classes_).plot(cmap='Blues')\n",
        "plt.title('Confusion Matrix for Bi-LSTM')\n",
        "plt.show()"
      ],
      "metadata": {
        "colab": {
          "base_uri": "https://localhost:8080/",
          "height": 472
        },
        "id": "XKuP6VA_0GGL",
        "outputId": "69e1c5dc-8034-4ba0-a146-7d38590b6c26"
      },
      "execution_count": 34,
      "outputs": [
        {
          "output_type": "display_data",
          "data": {
            "text/plain": [
              "<Figure size 640x480 with 2 Axes>"
            ],
            "image/png": "[encoded data removed]"
          },
          "metadata": {}
        }
      ]
    },
    {
      "cell_type": "markdown",
      "source": [
        "#### Bi-LSTM Model Inference"
      ],
      "metadata": {
        "id": "mbUeW1RL3nGQ"
      }
    },
    {
      "cell_type": "code",
      "source": [
        "def predict_sentiment(text):\n",
        "    preprocessed_text = preprocess_text(text)\n",
        "    seq = tokenizer.texts_to_sequences([preprocessed_text])\n",
        "    padded_seq = pad_sequences(seq, maxlen=max_len, padding='post')\n",
        "    pred = model_2.predict(padded_seq).argmax(axis=1)\n",
        "    return label_encoder.inverse_transform(pred)\n",
        "\n",
        "print(predict_sentiment(\"Fix your matchmaking, always crossing servers. it's just very unfair because the game is so lag when the opponent is from another server, it's a pity that the player's effort in ranking can be defeated just because that server is crossed.\"))"
      ],
      "metadata": {
        "colab": {
          "base_uri": "https://localhost:8080/"
        },
        "id": "jF4p4apX3I0V",
        "outputId": "b7b01d77-5c14-4200-dd97-9f5c84e38fbe"
      },
      "execution_count": 108,
      "outputs": [
        {
          "output_type": "stream",
          "name": "stdout",
          "text": [
            "\u001b[1m1/1\u001b[0m \u001b[32m━━━━━━━━━━━━━━━━━━━━\u001b[0m\u001b[37m\u001b[0m \u001b[1m0s\u001b[0m 94ms/step\n",
            "['negative']\n"
          ]
        }
      ]
    },
    {
      "cell_type": "code",
      "source": [
        "def predict_sentiment(text):\n",
        "    preprocessed_text = preprocess_text(text)\n",
        "    seq = tokenizer.texts_to_sequences([preprocessed_text])\n",
        "    padded_seq = pad_sequences(seq, maxlen=max_len, padding='post')\n",
        "    pred = model_2.predict(padded_seq).argmax(axis=1)\n",
        "    return label_encoder.inverse_transform(pred)\n",
        "\n",
        "print(predict_sentiment(\"Not good enough. Poor matchmaking, server lag and bugs. Please improve it as much as good or better just dont paying attention for income or other stuff but give more attention for the player's convenient.\"))"
      ],
      "metadata": {
        "colab": {
          "base_uri": "https://localhost:8080/"
        },
        "id": "sFSidfYH6tZV",
        "outputId": "e8ea6a90-4ad4-42cf-f112-ef8831fca490"
      },
      "execution_count": 109,
      "outputs": [
        {
          "output_type": "stream",
          "name": "stdout",
          "text": [
            "\u001b[1m1/1\u001b[0m \u001b[32m━━━━━━━━━━━━━━━━━━━━\u001b[0m\u001b[37m\u001b[0m \u001b[1m0s\u001b[0m 91ms/step\n",
            "['neutral']\n"
          ]
        }
      ]
    },
    {
      "cell_type": "code",
      "source": [
        "def predict_sentiment(text):\n",
        "    preprocessed_text = preprocess_text(text)\n",
        "    seq = tokenizer.texts_to_sequences([preprocessed_text])\n",
        "    padded_seq = pad_sequences(seq, maxlen=max_len, padding='post')\n",
        "    pred = model_2.predict(padded_seq).argmax(axis=1)\n",
        "    return label_encoder.inverse_transform(pred)\n",
        "\n",
        "print(predict_sentiment(\"Love the game. But when i try out a new hero and don't play as well as i usually do, i get reported for not taking the game seriously, which is very unfair.  \"))"
      ],
      "metadata": {
        "colab": {
          "base_uri": "https://localhost:8080/"
        },
        "id": "sSN4TFMG6wXe",
        "outputId": "b7b586fb-8cd5-4ff9-9841-63d7dee3b642"
      },
      "execution_count": 125,
      "outputs": [
        {
          "output_type": "stream",
          "name": "stdout",
          "text": [
            "\u001b[1m1/1\u001b[0m \u001b[32m━━━━━━━━━━━━━━━━━━━━\u001b[0m\u001b[37m\u001b[0m \u001b[1m0s\u001b[0m 96ms/step\n",
            "['positive']\n"
          ]
        }
      ]
    },
    {
      "cell_type": "markdown",
      "source": [
        "### Scheme 3: Bi-GRU"
      ],
      "metadata": {
        "id": "WcTya-g-eApt"
      }
    },
    {
      "cell_type": "markdown",
      "source": [
        "#### Bi-GRU Model Setup"
      ],
      "metadata": {
        "id": "a-cQ5kDAzy0Y"
      }
    },
    {
      "cell_type": "code",
      "source": [
        "model_3 = Sequential([\n",
        "    Embedding(input_dim=max_words, output_dim=128),\n",
        "    Bidirectional(GRU(128, return_sequences=False)),\n",
        "    Dropout(0.3),\n",
        "    Dense(64, activation='relu'),\n",
        "    Dropout(0.3),\n",
        "    Dense(3, activation='softmax')\n",
        "])"
      ],
      "metadata": {
        "id": "jCyTJkvFeETy"
      },
      "execution_count": 56,
      "outputs": []
    },
    {
      "cell_type": "code",
      "source": [
        "model_3.compile(optimizer='adam', loss='categorical_crossentropy', metrics=['accuracy'])\n"
      ],
      "metadata": {
        "id": "_RAIb3N-eGN5"
      },
      "execution_count": 57,
      "outputs": []
    },
    {
      "cell_type": "code",
      "source": [
        "model_3.build(input_shape=(None, max_len))\n",
        "model_3.summary()"
      ],
      "metadata": {
        "colab": {
          "base_uri": "https://localhost:8080/",
          "height": 321
        },
        "id": "Ts05-TnpDlwN",
        "outputId": "213c2ad5-1107-4071-cbe5-5afba33284b7"
      },
      "execution_count": 58,
      "outputs": [
        {
          "output_type": "display_data",
          "data": {
            "text/plain": [
              "\u001b[1mModel: \"sequential_4\"\u001b[0m\n"
            ],
            "text/html": [
              "<pre style=\"white-space:pre;overflow-x:auto;line-height:normal;font-family:Menlo,'DejaVu Sans Mono',consolas,'Courier New',monospace\"><span style=\"font-weight: bold\">Model: \"sequential_4\"</span>\n",
              "</pre>\n"
            ]
          },
          "metadata": {}
        },
        {
          "output_type": "display_data",
          "data": {
            "text/plain": [
              "┏━━━━━━━━━━━━━━━━━━━━━━━━━━━━━━━━━━━━━━┳━━━━━━━━━━━━━━━━━━━━━━━━━━━━━┳━━━━━━━━━━━━━━━━━┓\n",
              "┃\u001b[1m \u001b[0m\u001b[1mLayer (type)                        \u001b[0m\u001b[1m \u001b[0m┃\u001b[1m \u001b[0m\u001b[1mOutput Shape               \u001b[0m\u001b[1m \u001b[0m┃\u001b[1m \u001b[0m\u001b[1m        Param #\u001b[0m\u001b[1m \u001b[0m┃\n",
              "┡━━━━━━━━━━━━━━━━━━━━━━━━━━━━━━━━━━━━━━╇━━━━━━━━━━━━━━━━━━━━━━━━━━━━━╇━━━━━━━━━━━━━━━━━┩\n",
              "│ embedding_6 (\u001b[38;5;33mEmbedding\u001b[0m)              │ (\u001b[38;5;45mNone\u001b[0m, \u001b[38;5;34m100\u001b[0m, \u001b[38;5;34m128\u001b[0m)            │       \u001b[38;5;34m1,280,000\u001b[0m │\n",
              "├──────────────────────────────────────┼─────────────────────────────┼─────────────────┤\n",
              "│ bidirectional_1 (\u001b[38;5;33mBidirectional\u001b[0m)      │ (\u001b[38;5;45mNone\u001b[0m, \u001b[38;5;34m256\u001b[0m)                 │         \u001b[38;5;34m198,144\u001b[0m │\n",
              "├──────────────────────────────────────┼─────────────────────────────┼─────────────────┤\n",
              "│ dropout_10 (\u001b[38;5;33mDropout\u001b[0m)                 │ (\u001b[38;5;45mNone\u001b[0m, \u001b[38;5;34m256\u001b[0m)                 │               \u001b[38;5;34m0\u001b[0m │\n",
              "├──────────────────────────────────────┼─────────────────────────────┼─────────────────┤\n",
              "│ dense_8 (\u001b[38;5;33mDense\u001b[0m)                      │ (\u001b[38;5;45mNone\u001b[0m, \u001b[38;5;34m64\u001b[0m)                  │          \u001b[38;5;34m16,448\u001b[0m │\n",
              "├──────────────────────────────────────┼─────────────────────────────┼─────────────────┤\n",
              "│ dropout_11 (\u001b[38;5;33mDropout\u001b[0m)                 │ (\u001b[38;5;45mNone\u001b[0m, \u001b[38;5;34m64\u001b[0m)                  │               \u001b[38;5;34m0\u001b[0m │\n",
              "├──────────────────────────────────────┼─────────────────────────────┼─────────────────┤\n",
              "│ dense_9 (\u001b[38;5;33mDense\u001b[0m)                      │ (\u001b[38;5;45mNone\u001b[0m, \u001b[38;5;34m3\u001b[0m)                   │             \u001b[38;5;34m195\u001b[0m │\n",
              "└──────────────────────────────────────┴─────────────────────────────┴─────────────────┘\n"
            ],
            "text/html": [
              "<pre style=\"white-space:pre;overflow-x:auto;line-height:normal;font-family:Menlo,'DejaVu Sans Mono',consolas,'Courier New',monospace\">┏━━━━━━━━━━━━━━━━━━━━━━━━━━━━━━━━━━━━━━┳━━━━━━━━━━━━━━━━━━━━━━━━━━━━━┳━━━━━━━━━━━━━━━━━┓\n",
              "┃<span style=\"font-weight: bold\"> Layer (type)                         </span>┃<span style=\"font-weight: bold\"> Output Shape                </span>┃<span style=\"font-weight: bold\">         Param # </span>┃\n",
              "┡━━━━━━━━━━━━━━━━━━━━━━━━━━━━━━━━━━━━━━╇━━━━━━━━━━━━━━━━━━━━━━━━━━━━━╇━━━━━━━━━━━━━━━━━┩\n",
              "│ embedding_6 (<span style=\"color: #0087ff; text-decoration-color: #0087ff\">Embedding</span>)              │ (<span style=\"color: #00d7ff; text-decoration-color: #00d7ff\">None</span>, <span style=\"color: #00af00; text-decoration-color: #00af00\">100</span>, <span style=\"color: #00af00; text-decoration-color: #00af00\">128</span>)            │       <span style=\"color: #00af00; text-decoration-color: #00af00\">1,280,000</span> │\n",
              "├──────────────────────────────────────┼─────────────────────────────┼─────────────────┤\n",
              "│ bidirectional_1 (<span style=\"color: #0087ff; text-decoration-color: #0087ff\">Bidirectional</span>)      │ (<span style=\"color: #00d7ff; text-decoration-color: #00d7ff\">None</span>, <span style=\"color: #00af00; text-decoration-color: #00af00\">256</span>)                 │         <span style=\"color: #00af00; text-decoration-color: #00af00\">198,144</span> │\n",
              "├──────────────────────────────────────┼─────────────────────────────┼─────────────────┤\n",
              "│ dropout_10 (<span style=\"color: #0087ff; text-decoration-color: #0087ff\">Dropout</span>)                 │ (<span style=\"color: #00d7ff; text-decoration-color: #00d7ff\">None</span>, <span style=\"color: #00af00; text-decoration-color: #00af00\">256</span>)                 │               <span style=\"color: #00af00; text-decoration-color: #00af00\">0</span> │\n",
              "├──────────────────────────────────────┼─────────────────────────────┼─────────────────┤\n",
              "│ dense_8 (<span style=\"color: #0087ff; text-decoration-color: #0087ff\">Dense</span>)                      │ (<span style=\"color: #00d7ff; text-decoration-color: #00d7ff\">None</span>, <span style=\"color: #00af00; text-decoration-color: #00af00\">64</span>)                  │          <span style=\"color: #00af00; text-decoration-color: #00af00\">16,448</span> │\n",
              "├──────────────────────────────────────┼─────────────────────────────┼─────────────────┤\n",
              "│ dropout_11 (<span style=\"color: #0087ff; text-decoration-color: #0087ff\">Dropout</span>)                 │ (<span style=\"color: #00d7ff; text-decoration-color: #00d7ff\">None</span>, <span style=\"color: #00af00; text-decoration-color: #00af00\">64</span>)                  │               <span style=\"color: #00af00; text-decoration-color: #00af00\">0</span> │\n",
              "├──────────────────────────────────────┼─────────────────────────────┼─────────────────┤\n",
              "│ dense_9 (<span style=\"color: #0087ff; text-decoration-color: #0087ff\">Dense</span>)                      │ (<span style=\"color: #00d7ff; text-decoration-color: #00d7ff\">None</span>, <span style=\"color: #00af00; text-decoration-color: #00af00\">3</span>)                   │             <span style=\"color: #00af00; text-decoration-color: #00af00\">195</span> │\n",
              "└──────────────────────────────────────┴─────────────────────────────┴─────────────────┘\n",
              "</pre>\n"
            ]
          },
          "metadata": {}
        },
        {
          "output_type": "display_data",
          "data": {
            "text/plain": [
              "\u001b[1m Total params: \u001b[0m\u001b[38;5;34m1,494,787\u001b[0m (5.70 MB)\n"
            ],
            "text/html": [
              "<pre style=\"white-space:pre;overflow-x:auto;line-height:normal;font-family:Menlo,'DejaVu Sans Mono',consolas,'Courier New',monospace\"><span style=\"font-weight: bold\"> Total params: </span><span style=\"color: #00af00; text-decoration-color: #00af00\">1,494,787</span> (5.70 MB)\n",
              "</pre>\n"
            ]
          },
          "metadata": {}
        },
        {
          "output_type": "display_data",
          "data": {
            "text/plain": [
              "\u001b[1m Trainable params: \u001b[0m\u001b[38;5;34m1,494,787\u001b[0m (5.70 MB)\n"
            ],
            "text/html": [
              "<pre style=\"white-space:pre;overflow-x:auto;line-height:normal;font-family:Menlo,'DejaVu Sans Mono',consolas,'Courier New',monospace\"><span style=\"font-weight: bold\"> Trainable params: </span><span style=\"color: #00af00; text-decoration-color: #00af00\">1,494,787</span> (5.70 MB)\n",
              "</pre>\n"
            ]
          },
          "metadata": {}
        },
        {
          "output_type": "display_data",
          "data": {
            "text/plain": [
              "\u001b[1m Non-trainable params: \u001b[0m\u001b[38;5;34m0\u001b[0m (0.00 B)\n"
            ],
            "text/html": [
              "<pre style=\"white-space:pre;overflow-x:auto;line-height:normal;font-family:Menlo,'DejaVu Sans Mono',consolas,'Courier New',monospace\"><span style=\"font-weight: bold\"> Non-trainable params: </span><span style=\"color: #00af00; text-decoration-color: #00af00\">0</span> (0.00 B)\n",
              "</pre>\n"
            ]
          },
          "metadata": {}
        }
      ]
    },
    {
      "cell_type": "markdown",
      "source": [
        "#### Bi-GRU Model Training"
      ],
      "metadata": {
        "id": "V6AN5SoB3BzM"
      }
    },
    {
      "cell_type": "code",
      "source": [
        "history_3 = model_3.fit(\n",
        "    X_train, y_train,\n",
        "    epochs=100,\n",
        "    batch_size=32,\n",
        "    validation_split=0.2,\n",
        "    callbacks=[early_stopping]\n",
        ")"
      ],
      "metadata": {
        "colab": {
          "base_uri": "https://localhost:8080/"
        },
        "id": "cqBuhblP0Zty",
        "outputId": "9a39b5e8-3ec5-4061-c2c3-f244ca91e709"
      },
      "execution_count": 59,
      "outputs": [
        {
          "output_type": "stream",
          "name": "stdout",
          "text": [
            "Epoch 1/100\n",
            "\u001b[1m300/300\u001b[0m \u001b[32m━━━━━━━━━━━━━━━━━━━━\u001b[0m\u001b[37m\u001b[0m \u001b[1m106s\u001b[0m 334ms/step - accuracy: 0.6983 - loss: 0.5973 - val_accuracy: 0.9987 - val_loss: 0.0066\n",
            "Epoch 2/100\n",
            "\u001b[1m300/300\u001b[0m \u001b[32m━━━━━━━━━━━━━━━━━━━━\u001b[0m\u001b[37m\u001b[0m \u001b[1m139s\u001b[0m 325ms/step - accuracy: 0.9999 - loss: 0.0012 - val_accuracy: 0.9987 - val_loss: 0.0097\n",
            "Epoch 3/100\n",
            "\u001b[1m300/300\u001b[0m \u001b[32m━━━━━━━━━━━━━━━━━━━━\u001b[0m\u001b[37m\u001b[0m \u001b[1m110s\u001b[0m 365ms/step - accuracy: 1.0000 - loss: 2.1966e-04 - val_accuracy: 0.9987 - val_loss: 0.0092\n",
            "Epoch 4/100\n",
            "\u001b[1m300/300\u001b[0m \u001b[32m━━━━━━━━━━━━━━━━━━━━\u001b[0m\u001b[37m\u001b[0m \u001b[1m135s\u001b[0m 341ms/step - accuracy: 1.0000 - loss: 2.9586e-05 - val_accuracy: 0.9992 - val_loss: 0.0089\n",
            "Epoch 5/100\n",
            "\u001b[1m300/300\u001b[0m \u001b[32m━━━━━━━━━━━━━━━━━━━━\u001b[0m\u001b[37m\u001b[0m \u001b[1m109s\u001b[0m 365ms/step - accuracy: 1.0000 - loss: 2.6897e-05 - val_accuracy: 0.9992 - val_loss: 0.0091\n"
          ]
        }
      ]
    },
    {
      "cell_type": "code",
      "source": [
        "plt.plot(history_3.history['accuracy'], label='Train Accuracy')\n",
        "plt.plot(history_3.history['val_accuracy'], label='Validation Accuracy')\n",
        "plt.xlabel('Epochs')\n",
        "plt.ylabel('Accuracy')\n",
        "plt.legend()\n",
        "plt.title('Training and Validation Accuracy')\n",
        "plt.show()"
      ],
      "metadata": {
        "colab": {
          "base_uri": "https://localhost:8080/",
          "height": 472
        },
        "id": "naiSjDbS0bLG",
        "outputId": "be96c388-ea9a-4c00-ea78-9ef7337064c7"
      },
      "execution_count": 60,
      "outputs": [
        {
          "output_type": "display_data",
          "data": {
            "text/plain": [
              "<Figure size 640x480 with 1 Axes>"
            ],
            "image/png": "[encoded data removed]"
          },
          "metadata": {}
        }
      ]
    },
    {
      "cell_type": "markdown",
      "source": [
        "#### Bi-GRU Model Evaluation"
      ],
      "metadata": {
        "id": "FtF9ZBVsz0U1"
      }
    },
    {
      "cell_type": "code",
      "source": [
        "y_pred_3 = model_3.predict(X_test).argmax(axis=1)\n",
        "print(\"Bi-GRU Accuracy:\", accuracy_score(y_test_classes, y_pred_3))\n",
        "print(classification_report(y_test_classes, y_pred_3))"
      ],
      "metadata": {
        "colab": {
          "base_uri": "https://localhost:8080/"
        },
        "id": "ZeFb2cltz2Ny",
        "outputId": "1656c261-3af9-43ee-c9af-56891ca046d9"
      },
      "execution_count": 63,
      "outputs": [
        {
          "output_type": "stream",
          "name": "stdout",
          "text": [
            "\u001b[1m94/94\u001b[0m \u001b[32m━━━━━━━━━━━━━━━━━━━━\u001b[0m\u001b[37m\u001b[0m \u001b[1m5s\u001b[0m 53ms/step\n",
            "Bi-GRU Accuracy: 1.0\n",
            "              precision    recall  f1-score   support\n",
            "\n",
            "           0       1.00      1.00      1.00      1037\n",
            "           1       1.00      1.00      1.00       970\n",
            "           2       1.00      1.00      1.00       993\n",
            "\n",
            "    accuracy                           1.00      3000\n",
            "   macro avg       1.00      1.00      1.00      3000\n",
            "weighted avg       1.00      1.00      1.00      3000\n",
            "\n"
          ]
        }
      ]
    },
    {
      "cell_type": "code",
      "source": [
        "cm = confusion_matrix(y_test_classes, y_pred_3)\n",
        "ConfusionMatrixDisplay(cm, display_labels=label_encoder.classes_).plot(cmap='Blues')\n",
        "plt.title('Confusion Matrix for GRU')\n",
        "plt.show()"
      ],
      "metadata": {
        "colab": {
          "base_uri": "https://localhost:8080/",
          "height": 472
        },
        "id": "MrDp5tB90dvR",
        "outputId": "d7aebb04-0a28-41dd-dab5-abe1ccd68266"
      },
      "execution_count": 64,
      "outputs": [
        {
          "output_type": "display_data",
          "data": {
            "text/plain": [
              "<Figure size 640x480 with 2 Axes>"
            ],
            "image/png": "[encoded data removed]"
          },
          "metadata": {}
        }
      ]
    },
    {
      "cell_type": "markdown",
      "source": [
        "#### Bi-GRU Model Inference"
      ],
      "metadata": {
        "id": "dbsoiN5BA_3D"
      }
    },
    {
      "cell_type": "code",
      "source": [
        "def predict_sentiment(text):\n",
        "    preprocessed_text = preprocess_text(text)\n",
        "    seq = tokenizer.texts_to_sequences([preprocessed_text])\n",
        "    padded_seq = pad_sequences(seq, maxlen=max_len, padding='post')\n",
        "    pred = model_3.predict(padded_seq).argmax(axis=1)\n",
        "    return label_encoder.inverse_transform(pred)\n",
        "\n",
        "print(predict_sentiment(\"Fix your matchmaking, always crossing servers. it's just very unfair because the game is so lag when the opponent is from another server, it's a pity that the player's effort in ranking can be defeated just because that server is crossed.\"))"
      ],
      "metadata": {
        "colab": {
          "base_uri": "https://localhost:8080/"
        },
        "id": "S4DeB43-3Jpm",
        "outputId": "a2652cd4-984a-4d25-99e1-e4200d8d96a0"
      },
      "execution_count": 111,
      "outputs": [
        {
          "output_type": "stream",
          "name": "stdout",
          "text": [
            "\u001b[1m1/1\u001b[0m \u001b[32m━━━━━━━━━━━━━━━━━━━━\u001b[0m\u001b[37m\u001b[0m \u001b[1m0s\u001b[0m 203ms/step\n",
            "['negative']\n"
          ]
        }
      ]
    },
    {
      "cell_type": "code",
      "source": [
        "def predict_sentiment(text):\n",
        "    preprocessed_text = preprocess_text(text)\n",
        "    seq = tokenizer.texts_to_sequences([preprocessed_text])\n",
        "    padded_seq = pad_sequences(seq, maxlen=max_len, padding='post')\n",
        "    pred = model_3.predict(padded_seq).argmax(axis=1)\n",
        "    return label_encoder.inverse_transform(pred)\n",
        "\n",
        "print(predict_sentiment(\"Not good enough. Poor matchmaking, server lag and bugs. Please improve it as much as good or better just dont paying attention for income or other stuff but give more attention for the player's convenient.\"))"
      ],
      "metadata": {
        "colab": {
          "base_uri": "https://localhost:8080/"
        },
        "id": "ht_MJwr3622f",
        "outputId": "7be8f044-97c0-4eb7-f673-714d1704e981"
      },
      "execution_count": 112,
      "outputs": [
        {
          "output_type": "stream",
          "name": "stdout",
          "text": [
            "\u001b[1m1/1\u001b[0m \u001b[32m━━━━━━━━━━━━━━━━━━━━\u001b[0m\u001b[37m\u001b[0m \u001b[1m0s\u001b[0m 181ms/step\n",
            "['neutral']\n"
          ]
        }
      ]
    },
    {
      "cell_type": "code",
      "source": [
        "def predict_sentiment(text):\n",
        "    preprocessed_text = preprocess_text(text)\n",
        "    seq = tokenizer.texts_to_sequences([preprocessed_text])\n",
        "    padded_seq = pad_sequences(seq, maxlen=max_len, padding='post')\n",
        "    pred = model_3.predict(padded_seq).argmax(axis=1)\n",
        "    return label_encoder.inverse_transform(pred)\n",
        "\n",
        "print(predict_sentiment(\"Fun and all but most characters are extremely overpriced for how little currency you get from matches and most characters are also extremely unbalanced, but if you look past that the games pretty fun.\"))"
      ],
      "metadata": {
        "colab": {
          "base_uri": "https://localhost:8080/"
        },
        "id": "8i14QHz17X9p",
        "outputId": "89d3e520-ce7a-4ab4-f58c-26704379ef1d"
      },
      "execution_count": 123,
      "outputs": [
        {
          "output_type": "stream",
          "name": "stdout",
          "text": [
            "\u001b[1m1/1\u001b[0m \u001b[32m━━━━━━━━━━━━━━━━━━━━\u001b[0m\u001b[37m\u001b[0m \u001b[1m0s\u001b[0m 117ms/step\n",
            "['positive']\n"
          ]
        }
      ]
    },
    {
      "cell_type": "markdown",
      "source": [
        "## Requirements"
      ],
      "metadata": {
        "id": "p4968O1QBFeW"
      }
    },
    {
      "cell_type": "code",
      "source": [
        "pip freeze > requirements.txt"
      ],
      "metadata": {
        "id": "8HRWBpP__wkH"
      },
      "execution_count": 129,
      "outputs": []
    }
  ]
}